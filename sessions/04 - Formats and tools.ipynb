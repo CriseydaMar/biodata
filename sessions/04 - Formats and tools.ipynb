{
 "cells": [
  {
   "cell_type": "markdown",
   "metadata": {},
   "source": [
    "# Common formats"
   ]
  },
  {
   "cell_type": "markdown",
   "metadata": {},
   "source": [
    "## Sequence formats"
   ]
  },
  {
   "cell_type": "markdown",
   "metadata": {},
   "source": [
    "\n",
    "### `fasta`: plain text records that contain header and sequence (nucleic acid or protein)"
   ]
  },
  {
   "cell_type": "code",
   "execution_count": 1,
   "metadata": {},
   "outputs": [
    {
     "name": "stdout",
     "output_type": "stream",
     "text": [
      ">ROSE1\r\n",
      "GCCGCCGAGAGGUGGCGUCCCCGACGCCUCAUGGGUCGGGAACGACUGAGACGGGCACCG\r\n",
      "GUCGUGUCCGGUGCCGCUCGUAUCCAUUUUGCUCCUUGGAGGAUUUGGCUAUGCGCA\r\n"
     ]
    }
   ],
   "source": [
    "cat ../data/rose.fa"
   ]
  },
  {
   "cell_type": "code",
   "execution_count": 2,
   "metadata": {
    "scrolled": true
   },
   "outputs": [
    {
     "name": "stdout",
     "output_type": "stream",
     "text": [
      ">NODE_1667_length_78_cov_19440_ID_3333\r\n",
      "AGTGACGCTAATGATGCCTACAATGCCCCGGAGACTGGGCTGTGTAGGTGCGTTCGCCTC\r\n",
      "CAGCTATCATCGTCCGGG\r\n",
      ">NODE_1664_length_78_cov_14158.5_ID_3327\r\n",
      "GCTGCAGATGGCCGCCGCCTTCGAGCACTTCAACGAGGTGCATCCGCACTCGGCGCTGAA\r\n",
      "GATGAAATCACCCGGAAA\r\n",
      ">NODE_1663_length_79_cov_10190.5_ID_3325\r\n",
      "CGAGGTGCATCCGCACTCGGCGCTGAAGATGAAATCACCCGGAGAGTTAAGGCAGCATCG\r\n",
      "TGCCTCCCCACAGGGGAGA\r\n",
      ">NODE_1661_length_80_cov_11498_ID_3321\r\n"
     ]
    }
   ],
   "source": [
    "head ../data/contigs.fasta"
   ]
  },
  {
   "cell_type": "markdown",
   "metadata": {},
   "source": [
    "### `fastq`: plain text records that contain HTS sequence reads and associated quality scores"
   ]
  },
  {
   "cell_type": "code",
   "execution_count": 3,
   "metadata": {},
   "outputs": [
    {
     "name": "stdout",
     "output_type": "stream",
     "text": [
      "@NS500159:12:H2FJ5AFXX:1:11101:12552:1058 1:N:0:1\r\n",
      "NCACTNCATCGAGTGCAAAAAGATGGCGGATGCACTGCCAACCAGCATGGCAATTGCAATGCAGATAGCACGCCAGCGACCTAGATAGGTCAGCGCAGCAAGCTGGTCATGGAGGTGGAAACGTGGCTTCATCTGTACAACGAGTTAGAT\r\n",
      "+\r\n",
      "#<<<.#FFFFFAFFFF.AA7FAF7AFFAFFF<FA<<A.F.A<FF.FA<FAF..F<AFF<AAF...<<.<F77A<<FFA<.AF.AFF.<.AF.7<7<<7<F<F7FF<A..F<F.<FA...<<<.7.F<FF7FA<A...<7.<<.7FF77.<\r\n",
      "@NS500159:12:H2FJ5AFXX:1:11101:6058:1058 1:N:0:1\r\n",
      "NCTAANGAATGATTGTAGTCCTCACACCACTCAAACGTCAGCTTATGGCGGCGGATTCAGCCGGTCGATGCAACACACTATGACACGGCCCAGGCCGAAGGAGTGCTGCAGATGGCCGCCGCCATCGAGAACATCCACGCGGAGCAACCC\r\n",
      "+\r\n",
      "#..7A#F<F7FFFF.AAF)FFFF.F)FF.7F.)<FFFFF)77F)..FFFF.FFFFFF<..F<F.)A<.FF..FFA.<F.AF7.A.7)<FAA.F7FA.AAF<..F7F<.FF..F7.FAFFAF.A.A7..AA...7<<))<F7F77A.)77)\r\n",
      "@NS500159:12:H2FJ5AFXX:1:11101:24977:1060 1:N:0:1\r\n",
      "NTGCANCACACTATGACACGGCCCAGGCCGAAGGAGTGCTGCAGATGGCCGCCGCCTTCGAGCACTTCAACGAGGTGCATCCGCACTCGGCGCTGAAGCTGAAATCACCCGGAGAGTTAAGGCAGCATCGTGCCTCCCCACAGGGGCGTTA\r\n",
      "\r\n",
      "gzip: stdout: Broken pipe\r\n"
     ]
    }
   ],
   "source": [
    "zcat ../data/BJ-HSR1_R1.fastq.gz | head"
   ]
  },
  {
   "cell_type": "markdown",
   "metadata": {},
   "source": [
    "### Quality scores\n",
    "\n",
    "$$Q_{phred}=-10log_{10}(e)$$\n",
    "\n",
    "where:\n",
    "\n",
    "- $Q_{phred}$ - quality score\n",
    "- `e` - probability of a base being called wrong\n",
    "\n",
    "How to encode it to text?\n",
    "\n",
    "$Q_{phred} + 33$\n",
    "\n",
    "```  \n",
    "LLLLLLLLLLLLLLLLLLLLLLLLLLLLLLLLLLLLLLLLLL................................................. \n",
    "!\"#$%&'()*+,-./0123456789:;<=>?@ABCDEFGHIJKLMNOPQRSTUVWXYZ[\\]^_`abcdefghijklmnopqrstuvwxyz{|}~\n",
    "|                         |    |        |                              |                     |\n",
    "33                        59   64       73                            104                   126\n",
    " 0........................26...31.......40                                \n",
    "```"
   ]
  },
  {
   "cell_type": "markdown",
   "metadata": {},
   "source": [
    "### Header\n",
    "\n",
    "`@NS500159:12:H2FJ5AFXX:1:11101:12552:1058 1:N:0:1`:\n",
    "\n",
    "- `@NS500159` - machine id\n",
    "- `12` - run number\n",
    "- `H2FJ5AFXX` - flowcell id\n",
    "- `1` - lane\n",
    "- `11101` - tile number\n",
    "- `12552:1058` - `x` and `y` coordinates\n",
    "- `1` - read 1 or 2 (for paire ends)\n",
    "- `N` - filtered (Y) or not (N)\n",
    "- `0` - always `0` for HiSeq and NextSeq\n",
    "- `1` - sample no from the sample sheet\n",
    "\n"
   ]
  },
  {
   "cell_type": "markdown",
   "metadata": {},
   "source": [
    "### `genebank`: similar to `fasta` but allows annotations (metadata). \n",
    "\n",
    "Old and busted. No standard, very buggy. Very bad format!"
   ]
  },
  {
   "cell_type": "markdown",
   "metadata": {},
   "source": [
    "## Alignment formats"
   ]
  },
  {
   "cell_type": "markdown",
   "metadata": {},
   "source": [
    "### `sam` plain text records that contain read and alignment info"
   ]
  },
  {
   "cell_type": "markdown",
   "metadata": {},
   "source": [
    "Header lines start with `@` and contain metadata: reference sequences names, lengths, aligner, etc.\n",
    "\n",
    "Each alignment record contains 11 mandatory fields:\n",
    "\n",
    "- `QNAME` - query template name (think `header` from `fastq` file)\n",
    "- `FLAG` - bitwise flag (more on it in a moment)\n",
    "- `RNAME` - reference sequence name (e.g. `chr1`)\n",
    "- `POS` - 1-based left-most mapping position\n",
    "- `MAPQ` - mapping quality (think uniqueness of the mapping)\n",
    "- `CIGAR` - details of the mapping (match/mismatch/indel/clipping etc)\n",
    "- `RNEXT` - reference sequence name for the pair (mate)\n",
    "- `PNEXT` - mapping position for the pair (mate)\n",
    "- `TLEN` - template (query) length\n",
    "- `SEQ` - (aligned) segment sequence (not necessarily entire query sequence)\n",
    "- `QUAL` - quality, as in `fastq`"
   ]
  },
  {
   "cell_type": "markdown",
   "metadata": {},
   "source": [
    "### `FLAG` field\n",
    "\n",
    "This is possibly the most important field in practical terms.\n",
    "\n",
    "- `1 0x1` template having multiple segments in sequencing\n",
    "- `2 0x2` each segment properly aligned according to the aligner\n",
    "- **`4 0x4` segment unmapped**\n",
    "- **`8 0x8` next segment in the template unmapped**\n",
    "- `16 0x10` SEQ being reverse complemented\n",
    "- `32 0x20` SEQ of the next segment in the template being reverse complemented\n",
    "- `64 0x40` the first segment in the template\n",
    "- `128 0x80` the last segment in the template\n",
    "- `256 0x100` secondary alignment\n",
    "- `512 0x200` not passing filters, such as platform/vendor quality controls\n",
    "- `1024 0x400` PCR or optical duplicate\n",
    "- `2048 0x800` supplementary alignment"
   ]
  },
  {
   "cell_type": "markdown",
   "metadata": {},
   "source": [
    "### `bam` binary (compressed) form of `sam`"
   ]
  },
  {
   "cell_type": "markdown",
   "metadata": {},
   "source": [
    "Same as `sam` but compresses and therefore is not directly readable. But because of the compression efficiency, it is the preferred way of storing alignment data."
   ]
  },
  {
   "cell_type": "markdown",
   "metadata": {},
   "source": [
    "You don't usually work with these directly, rather they are produced as intermediate results that get processed further to yield biologically relevant insights.\n",
    "\n",
    "These are result of any alignment to reference you perform."
   ]
  },
  {
   "cell_type": "markdown",
   "metadata": {},
   "source": [
    "### `pileup` tab delimited; records contain aggregate alignment data per reference position\n",
    "\n",
    "- reference name\n",
    "- reference position\n",
    "- reference base\n",
    "- read depth at this position\n",
    "- read bases (total=read depth):\n",
    "    - `.` match on the forward strand\n",
    "    - `,` match on the reverse strand\n",
    "    - `ACTGN` mismatch on forward strand\n",
    "    - `actgn` mismatch on reverse strand\n",
    "    - `+|-[0-9]ACTGNactgn` insertion | deletion\n",
    "    - `^` start of the read segment\n",
    "    - `$` end of the read segment\n",
    "- read base qualities"
   ]
  },
  {
   "cell_type": "markdown",
   "metadata": {},
   "source": [
    "## Position (genomic interval) formats"
   ]
  },
  {
   "cell_type": "markdown",
   "metadata": {},
   "source": [
    "- `gff` (former `gtf`) genomic feature format; tab-delimited plain text\n",
    "- `bed` generic position format\n",
    "- `vcf` variant call format"
   ]
  },
  {
   "cell_type": "markdown",
   "metadata": {
    "collapsed": true
   },
   "source": [
    "## Common tools\n",
    "\n",
    "### samtools\n",
    "\n",
    "### bedtools\n",
    "\n",
    "### bowtie/bowtie2\n",
    "\n",
    "### tuxedo suite\n",
    "\n",
    "### NCBI blast\n",
    "\n",
    "### Assemblers: velvet, trinity, SPades\n",
    "\n",
    "### Genome browsers\n",
    "\n",
    "### New hotness: kallisto/sleuth\n",
    "\n",
    "## Examples of pipelines/workflows\n",
    "\n",
    "### RNA-seq experiment\n",
    "\n",
    "### SHAPE-seq\n",
    "\n",
    "### Net-Seq"
   ]
  },
  {
   "cell_type": "code",
   "execution_count": null,
   "metadata": {},
   "outputs": [],
   "source": []
  }
 ],
 "metadata": {
  "kernelspec": {
   "display_name": "Bash",
   "language": "bash",
   "name": "bash"
  },
  "language_info": {
   "codemirror_mode": "shell",
   "file_extension": ".sh",
   "mimetype": "text/x-sh",
   "name": "bash"
  }
 },
 "nbformat": 4,
 "nbformat_minor": 1
}
