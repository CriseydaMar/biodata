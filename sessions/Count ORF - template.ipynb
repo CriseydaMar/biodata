{
 "cells": [
  {
   "cell_type": "markdown",
   "metadata": {},
   "source": [
    "## Count all reads\n",
    "\n",
    "The `htseq-count` version must comply with the python version in the environment. Officially, `htseq` only supports python2. However, there is a more or less fully functional python3 branch here: [https://github.com/simon-anders/htseq/tree/python3](https://github.com/simon-anders/htseq/tree/python3)\n",
    "\n",
    "To install it in your environment follow the instructions in README.\n",
    "\n",
    "Since `htseq-count` itself is not multithreaded, the best we can do is to launch a separate process for each sample and disown it (send to background). As long as the number of samples is less than the number of cores on `snowflake` we should be fine."
   ]
  },
  {
   "cell_type": "code",
   "execution_count": 5,
   "metadata": {},
   "outputs": [
    {
     "name": "stdout",
     "output_type": "stream",
     "text": [
      "Processing: ../../results/utRho201/utRho201_sorted.bam\n",
      "[1] 22861\n",
      "Processing: ../../results/utRho202/utRho202_sorted.bam\n",
      "[2] 22862\n",
      "Processing: ../../results/utRho203/utRho203_sorted.bam\n",
      "[3] 22864\n",
      "Processing: ../../results/utRho204/utRho204_sorted.bam\n",
      "[4] 22865\n",
      "Processing: ../../results/utRho205/utRho205_sorted.bam\n",
      "[5] 22869\n",
      "Processing: ../../results/utRho206/utRho206_sorted.bam\n",
      "[6] 22870\n",
      "Processing: ../../results/utRho207/utRho207_sorted.bam\n",
      "[7] 22871\n",
      "Processing: ../../results/utRho208/utRho208_sorted.bam\n",
      "[8] 22872\n",
      "Processing: ../../results/utRho209/utRho209_sorted.bam\n",
      "[9] 22874\n",
      "Processing: ../../results/utRho210/utRho210_sorted.bam\n",
      "[10] 22877\n",
      "Processing: ../../results/utRho211/utRho211_sorted.bam\n",
      "[11] 22880\n",
      "Processing: ../../results/utRho212/utRho212_sorted.bam\n",
      "[12] 22881\n",
      "Processing: ../../results/utRho213/utRho213_sorted.bam\n",
      "[13] 22882\n",
      "Processing: ../../results/utRho214/utRho214_sorted.bam\n",
      "[14] 22883\n",
      "Processing: ../../results/utRho215/utRho215_sorted.bam\n",
      "[15] 22884\n",
      "Processing: ../../results/utRho216/utRho216_sorted.bam\n",
      "[16] 22885\n",
      "Processing: ../../results/utRho217/utRho217_sorted.bam\n",
      "[17] 22889\n",
      "Processing: ../../results/utRho218/utRho218_sorted.bam\n",
      "[18] 22890\n",
      "Processing: ../../results/utRho219/utRho219_sorted.bam\n",
      "[19] 22891\n",
      "Processing: ../../results/utRho220/utRho220_sorted.bam\n",
      "[20] 22893\n",
      "Processing: ../../results/utRho221/utRho221_sorted.bam\n",
      "[21] 22894\n",
      "Processing: ../../results/utRho222/utRho222_sorted.bam\n",
      "[22] 22896\n",
      "Processing: ../../results/utRho223/utRho223_sorted.bam\n",
      "[23] 22898\n",
      "Processing: ../../results/utRho224/utRho224_sorted.bam\n",
      "[24] 22900\n"
     ]
    }
   ],
   "source": [
    "counter=$(which htseq-count)\n",
    "\n",
    "for sampleid in $(seq 1 6)\n",
    "do\n",
    "    sample=\"sample${sampleid}\"\n",
    "    result_dir=\"../results/${sample}\"\n",
    "    bamfile=\"$result_dir/${sample}_sorted.bam\"\n",
    "    echo \"Processing: $bamfile\"\n",
    "    $counter -q -s no -t gene -i Name -f bam \\\n",
    "        $bamfile \"../ref/NC_000913.gff\" \\\n",
    "        > \"../results/$sample/$(basename $bamfile .bam).counts\" &\n",
    "done"
   ]
  },
  {
   "cell_type": "code",
   "execution_count": 176,
   "metadata": {},
   "outputs": [
    {
     "name": "stdout",
     "output_type": "stream",
     "text": [
      "total 13G\n",
      "drwxrwxr-x  2 ilya ilya 4.0K Jul 26 15:04 \u001b[0m\u001b[01;34m.\u001b[0m\n",
      "drwxrwxr-x 56 ilya lab  4.0K Jul 26 09:40 \u001b[01;34m..\u001b[0m\n",
      "-rw-rw-r--  1 ilya ilya 8.1G Jul 20 19:49 utRho219.bam\n",
      "-rw-r--r--  1 ilya ilya  15M Jul 21 09:50 \u001b[01;31mutRho219.cov.gz\u001b[0m\n",
      "-rw-r--r--  1 ilya ilya  14M Jul 21 10:03 \u001b[01;31mutRho219.fwd.cov.gz\u001b[0m\n",
      "-rw-r--r--  1 ilya ilya  13M Jul 21 10:13 \u001b[01;31mutRho219.rev.cov.gz\u001b[0m\n",
      "-rw-rw-r--  1 ilya ilya 4.8G Jul 21 00:32 utRho219_sorted.bam\n",
      "-rw-r--r--  1 ilya ilya  20K Jul 21 09:24 utRho219_sorted.bam.bai\n",
      "-rw-r--r--  1 ilya ilya  43K Jul 31 17:25 utRho219_sorted.counts\n"
     ]
    }
   ],
   "source": [
    "ls -lah ../results/sample1"
   ]
  }
 ],
 "metadata": {
  "kernelspec": {
   "display_name": "Bash",
   "language": "bash",
   "name": "bash"
  },
  "language_info": {
   "codemirror_mode": "shell",
   "file_extension": ".sh",
   "mimetype": "text/x-sh",
   "name": "bash"
  }
 },
 "nbformat": 4,
 "nbformat_minor": 2
}
