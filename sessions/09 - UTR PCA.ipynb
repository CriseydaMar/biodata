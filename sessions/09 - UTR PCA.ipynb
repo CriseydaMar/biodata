{
 "cells": [
  {
   "cell_type": "code",
   "execution_count": null,
   "metadata": {
    "collapsed": true
   },
   "outputs": [],
   "source": [
    "%matplotlib inline"
   ]
  },
  {
   "cell_type": "code",
   "execution_count": null,
   "metadata": {
    "collapsed": true
   },
   "outputs": [],
   "source": [
    "import pandas as pd\n",
    "import numpy as np\n",
    "import csv\n",
    "from sklearn.preprocessing import StandardScaler\n",
    "from sklearn.decomposition import PCA as sklearnPCA\n",
    "from ggplot import *"
   ]
  },
  {
   "cell_type": "code",
   "execution_count": null,
   "metadata": {
    "collapsed": true
   },
   "outputs": [],
   "source": [
    "def parse_barcodes(bcfile, bc_id='BC'):\n",
    "    res = {}\n",
    "    with open(bcfile, 'r') as fi:\n",
    "        for line in fi:\n",
    "            fields = line.strip().split(',')\n",
    "            if fields[0].startswith(bc_id):\n",
    "                res[fields[0]] = fields[1]\n",
    "    return res\n",
    "\n",
    "\n",
    "def parse_exp_config(expfile, bc_dict):\n",
    "    res = []\n",
    "    fieldnames = ['id', 'sample', 'cond', 'barcode', 'size', 'region', 'Qbit', 'conc', 'dilution']\n",
    "    with open(expfile) as fi:\n",
    "        reader = csv.DictReader(fi, fieldnames=fieldnames)\n",
    "        for rec in reader:\n",
    "            if rec['id']:\n",
    "                res.append({\n",
    "                    'sample': rec['sample'],\n",
    "                    'bc_id': rec['barcode'],\n",
    "                    'bc_seq': bc_dict[rec['barcode']],\n",
    "                    'temp': int(rec['cond'][:2]),\n",
    "                    'bcm': '+' in rec['cond'],\n",
    "                })\n",
    "    return pd.DataFrame.from_records(res)"
   ]
  },
  {
   "cell_type": "code",
   "execution_count": null,
   "metadata": {},
   "outputs": [],
   "source": [
    "bc_dict = parse_barcodes('../data/Lexogen_Sense_RNA-Seq.csv')\n",
    "exp_df = parse_exp_config('../data/2017-03-09_NextSeq.csv', bc_dict)\n",
    "agg_utr = pd.DataFrame.from_csv('../data/utr.counts.csv')\n",
    "agg_utr"
   ]
  },
  {
   "cell_type": "code",
   "execution_count": null,
   "metadata": {
    "collapsed": true
   },
   "outputs": [],
   "source": [
    "def normalize(df, edf, columns=None):\n",
    "    '''\n",
    "    Prepares the UTR dataframe (`df`) for log transformation.\n",
    "    \n",
    "    Adds experiment metadata from `edf`.\n",
    "    Adds pseudocounts to `utr_counts` and `UTR_length`.\n",
    "    Normalizes counts to UTR length.\n",
    "    '''\n",
    "    def pseudo_counts(x):\n",
    "        return x + 1 if x == 0 else x\n",
    "\n",
    "    df = df.merge(edf, how='left', on='sample')\n",
    "    if columns is not None:\n",
    "        df = df[columns]\n",
    "    # Add pseudocounts to allow log transform later\n",
    "    df['utr_counts'] = df['utr_counts'].apply(pseudo_counts)\n",
    "    df['UTR_length'] = df['UTR_length'].apply(pseudo_counts)\n",
    "    df['utr_norm'] = df['utr_counts'] / df['UTR_length']\n",
    "    return df"
   ]
  },
  {
   "cell_type": "code",
   "execution_count": null,
   "metadata": {},
   "outputs": [],
   "source": [
    "columns = ['gene', 'TSS', 'start', 'end', 'UTR_length',\n",
    "               'utr_counts', 'sample', 'bcm', 'temp']\n",
    "utr = normalize(agg_utr, exp_df, columns)\n",
    "utr"
   ]
  },
  {
   "cell_type": "markdown",
   "metadata": {},
   "source": [
    "## `-BCM` samples"
   ]
  },
  {
   "cell_type": "code",
   "execution_count": null,
   "metadata": {},
   "outputs": [],
   "source": [
    "# build expression matrix\n",
    "X = pd.DataFrame()\n",
    "samples = []\n",
    "\n",
    "for sample in set(utr['sample']):\n",
    "    mask = (utr['sample']==sample) & (utr['bcm']==False)\n",
    "    if not utr[mask].empty:\n",
    "        X[sample] = utr[mask]['utr_norm'].values\n",
    "        samples.append(sample)\n",
    "    \n",
    "X_std = StandardScaler().fit_transform(X.values.T)\n",
    "X_std"
   ]
  },
  {
   "cell_type": "code",
   "execution_count": null,
   "metadata": {
    "scrolled": true
   },
   "outputs": [],
   "source": [
    "sklearn_pca = sklearnPCA(n_components=10)\n",
    "Y = sklearn_pca.fit_transform(X_std)\n",
    "print(Y)\n",
    "print(sklearn_pca.explained_variance_)\n",
    "print(sklearn_pca.explained_variance_ratio_)"
   ]
  },
  {
   "cell_type": "code",
   "execution_count": null,
   "metadata": {},
   "outputs": [],
   "source": [
    "vdf = pd.DataFrame()\n",
    "vdf['PC'] = [(i+1) for i,x in enumerate(sklearn_pca.explained_variance_ratio_)]\n",
    "vdf['var'] = sklearn_pca.explained_variance_ratio_\n",
    "\n",
    "g = ggplot(vdf, aes(x='PC', y='var')) \\\n",
    "    + geom_point(size=10) \\\n",
    "    + ylab('Explained variance') \\\n",
    "    + ggtitle('Unfiltered -BCM')\n",
    "print(g)"
   ]
  },
  {
   "cell_type": "code",
   "execution_count": null,
   "metadata": {},
   "outputs": [],
   "source": [
    "pca_df = pd.DataFrame()\n",
    "pca_df['cond'] = ['%doC' % exp_df[exp_df['sample']==sample]['temp'] for sample in samples]\n",
    "pca_df['PCA1'] = 0\n",
    "pca_df['PCA2'] = 0\n",
    "\n",
    "for i in range(Y.shape[0]):\n",
    "    pca_df.ix[i, 'PCA1'] = Y[i,0]\n",
    "    pca_df.ix[i, 'PCA2'] = Y[i,1]\n",
    "\n",
    "pca_df"
   ]
  },
  {
   "cell_type": "code",
   "execution_count": null,
   "metadata": {},
   "outputs": [],
   "source": [
    "g = ggplot(pca_df, aes(x='PCA1', y='PCA2', color='cond')) \\\n",
    "    + geom_point(size=10) \\\n",
    "    + ggtitle('Unfiltered -BCM')\n",
    "print(g)"
   ]
  },
  {
   "cell_type": "markdown",
   "metadata": {},
   "source": [
    "## `+BCM` samples"
   ]
  },
  {
   "cell_type": "code",
   "execution_count": null,
   "metadata": {},
   "outputs": [],
   "source": [
    "# build expression matrix\n",
    "\n",
    "X = pd.DataFrame()\n",
    "samples = []\n",
    "\n",
    "for sample in set(utr['sample']):\n",
    "    mask = (utr['sample']==sample) & (utr['bcm']==True)\n",
    "    if not utr[mask].empty:\n",
    "        X[sample] = utr[mask]['utr_norm'].values\n",
    "        samples.append(sample)\n",
    "    \n",
    "X_std = StandardScaler().fit_transform(X.values.T)\n",
    "X_std"
   ]
  },
  {
   "cell_type": "code",
   "execution_count": null,
   "metadata": {},
   "outputs": [],
   "source": [
    "sklearn_pca = sklearnPCA(n_components=10)\n",
    "Y = sklearn_pca.fit_transform(X_std)\n",
    "\n",
    "print(Y)\n",
    "print(sklearn_pca.explained_variance_)\n",
    "print(sklearn_pca.explained_variance_ratio_)"
   ]
  },
  {
   "cell_type": "code",
   "execution_count": null,
   "metadata": {},
   "outputs": [],
   "source": [
    "vdf = pd.DataFrame()\n",
    "vdf['PC'] = [(i+1) for i,x in enumerate(sklearn_pca.explained_variance_ratio_)]\n",
    "vdf['var'] = sklearn_pca.explained_variance_ratio_\n",
    "\n",
    "g = ggplot(vdf, aes(x='PC', y='var')) \\\n",
    "    + geom_point(size=10) \\\n",
    "    + ylab('Explained variance') \\\n",
    "    + ggtitle('Unfiltered +BCM')\n",
    "print(g)"
   ]
  },
  {
   "cell_type": "code",
   "execution_count": null,
   "metadata": {},
   "outputs": [],
   "source": [
    "pca_df = pd.DataFrame()\n",
    "pca_df['cond'] = ['%doC' % exp_df[exp_df['sample']==sample]['temp'] for sample in samples]\n",
    "pca_df['PCA1'] = 0\n",
    "pca_df['PCA2'] = 0\n",
    "\n",
    "for i in range(Y.shape[0]):\n",
    "    pca_df.ix[i, 'PCA1'] = Y[i,0]\n",
    "    pca_df.ix[i, 'PCA2'] = Y[i,1]\n",
    "\n",
    "pca_df"
   ]
  },
  {
   "cell_type": "code",
   "execution_count": null,
   "metadata": {},
   "outputs": [],
   "source": [
    "g = ggplot(pca_df, aes(x='PCA1', y='PCA2', color='cond')) \\\n",
    "    + geom_point(size=10) \\\n",
    "    + ggtitle('Unfiltered +BCM')\n",
    "print(g)"
   ]
  },
  {
   "cell_type": "code",
   "execution_count": null,
   "metadata": {
    "collapsed": true
   },
   "outputs": [],
   "source": []
  }
 ],
 "metadata": {
  "kernelspec": {
   "display_name": "Python 3",
   "language": "python",
   "name": "python3"
  },
  "language_info": {
   "codemirror_mode": {
    "name": "ipython",
    "version": 3
   },
   "file_extension": ".py",
   "mimetype": "text/x-python",
   "name": "python",
   "nbconvert_exporter": "python",
   "pygments_lexer": "ipython3",
   "version": "3.5.2"
  }
 },
 "nbformat": 4,
 "nbformat_minor": 2
}
