{
 "cells": [
  {
   "cell_type": "code",
   "execution_count": 1,
   "metadata": {
    "collapsed": false
   },
   "outputs": [
    {
     "name": "stderr",
     "output_type": "stream",
     "text": [
      "Installing package into ‘/home/ilya/R/x86_64-pc-linux-gnu-library/3.2’\n",
      "(as ‘lib’ is unspecified)\n"
     ]
    },
    {
     "name": "stdout",
     "output_type": "stream",
     "text": [
      "\n",
      "The downloaded source packages are in\n",
      "\t‘/tmp/RtmpNlpP4C/downloaded_packages’\n"
     ]
    },
    {
     "name": "stderr",
     "output_type": "stream",
     "text": [
      "Bioconductor version 3.2 (BiocInstaller 1.20.1), ?biocLite for help\n",
      "BioC_mirror: https://bioconductor.org\n",
      "Using Bioconductor 3.2 (BiocInstaller 1.20.1), R 3.2.2 (2015-08-14).\n",
      "Installing package(s) ‘rhdf5’\n",
      "also installing the dependency ‘zlibbioc’\n",
      "\n"
     ]
    },
    {
     "name": "stdout",
     "output_type": "stream",
     "text": [
      "\n",
      "The downloaded source packages are in\n",
      "\t‘/tmp/RtmpNlpP4C/downloaded_packages’\n"
     ]
    },
    {
     "name": "stderr",
     "output_type": "stream",
     "text": [
      "Old packages: 'git2r', 'jsonlite', 'rstudioapi', 'MASS'\n"
     ]
    }
   ],
   "source": [
    "source(\"http://bioconductor.org/biocLite.R\")\n",
    "biocLite(\"rhdf5\")"
   ]
  },
  {
   "cell_type": "code",
   "execution_count": 2,
   "metadata": {
    "collapsed": false
   },
   "outputs": [
    {
     "name": "stderr",
     "output_type": "stream",
     "text": [
      "Downloading GitHub repo pachterlab/sleuth@master\n",
      "Installing sleuth\n",
      "Skipping 1 packages not available: rhdf5\n",
      "Installing 23 packages: assertthat, chron, colorspace, data.table, DBI, dichromat, dplyr, ggplot2, gtable, htmltools, httpuv, jsonlite, labeling, lazyeval, munsell, plyr, proto, RColorBrewer, reshape2, scales, shiny, tidyr, xtable\n",
      "Installing packages into ‘/home/ilya/R/x86_64-pc-linux-gnu-library/3.2’\n",
      "(as ‘lib’ is unspecified)\n"
     ]
    },
    {
     "name": "stdout",
     "output_type": "stream",
     "text": [
      "\n",
      "The downloaded source packages are in\n",
      "\t‘/tmp/RtmpNlpP4C/downloaded_packages’\n"
     ]
    },
    {
     "name": "stderr",
     "output_type": "stream",
     "text": [
      "'/usr/lib/R/bin/R' --no-site-file --no-environ --no-save --no-restore CMD  \\\n",
      "  INSTALL '/tmp/RtmpNlpP4C/devtools7084370576af/pachterlab-sleuth-95a70b9'  \\\n",
      "  --library='/home/ilya/R/x86_64-pc-linux-gnu-library/3.2' --install-tests \n",
      "\n"
     ]
    }
   ],
   "source": [
    "devtools::install_github(\"pachterlab/sleuth\")"
   ]
  },
  {
   "cell_type": "code",
   "execution_count": 3,
   "metadata": {
    "collapsed": false
   },
   "outputs": [
    {
     "name": "stderr",
     "output_type": "stream",
     "text": [
      "Loading required package: ggplot2\n",
      "Loading required package: dplyr\n",
      "\n",
      "Attaching package: ‘dplyr’\n",
      "\n",
      "The following objects are masked from ‘package:stats’:\n",
      "\n",
      "    filter, lag\n",
      "\n",
      "The following objects are masked from ‘package:base’:\n",
      "\n",
      "    intersect, setdiff, setequal, union\n",
      "\n"
     ]
    }
   ],
   "source": [
    "library(\"sleuth\")"
   ]
  },
  {
   "cell_type": "code",
   "execution_count": 4,
   "metadata": {
    "collapsed": false
   },
   "outputs": [
    {
     "data": {
      "text/html": [
       "<ol class=list-inline>\n",
       "\t<li>'W1'</li>\n",
       "\t<li>'W2'</li>\n",
       "\t<li>'W3'</li>\n",
       "\t<li>'S1'</li>\n",
       "\t<li>'S2'</li>\n",
       "\t<li>'S3'</li>\n",
       "</ol>\n"
      ],
      "text/latex": [
       "\\begin{enumerate*}\n",
       "\\item 'W1'\n",
       "\\item 'W2'\n",
       "\\item 'W3'\n",
       "\\item 'S1'\n",
       "\\item 'S2'\n",
       "\\item 'S3'\n",
       "\\end{enumerate*}\n"
      ],
      "text/markdown": [
       "1. 'W1'\n",
       "2. 'W2'\n",
       "3. 'W3'\n",
       "4. 'S1'\n",
       "5. 'S2'\n",
       "6. 'S3'\n",
       "\n",
       "\n"
      ],
      "text/plain": [
       "[1] \"W1\" \"W2\" \"W3\" \"S1\" \"S2\" \"S3\""
      ]
     },
     "execution_count": 4,
     "metadata": {},
     "output_type": "execute_result"
    }
   ],
   "source": [
    "base_dir <- \"../kallisto\"\n",
    "sample_W <- dir(file.path(base_dir), pattern='^W')\n",
    "sample_S <- dir(file.path(base_dir), pattern='^S')\n",
    "\n",
    "sample_id <- append(sample_W, sample_S)\n",
    "sample_id"
   ]
  },
  {
   "cell_type": "code",
   "execution_count": 5,
   "metadata": {
    "collapsed": false
   },
   "outputs": [
    {
     "data": {
      "text/html": [
       "<dl class=dl-horizontal>\n",
       "\t<dt>W1</dt>\n",
       "\t\t<dd>'../kallisto/W1'</dd>\n",
       "\t<dt>W2</dt>\n",
       "\t\t<dd>'../kallisto/W2'</dd>\n",
       "\t<dt>W3</dt>\n",
       "\t\t<dd>'../kallisto/W3'</dd>\n",
       "\t<dt>S1</dt>\n",
       "\t\t<dd>'../kallisto/S1'</dd>\n",
       "\t<dt>S2</dt>\n",
       "\t\t<dd>'../kallisto/S2'</dd>\n",
       "\t<dt>S3</dt>\n",
       "\t\t<dd>'../kallisto/S3'</dd>\n",
       "</dl>\n"
      ],
      "text/latex": [
       "\\begin{description*}\n",
       "\\item[W1] '../kallisto/W1'\n",
       "\\item[W2] '../kallisto/W2'\n",
       "\\item[W3] '../kallisto/W3'\n",
       "\\item[S1] '../kallisto/S1'\n",
       "\\item[S2] '../kallisto/S2'\n",
       "\\item[S3] '../kallisto/S3'\n",
       "\\end{description*}\n"
      ],
      "text/markdown": [
       "W1\n",
       ":   '../kallisto/W1'W2\n",
       ":   '../kallisto/W2'W3\n",
       ":   '../kallisto/W3'S1\n",
       ":   '../kallisto/S1'S2\n",
       ":   '../kallisto/S2'S3\n",
       ":   '../kallisto/S3'\n",
       "\n"
      ],
      "text/plain": [
       "              W1               W2               W3               S1 \n",
       "\"../kallisto/W1\" \"../kallisto/W2\" \"../kallisto/W3\" \"../kallisto/S1\" \n",
       "              S2               S3 \n",
       "\"../kallisto/S2\" \"../kallisto/S3\" "
      ]
     },
     "execution_count": 5,
     "metadata": {},
     "output_type": "execute_result"
    }
   ],
   "source": [
    "kal_dirs <- sapply(sample_id, function(id) file.path(base_dir, id))\n",
    "kal_dirs"
   ]
  },
  {
   "cell_type": "code",
   "execution_count": 8,
   "metadata": {
    "collapsed": false
   },
   "outputs": [
    {
     "data": {
      "text/html": [
       "'character'"
      ],
      "text/latex": [
       "'character'"
      ],
      "text/markdown": [
       "'character'"
      ],
      "text/plain": [
       "[1] \"character\""
      ]
     },
     "execution_count": 8,
     "metadata": {},
     "output_type": "execute_result"
    }
   ],
   "source": [
    "typeof(kal_dirs)"
   ]
  },
  {
   "cell_type": "code",
   "execution_count": 6,
   "metadata": {
    "collapsed": false
   },
   "outputs": [
    {
     "data": {
      "text/html": [
       "<table>\n",
       "<thead><tr><th></th><th scope=col>sample</th><th scope=col>condition</th></tr></thead>\n",
       "<tbody>\n",
       "\t<tr><th scope=row>1</th><td>W1</td><td>wt</td></tr>\n",
       "\t<tr><th scope=row>2</th><td>W2</td><td>wt</td></tr>\n",
       "\t<tr><th scope=row>3</th><td>W3</td><td>wt</td></tr>\n",
       "\t<tr><th scope=row>4</th><td>S1</td><td>mut</td></tr>\n",
       "\t<tr><th scope=row>5</th><td>S2</td><td>mut</td></tr>\n",
       "\t<tr><th scope=row>6</th><td>S3</td><td>mut</td></tr>\n",
       "</tbody>\n",
       "</table>\n"
      ],
      "text/latex": [
       "\\begin{tabular}{r|ll}\n",
       "  & sample & condition\\\\\n",
       "\\hline\n",
       "\t1 & W1 & wt\\\\\n",
       "\t2 & W2 & wt\\\\\n",
       "\t3 & W3 & wt\\\\\n",
       "\t4 & S1 & mut\\\\\n",
       "\t5 & S2 & mut\\\\\n",
       "\t6 & S3 & mut\\\\\n",
       "\\end{tabular}\n"
      ],
      "text/plain": [
       "  sample condition\n",
       "1     W1        wt\n",
       "2     W2        wt\n",
       "3     W3        wt\n",
       "4     S1       mut\n",
       "5     S2       mut\n",
       "6     S3       mut"
      ]
     },
     "execution_count": 6,
     "metadata": {},
     "output_type": "execute_result"
    }
   ],
   "source": [
    "s2c <- data.frame(sample=sample_id, condition=c('wt', 'wt', 'wt', 'mut', 'mut', 'mut'))\n",
    "s2c"
   ]
  },
  {
   "cell_type": "code",
   "execution_count": 9,
   "metadata": {
    "collapsed": false
   },
   "outputs": [
    {
     "data": {
      "text/html": [
       "<table>\n",
       "<thead><tr><th></th><th scope=col>sample</th><th scope=col>condition</th><th scope=col>path</th></tr></thead>\n",
       "<tbody>\n",
       "\t<tr><th scope=row>1</th><td>W1</td><td>wt</td><td>../kallisto/W1</td></tr>\n",
       "\t<tr><th scope=row>2</th><td>W2</td><td>wt</td><td>../kallisto/W2</td></tr>\n",
       "\t<tr><th scope=row>3</th><td>W3</td><td>wt</td><td>../kallisto/W3</td></tr>\n",
       "\t<tr><th scope=row>4</th><td>S1</td><td>mut</td><td>../kallisto/S1</td></tr>\n",
       "\t<tr><th scope=row>5</th><td>S2</td><td>mut</td><td>../kallisto/S2</td></tr>\n",
       "\t<tr><th scope=row>6</th><td>S3</td><td>mut</td><td>../kallisto/S3</td></tr>\n",
       "</tbody>\n",
       "</table>\n"
      ],
      "text/latex": [
       "\\begin{tabular}{r|lll}\n",
       "  & sample & condition & path\\\\\n",
       "\\hline\n",
       "\t1 & W1 & wt & ../kallisto/W1\\\\\n",
       "\t2 & W2 & wt & ../kallisto/W2\\\\\n",
       "\t3 & W3 & wt & ../kallisto/W3\\\\\n",
       "\t4 & S1 & mut & ../kallisto/S1\\\\\n",
       "\t5 & S2 & mut & ../kallisto/S2\\\\\n",
       "\t6 & S3 & mut & ../kallisto/S3\\\\\n",
       "\\end{tabular}\n"
      ],
      "text/plain": [
       "  sample condition           path\n",
       "1     W1        wt ../kallisto/W1\n",
       "2     W2        wt ../kallisto/W2\n",
       "3     W3        wt ../kallisto/W3\n",
       "4     S1       mut ../kallisto/S1\n",
       "5     S2       mut ../kallisto/S2\n",
       "6     S3       mut ../kallisto/S3"
      ]
     },
     "execution_count": 9,
     "metadata": {},
     "output_type": "execute_result"
    }
   ],
   "source": [
    "s2c <- dplyr::mutate(s2c, path = kal_dirs)\n",
    "s2c"
   ]
  },
  {
   "cell_type": "code",
   "execution_count": 11,
   "metadata": {
    "collapsed": false
   },
   "outputs": [
    {
     "name": "stderr",
     "output_type": "stream",
     "text": [
      "reading in kallisto results\n",
      "......\n",
      "normalizing est_counts\n",
      "4161 targets passed the filter\n",
      "normalizing tpm\n",
      "merging in metadata\n",
      "normalizing bootstrap samples\n",
      "summarizing bootstraps\n"
     ]
    }
   ],
   "source": [
    "so <- sleuth_prep(s2c, ~ condition)"
   ]
  },
  {
   "cell_type": "code",
   "execution_count": 12,
   "metadata": {
    "collapsed": false
   },
   "outputs": [
    {
     "name": "stderr",
     "output_type": "stream",
     "text": [
      "shrinkage estimation\n",
      "computing variance of betas\n"
     ]
    }
   ],
   "source": [
    "so <- sleuth_fit(so)"
   ]
  },
  {
   "cell_type": "code",
   "execution_count": 14,
   "metadata": {
    "collapsed": false
   },
   "outputs": [],
   "source": [
    "so <- sleuth_wt(so, which_beta='conditionwt')"
   ]
  },
  {
   "cell_type": "code",
   "execution_count": 15,
   "metadata": {
    "collapsed": false
   },
   "outputs": [
    {
     "name": "stdout",
     "output_type": "stream",
     "text": [
      "[  full  ]\n",
      "formula:  ~condition \n",
      "coefficients:\n",
      "\t(Intercept)\n",
      " \tconditionwt\n"
     ]
    }
   ],
   "source": [
    "models(so)"
   ]
  },
  {
   "cell_type": "code",
   "execution_count": 16,
   "metadata": {
    "collapsed": false
   },
   "outputs": [
    {
     "data": {
      "text/html": [
       "<table>\n",
       "<thead><tr><th></th><th scope=col>target_id</th><th scope=col>pval</th><th scope=col>qval</th><th scope=col>b</th><th scope=col>se_b</th><th scope=col>mean_obs</th><th scope=col>var_obs</th><th scope=col>tech_var</th><th scope=col>sigma_sq</th><th scope=col>smooth_sigma_sq</th><th scope=col>final_sigma_sq</th></tr></thead>\n",
       "<tbody>\n",
       "\t<tr><th scope=row>1</th><td>AIZ90411</td><td>0</td><td>0</td><td>9.28473280810254</td><td>0.133762675178884</td><td>3.94921922349132</td><td>25.8618882189155</td><td>0.000100106378182769</td><td>-8.85769296197625e-05</td><td>0.0267385735283345</td><td>0.0267385735283345</td></tr>\n",
       "\t<tr><th scope=row>2</th><td>AIZ93099</td><td>4.26140451807797e-99</td><td>8.8594599930841e-96</td><td>-3.27563493552592</td><td>0.155026704663539</td><td>6.98289326217091</td><td>3.24777520424198</td><td>0.00235190966543792</td><td>0.0336980090728161</td><td>0.0114557934447799</td><td>0.0336980090728161</td></tr>\n",
       "\t<tr><th scope=row>3</th><td>AIZ92946</td><td>1.32279662333768e-72</td><td>1.83339611994602e-69</td><td>2.28681336967479</td><td>0.126894112623107</td><td>5.27410038540937</td><td>1.57688006226971</td><td>0.00773759416748568</td><td>0.00229421327338853</td><td>0.0164155795601231</td><td>0.0164155795601231</td></tr>\n",
       "\t<tr><th scope=row>4</th><td>AIZ93100</td><td>8.21902783306916e-52</td><td>8.54367943247539e-49</td><td>-3.1139601265793</td><td>0.2056145242785</td><td>8.03981393165289</td><td>2.95975710009087</td><td>0.000773185814425888</td><td>0.0626428130769849</td><td>0.0111461955260451</td><td>0.0626428130769849</td></tr>\n",
       "\t<tr><th scope=row>5</th><td>AIZ91713</td><td>1.26049533680537e-45</td><td>1.04822792208735e-42</td><td>-1.96571250943783</td><td>0.13864897744009</td><td>5.13049889438274</td><td>1.18227594766233</td><td>0.00883411150476848</td><td>0.0200011969130056</td><td>0.0169768598067625</td><td>0.0200011969130056</td></tr>\n",
       "\t<tr><th scope=row>6</th><td>AIZ91712</td><td>1.27936490056432e-32</td><td>8.86599876091071e-30</td><td>-2.12499490853855</td><td>0.178668647867135</td><td>4.32150683121498</td><td>1.37969672884239</td><td>0.0253879712335069</td><td>0.00588167932644688</td><td>0.0224957573624985</td><td>0.0224957573624985</td></tr>\n",
       "\t<tr><th scope=row>7</th><td>AIZ90007</td><td>3.19379093302334e-27</td><td>1.89711181421586e-24</td><td>-1.06056038870475</td><td>0.0981376017160149</td><td>7.77214809019623</td><td>0.348993688071556</td><td>0.000472578419014025</td><td>0.0139739048868427</td><td>0.0109536901595033</td><td>0.0139739048868427</td></tr>\n",
       "\t<tr><th scope=row>8</th><td>AIZ92947</td><td>1.25674451810023e-26</td><td>6.53192963282594e-24</td><td>1.47772333924252</td><td>0.138357907243693</td><td>4.87911559300511</td><td>0.669365188896688</td><td>0.0104788063607182</td><td>0.00735282950687335</td><td>0.0182355593845632</td><td>0.0182355593845632</td></tr>\n",
       "\t<tr><th scope=row>9</th><td>AIZ92849</td><td>1.04962249529623e-22</td><td>4.84925592826858e-20</td><td>-0.859798418732632</td><td>0.0876711976946014</td><td>8.06964112710473</td><td>0.222703023447289</td><td>0.000354782209457806</td><td>0.000804001778977092</td><td>0.011174576148351</td><td>0.011174576148351</td></tr>\n",
       "\t<tr><th scope=row>10</th><td>AIZ91772</td><td>1.39072537553828e-22</td><td>5.78263611148819e-20</td><td>-1.82917329146977</td><td>0.18705812912824</td><td>5.73571540134511</td><td>1.04575137147546</td><td>0.0056234100246461</td><td>0.0468627054847898</td><td>0.0147926684398501</td><td>0.0468627054847898</td></tr>\n",
       "\t<tr><th scope=row>11</th><td>AIZ91603</td><td>1.83575388172995e-22</td><td>6.93914967293919e-20</td><td>-1.11717015685328</td><td>0.114575766338152</td><td>6.26599197772545</td><td>0.390173875287447</td><td>0.0024139299987849</td><td>0.0172774793491774</td><td>0.0133193752742365</td><td>0.0172774793491774</td></tr>\n",
       "\t<tr><th scope=row>12</th><td>AIZ90787</td><td>2.5373212460117e-22</td><td>8.79181811743054e-20</td><td>-0.876404001247031</td><td>0.0901874448515314</td><td>7.11542512865354</td><td>0.232813685635283</td><td>0.000976369565064147</td><td>0.00200924745336192</td><td>0.0112242932482079</td><td>0.0112242932482079</td></tr>\n",
       "\t<tr><th scope=row>13</th><td>AIZ93532</td><td>6.03190621529367e-20</td><td>1.92928200332239e-17</td><td>-1.25561413931335</td><td>0.13731926882643</td><td>4.84994415388992</td><td>0.494288366411787</td><td>0.00986880446974622</td><td>0.0167790784786388</td><td>0.0184160679167919</td><td>0.0184160679167919</td></tr>\n",
       "\t<tr><th scope=row>14</th><td>AIZ93383</td><td>6.56936142714279e-19</td><td>1.95110034386141e-16</td><td>-0.829575874439062</td><td>0.0934001117934098</td><td>9.40810028727749</td><td>0.207806789794566</td><td>9.76279062157954e-05</td><td>0.00158731004274081</td><td>0.0129877434183164</td><td>0.0129877434183164</td></tr>\n",
       "\t<tr><th scope=row>15</th><td>AIZ89971</td><td>1.2084084136035e-17</td><td>3.3497081225089e-15</td><td>0.955429613299176</td><td>0.111718362848766</td><td>5.89387890807727</td><td>0.288830914907833</td><td>0.00345351773124882</td><td>0.015267971165164</td><td>0.0143386024506666</td><td>0.015267971165164</td></tr>\n",
       "\t<tr><th scope=row>16</th><td>AIZ91945</td><td>1.78201997954389e-15</td><td>4.63102442183968e-13</td><td>2.00382159997202</td><td>0.251874213881426</td><td>10.2296360537701</td><td>1.28071904489639</td><td>6.89053167863579e-05</td><td>0.095092024110793</td><td>0.0143434334409266</td><td>0.095092024110793</td></tr>\n",
       "\t<tr><th scope=row>17</th><td>AIZ92770</td><td>2.05672128134127e-15</td><td>5.03049828695118e-13</td><td>-0.95600606330827</td><td>0.120435997557038</td><td>6.08860306019384</td><td>0.291590073333724</td><td>0.00262508140493773</td><td>0.0191321628564007</td><td>0.0138208859131621</td><td>0.0191321628564007</td></tr>\n",
       "\t<tr><th scope=row>18</th><td>AIZ91902</td><td>2.63119164387123e-15</td><td>6.07805269734255e-13</td><td>-1.01009828616715</td><td>0.127743174484442</td><td>4.99691876315959</td><td>0.322530078718216</td><td>0.00688969814424104</td><td>0.0136609448593491</td><td>0.0175877797968029</td><td>0.0175877797968029</td></tr>\n",
       "\t<tr><th scope=row>19</th><td>AIZ90718</td><td>1.93677252626342e-14</td><td>4.23847377063331e-12</td><td>0.841453839098338</td><td>0.109925602595246</td><td>5.7679656807301</td><td>0.21667066310554</td><td>0.00343053962597785</td><td>0.00189107800594814</td><td>0.014694917532914</td><td>0.014694917532914</td></tr>\n",
       "\t<tr><th scope=row>20</th><td>AIZ89485</td><td>2.74255992390754e-14</td><td>5.70178208180378e-12</td><td>-1.20241706824143</td><td>0.15800643769632</td><td>6.72170189598482</td><td>0.463701283023676</td><td>0.00157486543126732</td><td>0.0358741860989544</td><td>0.0119666568150649</td><td>0.0358741860989544</td></tr>\n",
       "\t<tr><th scope=row>21</th><td>AIZ91394</td><td>6.12570292398472e-14</td><td>1.21288917894897e-11</td><td>1.19463369232335</td><td>0.159170603076144</td><td>9.06839703264582</td><td>0.458547234710581</td><td>0.000115967919818871</td><td>0.037886953405616</td><td>0.0124808684268429</td><td>0.037886953405616</td></tr>\n",
       "\t<tr><th scope=row>22</th><td>AIZ92187</td><td>7.88406540993045e-14</td><td>1.49008836247686e-11</td><td>0.935012344602828</td><td>0.125131455047311</td><td>5.06812511161266</td><td>0.269239431694332</td><td>0.00623819913464502</td><td>0.00246805877339171</td><td>0.0172486224287408</td><td>0.0172486224287408</td></tr>\n",
       "\t<tr><th scope=row>23</th><td>AIZ92948</td><td>1.16852189769278e-13</td><td>2.11248436982895e-11</td><td>1.57071884075312</td><td>0.211678514944944</td><td>3.57940347245795</td><td>0.785273698015835</td><td>0.0343715289623634</td><td>0.0220364647961214</td><td>0.0328401615715822</td><td>0.0328401615715822</td></tr>\n",
       "\t<tr><th scope=row>24</th><td>AIZ92916</td><td>3.9088772973784e-13</td><td>6.77212991770808e-11</td><td>0.648916645838894</td><td>0.0893987198861433</td><td>8.57832048952109</td><td>0.133858875780919</td><td>0.000193700732688977</td><td>0.00922008902590895</td><td>0.0117944959432327</td><td>0.0117944959432327</td></tr>\n",
       "\t<tr><th scope=row>25</th><td>AIZ89695</td><td>4.35737338715969e-13</td><td>7.24718341752399e-11</td><td>0.654669482415605</td><td>0.0903744035720584</td><td>8.81127109129805</td><td>0.13798595604713</td><td>0.000136650979484978</td><td>0.0116237448770597</td><td>0.0121146482520229</td><td>0.0121146482520229</td></tr>\n",
       "\t<tr><th scope=row>26</th><td>AIZ92370</td><td>4.8290006579076e-13</td><td>7.72268643676147e-11</td><td>-1.47730425097176</td><td>0.204329025130242</td><td>6.53989577908343</td><td>0.704828775594581</td><td>0.00186921562521497</td><td>0.0607563101407978</td><td>0.0124499444760144</td><td>0.0607563101407978</td></tr>\n",
       "\t<tr><th scope=row>27</th><td>AIZ91905</td><td>5.194016235152e-13</td><td>7.99878500213408e-11</td><td>-1.10379930983221</td><td>0.152878163664399</td><td>5.10523095234962</td><td>0.393557954426299</td><td>0.00730146143457017</td><td>0.027756137953528</td><td>0.0170844293783472</td><td>0.027756137953528</td></tr>\n",
       "\t<tr><th scope=row>28</th><td>AIZ93850</td><td>1.02086407824035e-12</td><td>1.51598315618693e-10</td><td>0.624557588550526</td><td>0.0876244398218559</td><td>7.74797800619693</td><td>0.126235305369727</td><td>0.000449899311067</td><td>0.0110671643700741</td><td>0.0109425756094274</td><td>0.0110671643700741</td></tr>\n",
       "\t<tr><th scope=row>29</th><td>AIZ92850</td><td>1.13942821158244e-12</td><td>1.63370431164131e-10</td><td>-0.621959170060584</td><td>0.0874456801871009</td><td>7.62088188329928</td><td>0.117753458942793</td><td>0.00056616392185807</td><td>0.00156320629821407</td><td>0.010903956553219</td><td>0.010903956553219</td></tr>\n",
       "\t<tr><th scope=row>30</th><td>AIZ90067</td><td>6.56602077695731e-12</td><td>9.10050479686283e-10</td><td>0.619679548923934</td><td>0.0902429047784003</td><td>7.11155416558531</td><td>0.118696942266312</td><td>0.000985204656118045</td><td>0.0033849444188076</td><td>0.0112304681381471</td><td>0.0112304681381471</td></tr>\n",
       "\t<tr><th scope=row>⋮</th><td>⋮</td><td>⋮</td><td>⋮</td><td>⋮</td><td>⋮</td><td>⋮</td><td>⋮</td><td>⋮</td><td>⋮</td><td>⋮</td><td>⋮</td></tr>\n",
       "\t<tr><th scope=row>4362</th><td>AIZ93165</td><td>NA</td><td>NA</td><td>NA</td><td>NA</td><td>NA</td><td>NA</td><td>NA</td><td>NA</td><td>NA</td><td>NA</td></tr>\n",
       "\t<tr><th scope=row>4363</th><td>AIZ93182</td><td>NA</td><td>NA</td><td>NA</td><td>NA</td><td>NA</td><td>NA</td><td>NA</td><td>NA</td><td>NA</td><td>NA</td></tr>\n",
       "\t<tr><th scope=row>4364</th><td>AIZ93192</td><td>NA</td><td>NA</td><td>NA</td><td>NA</td><td>NA</td><td>NA</td><td>NA</td><td>NA</td><td>NA</td><td>NA</td></tr>\n",
       "\t<tr><th scope=row>4365</th><td>AIZ93196</td><td>NA</td><td>NA</td><td>NA</td><td>NA</td><td>NA</td><td>NA</td><td>NA</td><td>NA</td><td>NA</td><td>NA</td></tr>\n",
       "\t<tr><th scope=row>4366</th><td>AIZ93202</td><td>NA</td><td>NA</td><td>NA</td><td>NA</td><td>NA</td><td>NA</td><td>NA</td><td>NA</td><td>NA</td><td>NA</td></tr>\n",
       "\t<tr><th scope=row>4367</th><td>AIZ93205</td><td>NA</td><td>NA</td><td>NA</td><td>NA</td><td>NA</td><td>NA</td><td>NA</td><td>NA</td><td>NA</td><td>NA</td></tr>\n",
       "\t<tr><th scope=row>4368</th><td>AIZ93280</td><td>NA</td><td>NA</td><td>NA</td><td>NA</td><td>NA</td><td>NA</td><td>NA</td><td>NA</td><td>NA</td><td>NA</td></tr>\n",
       "\t<tr><th scope=row>4369</th><td>AIZ93311</td><td>NA</td><td>NA</td><td>NA</td><td>NA</td><td>NA</td><td>NA</td><td>NA</td><td>NA</td><td>NA</td><td>NA</td></tr>\n",
       "\t<tr><th scope=row>4370</th><td>AIZ93315</td><td>NA</td><td>NA</td><td>NA</td><td>NA</td><td>NA</td><td>NA</td><td>NA</td><td>NA</td><td>NA</td><td>NA</td></tr>\n",
       "\t<tr><th scope=row>4371</th><td>AIZ93320</td><td>NA</td><td>NA</td><td>NA</td><td>NA</td><td>NA</td><td>NA</td><td>NA</td><td>NA</td><td>NA</td><td>NA</td></tr>\n",
       "\t<tr><th scope=row>4372</th><td>AIZ93332</td><td>NA</td><td>NA</td><td>NA</td><td>NA</td><td>NA</td><td>NA</td><td>NA</td><td>NA</td><td>NA</td><td>NA</td></tr>\n",
       "\t<tr><th scope=row>4373</th><td>AIZ93395</td><td>NA</td><td>NA</td><td>NA</td><td>NA</td><td>NA</td><td>NA</td><td>NA</td><td>NA</td><td>NA</td><td>NA</td></tr>\n",
       "\t<tr><th scope=row>4374</th><td>AIZ93488</td><td>NA</td><td>NA</td><td>-0.174451970933214</td><td>NA</td><td>13.2851336802796</td><td>0.0472163752563874</td><td>1.67197478727674e-06</td><td>0.0476062382847645</td><td>NA</td><td>NA</td></tr>\n",
       "\t<tr><th scope=row>4375</th><td>AIZ93540</td><td>NA</td><td>NA</td><td>NA</td><td>NA</td><td>NA</td><td>NA</td><td>NA</td><td>NA</td><td>NA</td><td>NA</td></tr>\n",
       "\t<tr><th scope=row>4376</th><td>AIZ93541</td><td>NA</td><td>NA</td><td>NA</td><td>NA</td><td>NA</td><td>NA</td><td>NA</td><td>NA</td><td>NA</td><td>NA</td></tr>\n",
       "\t<tr><th scope=row>4377</th><td>AIZ93613</td><td>NA</td><td>NA</td><td>NA</td><td>NA</td><td>NA</td><td>NA</td><td>NA</td><td>NA</td><td>NA</td><td>NA</td></tr>\n",
       "\t<tr><th scope=row>4378</th><td>AIZ93614</td><td>NA</td><td>NA</td><td>NA</td><td>NA</td><td>NA</td><td>NA</td><td>NA</td><td>NA</td><td>NA</td><td>NA</td></tr>\n",
       "\t<tr><th scope=row>4379</th><td>AIZ93624</td><td>NA</td><td>NA</td><td>NA</td><td>NA</td><td>NA</td><td>NA</td><td>NA</td><td>NA</td><td>NA</td><td>NA</td></tr>\n",
       "\t<tr><th scope=row>4380</th><td>AIZ93639</td><td>NA</td><td>NA</td><td>NA</td><td>NA</td><td>NA</td><td>NA</td><td>NA</td><td>NA</td><td>NA</td><td>NA</td></tr>\n",
       "\t<tr><th scope=row>4381</th><td>AIZ93671</td><td>NA</td><td>NA</td><td>NA</td><td>NA</td><td>NA</td><td>NA</td><td>NA</td><td>NA</td><td>NA</td><td>NA</td></tr>\n",
       "\t<tr><th scope=row>4382</th><td>AIZ93703</td><td>NA</td><td>NA</td><td>NA</td><td>NA</td><td>NA</td><td>NA</td><td>NA</td><td>NA</td><td>NA</td><td>NA</td></tr>\n",
       "\t<tr><th scope=row>4383</th><td>AIZ93704</td><td>NA</td><td>NA</td><td>NA</td><td>NA</td><td>NA</td><td>NA</td><td>NA</td><td>NA</td><td>NA</td><td>NA</td></tr>\n",
       "\t<tr><th scope=row>4384</th><td>AIZ93756</td><td>NA</td><td>NA</td><td>NA</td><td>NA</td><td>NA</td><td>NA</td><td>NA</td><td>NA</td><td>NA</td><td>NA</td></tr>\n",
       "\t<tr><th scope=row>4385</th><td>AIZ93770</td><td>NA</td><td>NA</td><td>NA</td><td>NA</td><td>NA</td><td>NA</td><td>NA</td><td>NA</td><td>NA</td><td>NA</td></tr>\n",
       "\t<tr><th scope=row>4386</th><td>AIZ93777</td><td>NA</td><td>NA</td><td>NA</td><td>NA</td><td>NA</td><td>NA</td><td>NA</td><td>NA</td><td>NA</td><td>NA</td></tr>\n",
       "\t<tr><th scope=row>4387</th><td>AIZ93798</td><td>NA</td><td>NA</td><td>NA</td><td>NA</td><td>NA</td><td>NA</td><td>NA</td><td>NA</td><td>NA</td><td>NA</td></tr>\n",
       "\t<tr><th scope=row>4388</th><td>AIZ93799</td><td>NA</td><td>NA</td><td>NA</td><td>NA</td><td>NA</td><td>NA</td><td>NA</td><td>NA</td><td>NA</td><td>NA</td></tr>\n",
       "\t<tr><th scope=row>4389</th><td>AIZ93800</td><td>NA</td><td>NA</td><td>NA</td><td>NA</td><td>NA</td><td>NA</td><td>NA</td><td>NA</td><td>NA</td><td>NA</td></tr>\n",
       "\t<tr><th scope=row>4390</th><td>AIZ93826</td><td>NA</td><td>NA</td><td>NA</td><td>NA</td><td>NA</td><td>NA</td><td>NA</td><td>NA</td><td>NA</td><td>NA</td></tr>\n",
       "\t<tr><th scope=row>4391</th><td>AIZ93848</td><td>NA</td><td>NA</td><td>NA</td><td>NA</td><td>NA</td><td>NA</td><td>NA</td><td>NA</td><td>NA</td><td>NA</td></tr>\n",
       "</tbody>\n",
       "</table>\n"
      ],
      "text/latex": [
       "\\begin{tabular}{r|lllllllllll}\n",
       "  & target_id & pval & qval & b & se_b & mean_obs & var_obs & tech_var & sigma_sq & smooth_sigma_sq & final_sigma_sq\\\\\n",
       "\\hline\n",
       "\t1 & AIZ90411 & 0 & 0 & 9.28473280810254 & 0.133762675178884 & 3.94921922349132 & 25.8618882189155 & 0.000100106378182769 & -8.85769296197625e-05 & 0.0267385735283345 & 0.0267385735283345\\\\\n",
       "\t2 & AIZ93099 & 4.26140451807797e-99 & 8.8594599930841e-96 & -3.27563493552592 & 0.155026704663539 & 6.98289326217091 & 3.24777520424198 & 0.00235190966543792 & 0.0336980090728161 & 0.0114557934447799 & 0.0336980090728161\\\\\n",
       "\t3 & AIZ92946 & 1.32279662333768e-72 & 1.83339611994602e-69 & 2.28681336967479 & 0.126894112623107 & 5.27410038540937 & 1.57688006226971 & 0.00773759416748568 & 0.00229421327338853 & 0.0164155795601231 & 0.0164155795601231\\\\\n",
       "\t4 & AIZ93100 & 8.21902783306916e-52 & 8.54367943247539e-49 & -3.1139601265793 & 0.2056145242785 & 8.03981393165289 & 2.95975710009087 & 0.000773185814425888 & 0.0626428130769849 & 0.0111461955260451 & 0.0626428130769849\\\\\n",
       "\t5 & AIZ91713 & 1.26049533680537e-45 & 1.04822792208735e-42 & -1.96571250943783 & 0.13864897744009 & 5.13049889438274 & 1.18227594766233 & 0.00883411150476848 & 0.0200011969130056 & 0.0169768598067625 & 0.0200011969130056\\\\\n",
       "\t6 & AIZ91712 & 1.27936490056432e-32 & 8.86599876091071e-30 & -2.12499490853855 & 0.178668647867135 & 4.32150683121498 & 1.37969672884239 & 0.0253879712335069 & 0.00588167932644688 & 0.0224957573624985 & 0.0224957573624985\\\\\n",
       "\t7 & AIZ90007 & 3.19379093302334e-27 & 1.89711181421586e-24 & -1.06056038870475 & 0.0981376017160149 & 7.77214809019623 & 0.348993688071556 & 0.000472578419014025 & 0.0139739048868427 & 0.0109536901595033 & 0.0139739048868427\\\\\n",
       "\t8 & AIZ92947 & 1.25674451810023e-26 & 6.53192963282594e-24 & 1.47772333924252 & 0.138357907243693 & 4.87911559300511 & 0.669365188896688 & 0.0104788063607182 & 0.00735282950687335 & 0.0182355593845632 & 0.0182355593845632\\\\\n",
       "\t9 & AIZ92849 & 1.04962249529623e-22 & 4.84925592826858e-20 & -0.859798418732632 & 0.0876711976946014 & 8.06964112710473 & 0.222703023447289 & 0.000354782209457806 & 0.000804001778977092 & 0.011174576148351 & 0.011174576148351\\\\\n",
       "\t10 & AIZ91772 & 1.39072537553828e-22 & 5.78263611148819e-20 & -1.82917329146977 & 0.18705812912824 & 5.73571540134511 & 1.04575137147546 & 0.0056234100246461 & 0.0468627054847898 & 0.0147926684398501 & 0.0468627054847898\\\\\n",
       "\t11 & AIZ91603 & 1.83575388172995e-22 & 6.93914967293919e-20 & -1.11717015685328 & 0.114575766338152 & 6.26599197772545 & 0.390173875287447 & 0.0024139299987849 & 0.0172774793491774 & 0.0133193752742365 & 0.0172774793491774\\\\\n",
       "\t12 & AIZ90787 & 2.5373212460117e-22 & 8.79181811743054e-20 & -0.876404001247031 & 0.0901874448515314 & 7.11542512865354 & 0.232813685635283 & 0.000976369565064147 & 0.00200924745336192 & 0.0112242932482079 & 0.0112242932482079\\\\\n",
       "\t13 & AIZ93532 & 6.03190621529367e-20 & 1.92928200332239e-17 & -1.25561413931335 & 0.13731926882643 & 4.84994415388992 & 0.494288366411787 & 0.00986880446974622 & 0.0167790784786388 & 0.0184160679167919 & 0.0184160679167919\\\\\n",
       "\t14 & AIZ93383 & 6.56936142714279e-19 & 1.95110034386141e-16 & -0.829575874439062 & 0.0934001117934098 & 9.40810028727749 & 0.207806789794566 & 9.76279062157954e-05 & 0.00158731004274081 & 0.0129877434183164 & 0.0129877434183164\\\\\n",
       "\t15 & AIZ89971 & 1.2084084136035e-17 & 3.3497081225089e-15 & 0.955429613299176 & 0.111718362848766 & 5.89387890807727 & 0.288830914907833 & 0.00345351773124882 & 0.015267971165164 & 0.0143386024506666 & 0.015267971165164\\\\\n",
       "\t16 & AIZ91945 & 1.78201997954389e-15 & 4.63102442183968e-13 & 2.00382159997202 & 0.251874213881426 & 10.2296360537701 & 1.28071904489639 & 6.89053167863579e-05 & 0.095092024110793 & 0.0143434334409266 & 0.095092024110793\\\\\n",
       "\t17 & AIZ92770 & 2.05672128134127e-15 & 5.03049828695118e-13 & -0.95600606330827 & 0.120435997557038 & 6.08860306019384 & 0.291590073333724 & 0.00262508140493773 & 0.0191321628564007 & 0.0138208859131621 & 0.0191321628564007\\\\\n",
       "\t18 & AIZ91902 & 2.63119164387123e-15 & 6.07805269734255e-13 & -1.01009828616715 & 0.127743174484442 & 4.99691876315959 & 0.322530078718216 & 0.00688969814424104 & 0.0136609448593491 & 0.0175877797968029 & 0.0175877797968029\\\\\n",
       "\t19 & AIZ90718 & 1.93677252626342e-14 & 4.23847377063331e-12 & 0.841453839098338 & 0.109925602595246 & 5.7679656807301 & 0.21667066310554 & 0.00343053962597785 & 0.00189107800594814 & 0.014694917532914 & 0.014694917532914\\\\\n",
       "\t20 & AIZ89485 & 2.74255992390754e-14 & 5.70178208180378e-12 & -1.20241706824143 & 0.15800643769632 & 6.72170189598482 & 0.463701283023676 & 0.00157486543126732 & 0.0358741860989544 & 0.0119666568150649 & 0.0358741860989544\\\\\n",
       "\t21 & AIZ91394 & 6.12570292398472e-14 & 1.21288917894897e-11 & 1.19463369232335 & 0.159170603076144 & 9.06839703264582 & 0.458547234710581 & 0.000115967919818871 & 0.037886953405616 & 0.0124808684268429 & 0.037886953405616\\\\\n",
       "\t22 & AIZ92187 & 7.88406540993045e-14 & 1.49008836247686e-11 & 0.935012344602828 & 0.125131455047311 & 5.06812511161266 & 0.269239431694332 & 0.00623819913464502 & 0.00246805877339171 & 0.0172486224287408 & 0.0172486224287408\\\\\n",
       "\t23 & AIZ92948 & 1.16852189769278e-13 & 2.11248436982895e-11 & 1.57071884075312 & 0.211678514944944 & 3.57940347245795 & 0.785273698015835 & 0.0343715289623634 & 0.0220364647961214 & 0.0328401615715822 & 0.0328401615715822\\\\\n",
       "\t24 & AIZ92916 & 3.9088772973784e-13 & 6.77212991770808e-11 & 0.648916645838894 & 0.0893987198861433 & 8.57832048952109 & 0.133858875780919 & 0.000193700732688977 & 0.00922008902590895 & 0.0117944959432327 & 0.0117944959432327\\\\\n",
       "\t25 & AIZ89695 & 4.35737338715969e-13 & 7.24718341752399e-11 & 0.654669482415605 & 0.0903744035720584 & 8.81127109129805 & 0.13798595604713 & 0.000136650979484978 & 0.0116237448770597 & 0.0121146482520229 & 0.0121146482520229\\\\\n",
       "\t26 & AIZ92370 & 4.8290006579076e-13 & 7.72268643676147e-11 & -1.47730425097176 & 0.204329025130242 & 6.53989577908343 & 0.704828775594581 & 0.00186921562521497 & 0.0607563101407978 & 0.0124499444760144 & 0.0607563101407978\\\\\n",
       "\t27 & AIZ91905 & 5.194016235152e-13 & 7.99878500213408e-11 & -1.10379930983221 & 0.152878163664399 & 5.10523095234962 & 0.393557954426299 & 0.00730146143457017 & 0.027756137953528 & 0.0170844293783472 & 0.027756137953528\\\\\n",
       "\t28 & AIZ93850 & 1.02086407824035e-12 & 1.51598315618693e-10 & 0.624557588550526 & 0.0876244398218559 & 7.74797800619693 & 0.126235305369727 & 0.000449899311067 & 0.0110671643700741 & 0.0109425756094274 & 0.0110671643700741\\\\\n",
       "\t29 & AIZ92850 & 1.13942821158244e-12 & 1.63370431164131e-10 & -0.621959170060584 & 0.0874456801871009 & 7.62088188329928 & 0.117753458942793 & 0.00056616392185807 & 0.00156320629821407 & 0.010903956553219 & 0.010903956553219\\\\\n",
       "\t30 & AIZ90067 & 6.56602077695731e-12 & 9.10050479686283e-10 & 0.619679548923934 & 0.0902429047784003 & 7.11155416558531 & 0.118696942266312 & 0.000985204656118045 & 0.0033849444188076 & 0.0112304681381471 & 0.0112304681381471\\\\\n",
       "\t⋮ & ⋮ & ⋮ & ⋮ & ⋮ & ⋮ & ⋮ & ⋮ & ⋮ & ⋮ & ⋮ & ⋮\\\\\n",
       "\t4362 & AIZ93165 & NA & NA & NA & NA & NA & NA & NA & NA & NA & NA\\\\\n",
       "\t4363 & AIZ93182 & NA & NA & NA & NA & NA & NA & NA & NA & NA & NA\\\\\n",
       "\t4364 & AIZ93192 & NA & NA & NA & NA & NA & NA & NA & NA & NA & NA\\\\\n",
       "\t4365 & AIZ93196 & NA & NA & NA & NA & NA & NA & NA & NA & NA & NA\\\\\n",
       "\t4366 & AIZ93202 & NA & NA & NA & NA & NA & NA & NA & NA & NA & NA\\\\\n",
       "\t4367 & AIZ93205 & NA & NA & NA & NA & NA & NA & NA & NA & NA & NA\\\\\n",
       "\t4368 & AIZ93280 & NA & NA & NA & NA & NA & NA & NA & NA & NA & NA\\\\\n",
       "\t4369 & AIZ93311 & NA & NA & NA & NA & NA & NA & NA & NA & NA & NA\\\\\n",
       "\t4370 & AIZ93315 & NA & NA & NA & NA & NA & NA & NA & NA & NA & NA\\\\\n",
       "\t4371 & AIZ93320 & NA & NA & NA & NA & NA & NA & NA & NA & NA & NA\\\\\n",
       "\t4372 & AIZ93332 & NA & NA & NA & NA & NA & NA & NA & NA & NA & NA\\\\\n",
       "\t4373 & AIZ93395 & NA & NA & NA & NA & NA & NA & NA & NA & NA & NA\\\\\n",
       "\t4374 & AIZ93488 & NA & NA & -0.174451970933214 & NA & 13.2851336802796 & 0.0472163752563874 & 1.67197478727674e-06 & 0.0476062382847645 & NA & NA\\\\\n",
       "\t4375 & AIZ93540 & NA & NA & NA & NA & NA & NA & NA & NA & NA & NA\\\\\n",
       "\t4376 & AIZ93541 & NA & NA & NA & NA & NA & NA & NA & NA & NA & NA\\\\\n",
       "\t4377 & AIZ93613 & NA & NA & NA & NA & NA & NA & NA & NA & NA & NA\\\\\n",
       "\t4378 & AIZ93614 & NA & NA & NA & NA & NA & NA & NA & NA & NA & NA\\\\\n",
       "\t4379 & AIZ93624 & NA & NA & NA & NA & NA & NA & NA & NA & NA & NA\\\\\n",
       "\t4380 & AIZ93639 & NA & NA & NA & NA & NA & NA & NA & NA & NA & NA\\\\\n",
       "\t4381 & AIZ93671 & NA & NA & NA & NA & NA & NA & NA & NA & NA & NA\\\\\n",
       "\t4382 & AIZ93703 & NA & NA & NA & NA & NA & NA & NA & NA & NA & NA\\\\\n",
       "\t4383 & AIZ93704 & NA & NA & NA & NA & NA & NA & NA & NA & NA & NA\\\\\n",
       "\t4384 & AIZ93756 & NA & NA & NA & NA & NA & NA & NA & NA & NA & NA\\\\\n",
       "\t4385 & AIZ93770 & NA & NA & NA & NA & NA & NA & NA & NA & NA & NA\\\\\n",
       "\t4386 & AIZ93777 & NA & NA & NA & NA & NA & NA & NA & NA & NA & NA\\\\\n",
       "\t4387 & AIZ93798 & NA & NA & NA & NA & NA & NA & NA & NA & NA & NA\\\\\n",
       "\t4388 & AIZ93799 & NA & NA & NA & NA & NA & NA & NA & NA & NA & NA\\\\\n",
       "\t4389 & AIZ93800 & NA & NA & NA & NA & NA & NA & NA & NA & NA & NA\\\\\n",
       "\t4390 & AIZ93826 & NA & NA & NA & NA & NA & NA & NA & NA & NA & NA\\\\\n",
       "\t4391 & AIZ93848 & NA & NA & NA & NA & NA & NA & NA & NA & NA & NA\\\\\n",
       "\\end{tabular}\n"
      ],
      "text/plain": [
       "     target_id                 pval                 qval                  b\n",
       "1     AIZ90411                    0                    0   9.28473280810254\n",
       "2     AIZ93099 4.26140451807797e-99  8.8594599930841e-96  -3.27563493552592\n",
       "3     AIZ92946 1.32279662333768e-72 1.83339611994602e-69   2.28681336967479\n",
       "4     AIZ93100 8.21902783306916e-52 8.54367943247539e-49   -3.1139601265793\n",
       "5     AIZ91713 1.26049533680537e-45 1.04822792208735e-42  -1.96571250943783\n",
       "6     AIZ91712 1.27936490056432e-32 8.86599876091071e-30  -2.12499490853855\n",
       "7     AIZ90007 3.19379093302334e-27 1.89711181421586e-24  -1.06056038870475\n",
       "8     AIZ92947 1.25674451810023e-26 6.53192963282594e-24   1.47772333924252\n",
       "9     AIZ92849 1.04962249529623e-22 4.84925592826858e-20 -0.859798418732632\n",
       "10    AIZ91772 1.39072537553828e-22 5.78263611148819e-20  -1.82917329146977\n",
       "11    AIZ91603 1.83575388172995e-22 6.93914967293919e-20  -1.11717015685328\n",
       "12    AIZ90787  2.5373212460117e-22 8.79181811743054e-20 -0.876404001247031\n",
       "13    AIZ93532 6.03190621529367e-20 1.92928200332239e-17  -1.25561413931335\n",
       "14    AIZ93383 6.56936142714279e-19 1.95110034386141e-16 -0.829575874439062\n",
       "15    AIZ89971  1.2084084136035e-17  3.3497081225089e-15  0.955429613299176\n",
       "16    AIZ91945 1.78201997954389e-15 4.63102442183968e-13   2.00382159997202\n",
       "17    AIZ92770 2.05672128134127e-15 5.03049828695118e-13  -0.95600606330827\n",
       "18    AIZ91902 2.63119164387123e-15 6.07805269734255e-13  -1.01009828616715\n",
       "19    AIZ90718 1.93677252626342e-14 4.23847377063331e-12  0.841453839098338\n",
       "20    AIZ89485 2.74255992390754e-14 5.70178208180378e-12  -1.20241706824143\n",
       "21    AIZ91394 6.12570292398472e-14 1.21288917894897e-11   1.19463369232335\n",
       "22    AIZ92187 7.88406540993045e-14 1.49008836247686e-11  0.935012344602828\n",
       "23    AIZ92948 1.16852189769278e-13 2.11248436982895e-11   1.57071884075312\n",
       "24    AIZ92916  3.9088772973784e-13 6.77212991770808e-11  0.648916645838894\n",
       "25    AIZ89695 4.35737338715969e-13 7.24718341752399e-11  0.654669482415605\n",
       "26    AIZ92370  4.8290006579076e-13 7.72268643676147e-11  -1.47730425097176\n",
       "27    AIZ91905   5.194016235152e-13 7.99878500213408e-11  -1.10379930983221\n",
       "28    AIZ93850 1.02086407824035e-12 1.51598315618693e-10  0.624557588550526\n",
       "29    AIZ92850 1.13942821158244e-12 1.63370431164131e-10 -0.621959170060584\n",
       "30    AIZ90067 6.56602077695731e-12 9.10050479686283e-10  0.619679548923934\n",
       "⋮            ⋮                    ⋮                    ⋮                  ⋮\n",
       "4362  AIZ93165                 <NA>                 <NA>               <NA>\n",
       "4363  AIZ93182                 <NA>                 <NA>               <NA>\n",
       "4364  AIZ93192                 <NA>                 <NA>               <NA>\n",
       "4365  AIZ93196                 <NA>                 <NA>               <NA>\n",
       "4366  AIZ93202                 <NA>                 <NA>               <NA>\n",
       "4367  AIZ93205                 <NA>                 <NA>               <NA>\n",
       "4368  AIZ93280                 <NA>                 <NA>               <NA>\n",
       "4369  AIZ93311                 <NA>                 <NA>               <NA>\n",
       "4370  AIZ93315                 <NA>                 <NA>               <NA>\n",
       "4371  AIZ93320                 <NA>                 <NA>               <NA>\n",
       "4372  AIZ93332                 <NA>                 <NA>               <NA>\n",
       "4373  AIZ93395                 <NA>                 <NA>               <NA>\n",
       "4374  AIZ93488                 <NA>                 <NA> -0.174451970933214\n",
       "4375  AIZ93540                 <NA>                 <NA>               <NA>\n",
       "4376  AIZ93541                 <NA>                 <NA>               <NA>\n",
       "4377  AIZ93613                 <NA>                 <NA>               <NA>\n",
       "4378  AIZ93614                 <NA>                 <NA>               <NA>\n",
       "4379  AIZ93624                 <NA>                 <NA>               <NA>\n",
       "4380  AIZ93639                 <NA>                 <NA>               <NA>\n",
       "4381  AIZ93671                 <NA>                 <NA>               <NA>\n",
       "4382  AIZ93703                 <NA>                 <NA>               <NA>\n",
       "4383  AIZ93704                 <NA>                 <NA>               <NA>\n",
       "4384  AIZ93756                 <NA>                 <NA>               <NA>\n",
       "4385  AIZ93770                 <NA>                 <NA>               <NA>\n",
       "4386  AIZ93777                 <NA>                 <NA>               <NA>\n",
       "4387  AIZ93798                 <NA>                 <NA>               <NA>\n",
       "4388  AIZ93799                 <NA>                 <NA>               <NA>\n",
       "4389  AIZ93800                 <NA>                 <NA>               <NA>\n",
       "4390  AIZ93826                 <NA>                 <NA>               <NA>\n",
       "4391  AIZ93848                 <NA>                 <NA>               <NA>\n",
       "                   se_b         mean_obs            var_obs\n",
       "1     0.133762675178884 3.94921922349132   25.8618882189155\n",
       "2     0.155026704663539 6.98289326217091   3.24777520424198\n",
       "3     0.126894112623107 5.27410038540937   1.57688006226971\n",
       "4       0.2056145242785 8.03981393165289   2.95975710009087\n",
       "5      0.13864897744009 5.13049889438274   1.18227594766233\n",
       "6     0.178668647867135 4.32150683121498   1.37969672884239\n",
       "7    0.0981376017160149 7.77214809019623  0.348993688071556\n",
       "8     0.138357907243693 4.87911559300511  0.669365188896688\n",
       "9    0.0876711976946014 8.06964112710473  0.222703023447289\n",
       "10     0.18705812912824 5.73571540134511   1.04575137147546\n",
       "11    0.114575766338152 6.26599197772545  0.390173875287447\n",
       "12   0.0901874448515314 7.11542512865354  0.232813685635283\n",
       "13     0.13731926882643 4.84994415388992  0.494288366411787\n",
       "14   0.0934001117934098 9.40810028727749  0.207806789794566\n",
       "15    0.111718362848766 5.89387890807727  0.288830914907833\n",
       "16    0.251874213881426 10.2296360537701   1.28071904489639\n",
       "17    0.120435997557038 6.08860306019384  0.291590073333724\n",
       "18    0.127743174484442 4.99691876315959  0.322530078718216\n",
       "19    0.109925602595246  5.7679656807301   0.21667066310554\n",
       "20     0.15800643769632 6.72170189598482  0.463701283023676\n",
       "21    0.159170603076144 9.06839703264582  0.458547234710581\n",
       "22    0.125131455047311 5.06812511161266  0.269239431694332\n",
       "23    0.211678514944944 3.57940347245795  0.785273698015835\n",
       "24   0.0893987198861433 8.57832048952109  0.133858875780919\n",
       "25   0.0903744035720584 8.81127109129805   0.13798595604713\n",
       "26    0.204329025130242 6.53989577908343  0.704828775594581\n",
       "27    0.152878163664399 5.10523095234962  0.393557954426299\n",
       "28   0.0876244398218559 7.74797800619693  0.126235305369727\n",
       "29   0.0874456801871009 7.62088188329928  0.117753458942793\n",
       "30   0.0902429047784003 7.11155416558531  0.118696942266312\n",
       "⋮                     ⋮                ⋮                  ⋮\n",
       "4362               <NA>             <NA>               <NA>\n",
       "4363               <NA>             <NA>               <NA>\n",
       "4364               <NA>             <NA>               <NA>\n",
       "4365               <NA>             <NA>               <NA>\n",
       "4366               <NA>             <NA>               <NA>\n",
       "4367               <NA>             <NA>               <NA>\n",
       "4368               <NA>             <NA>               <NA>\n",
       "4369               <NA>             <NA>               <NA>\n",
       "4370               <NA>             <NA>               <NA>\n",
       "4371               <NA>             <NA>               <NA>\n",
       "4372               <NA>             <NA>               <NA>\n",
       "4373               <NA>             <NA>               <NA>\n",
       "4374               <NA> 13.2851336802796 0.0472163752563874\n",
       "4375               <NA>             <NA>               <NA>\n",
       "4376               <NA>             <NA>               <NA>\n",
       "4377               <NA>             <NA>               <NA>\n",
       "4378               <NA>             <NA>               <NA>\n",
       "4379               <NA>             <NA>               <NA>\n",
       "4380               <NA>             <NA>               <NA>\n",
       "4381               <NA>             <NA>               <NA>\n",
       "4382               <NA>             <NA>               <NA>\n",
       "4383               <NA>             <NA>               <NA>\n",
       "4384               <NA>             <NA>               <NA>\n",
       "4385               <NA>             <NA>               <NA>\n",
       "4386               <NA>             <NA>               <NA>\n",
       "4387               <NA>             <NA>               <NA>\n",
       "4388               <NA>             <NA>               <NA>\n",
       "4389               <NA>             <NA>               <NA>\n",
       "4390               <NA>             <NA>               <NA>\n",
       "4391               <NA>             <NA>               <NA>\n",
       "                 tech_var              sigma_sq    smooth_sigma_sq\n",
       "1    0.000100106378182769 -8.85769296197625e-05 0.0267385735283345\n",
       "2     0.00235190966543792    0.0336980090728161 0.0114557934447799\n",
       "3     0.00773759416748568   0.00229421327338853 0.0164155795601231\n",
       "4    0.000773185814425888    0.0626428130769849 0.0111461955260451\n",
       "5     0.00883411150476848    0.0200011969130056 0.0169768598067625\n",
       "6      0.0253879712335069   0.00588167932644688 0.0224957573624985\n",
       "7    0.000472578419014025    0.0139739048868427 0.0109536901595033\n",
       "8      0.0104788063607182   0.00735282950687335 0.0182355593845632\n",
       "9    0.000354782209457806  0.000804001778977092  0.011174576148351\n",
       "10     0.0056234100246461    0.0468627054847898 0.0147926684398501\n",
       "11     0.0024139299987849    0.0172774793491774 0.0133193752742365\n",
       "12   0.000976369565064147   0.00200924745336192 0.0112242932482079\n",
       "13    0.00986880446974622    0.0167790784786388 0.0184160679167919\n",
       "14   9.76279062157954e-05   0.00158731004274081 0.0129877434183164\n",
       "15    0.00345351773124882     0.015267971165164 0.0143386024506666\n",
       "16   6.89053167863579e-05     0.095092024110793 0.0143434334409266\n",
       "17    0.00262508140493773    0.0191321628564007 0.0138208859131621\n",
       "18    0.00688969814424104    0.0136609448593491 0.0175877797968029\n",
       "19    0.00343053962597785   0.00189107800594814  0.014694917532914\n",
       "20    0.00157486543126732    0.0358741860989544 0.0119666568150649\n",
       "21   0.000115967919818871     0.037886953405616 0.0124808684268429\n",
       "22    0.00623819913464502   0.00246805877339171 0.0172486224287408\n",
       "23     0.0343715289623634    0.0220364647961214 0.0328401615715822\n",
       "24   0.000193700732688977   0.00922008902590895 0.0117944959432327\n",
       "25   0.000136650979484978    0.0116237448770597 0.0121146482520229\n",
       "26    0.00186921562521497    0.0607563101407978 0.0124499444760144\n",
       "27    0.00730146143457017     0.027756137953528 0.0170844293783472\n",
       "28      0.000449899311067    0.0110671643700741 0.0109425756094274\n",
       "29    0.00056616392185807   0.00156320629821407  0.010903956553219\n",
       "30   0.000985204656118045    0.0033849444188076 0.0112304681381471\n",
       "⋮                       ⋮                     ⋮                  ⋮\n",
       "4362                 <NA>                  <NA>               <NA>\n",
       "4363                 <NA>                  <NA>               <NA>\n",
       "4364                 <NA>                  <NA>               <NA>\n",
       "4365                 <NA>                  <NA>               <NA>\n",
       "4366                 <NA>                  <NA>               <NA>\n",
       "4367                 <NA>                  <NA>               <NA>\n",
       "4368                 <NA>                  <NA>               <NA>\n",
       "4369                 <NA>                  <NA>               <NA>\n",
       "4370                 <NA>                  <NA>               <NA>\n",
       "4371                 <NA>                  <NA>               <NA>\n",
       "4372                 <NA>                  <NA>               <NA>\n",
       "4373                 <NA>                  <NA>               <NA>\n",
       "4374 1.67197478727674e-06    0.0476062382847645               <NA>\n",
       "4375                 <NA>                  <NA>               <NA>\n",
       "4376                 <NA>                  <NA>               <NA>\n",
       "4377                 <NA>                  <NA>               <NA>\n",
       "4378                 <NA>                  <NA>               <NA>\n",
       "4379                 <NA>                  <NA>               <NA>\n",
       "4380                 <NA>                  <NA>               <NA>\n",
       "4381                 <NA>                  <NA>               <NA>\n",
       "4382                 <NA>                  <NA>               <NA>\n",
       "4383                 <NA>                  <NA>               <NA>\n",
       "4384                 <NA>                  <NA>               <NA>\n",
       "4385                 <NA>                  <NA>               <NA>\n",
       "4386                 <NA>                  <NA>               <NA>\n",
       "4387                 <NA>                  <NA>               <NA>\n",
       "4388                 <NA>                  <NA>               <NA>\n",
       "4389                 <NA>                  <NA>               <NA>\n",
       "4390                 <NA>                  <NA>               <NA>\n",
       "4391                 <NA>                  <NA>               <NA>\n",
       "         final_sigma_sq\n",
       "1    0.0267385735283345\n",
       "2    0.0336980090728161\n",
       "3    0.0164155795601231\n",
       "4    0.0626428130769849\n",
       "5    0.0200011969130056\n",
       "6    0.0224957573624985\n",
       "7    0.0139739048868427\n",
       "8    0.0182355593845632\n",
       "9     0.011174576148351\n",
       "10   0.0468627054847898\n",
       "11   0.0172774793491774\n",
       "12   0.0112242932482079\n",
       "13   0.0184160679167919\n",
       "14   0.0129877434183164\n",
       "15    0.015267971165164\n",
       "16    0.095092024110793\n",
       "17   0.0191321628564007\n",
       "18   0.0175877797968029\n",
       "19    0.014694917532914\n",
       "20   0.0358741860989544\n",
       "21    0.037886953405616\n",
       "22   0.0172486224287408\n",
       "23   0.0328401615715822\n",
       "24   0.0117944959432327\n",
       "25   0.0121146482520229\n",
       "26   0.0607563101407978\n",
       "27    0.027756137953528\n",
       "28   0.0110671643700741\n",
       "29    0.010903956553219\n",
       "30   0.0112304681381471\n",
       "⋮                     ⋮\n",
       "4362               <NA>\n",
       "4363               <NA>\n",
       "4364               <NA>\n",
       "4365               <NA>\n",
       "4366               <NA>\n",
       "4367               <NA>\n",
       "4368               <NA>\n",
       "4369               <NA>\n",
       "4370               <NA>\n",
       "4371               <NA>\n",
       "4372               <NA>\n",
       "4373               <NA>\n",
       "4374               <NA>\n",
       "4375               <NA>\n",
       "4376               <NA>\n",
       "4377               <NA>\n",
       "4378               <NA>\n",
       "4379               <NA>\n",
       "4380               <NA>\n",
       "4381               <NA>\n",
       "4382               <NA>\n",
       "4383               <NA>\n",
       "4384               <NA>\n",
       "4385               <NA>\n",
       "4386               <NA>\n",
       "4387               <NA>\n",
       "4388               <NA>\n",
       "4389               <NA>\n",
       "4390               <NA>\n",
       "4391               <NA>"
      ]
     },
     "execution_count": 16,
     "metadata": {},
     "output_type": "execute_result"
    }
   ],
   "source": [
    "res <- sleuth_results(so, 'conditionwt')\n",
    "res"
   ]
  },
  {
   "cell_type": "code",
   "execution_count": 17,
   "metadata": {
    "collapsed": true
   },
   "outputs": [],
   "source": [
    "write.table(res,file='../kallisto/results.tsv', sep='\\t')"
   ]
  },
  {
   "cell_type": "code",
   "execution_count": null,
   "metadata": {
    "collapsed": false
   },
   "outputs": [
    {
     "name": "stderr",
     "output_type": "stream",
     "text": [
      "Loading required package: shiny\n",
      "\n",
      "Listening on http://127.0.0.1:42427\n",
      "Warning message:\n",
      ": Removed 3 rows containing missing values (geom_path)."
     ]
    }
   ],
   "source": [
    "sleuth_live(so)"
   ]
  },
  {
   "cell_type": "code",
   "execution_count": null,
   "metadata": {
    "collapsed": true
   },
   "outputs": [],
   "source": [
    "res <- sleuth_results(so, 'conditionwt')"
   ]
  },
  {
   "cell_type": "code",
   "execution_count": null,
   "metadata": {
    "collapsed": true
   },
   "outputs": [],
   "source": []
  }
 ],
 "metadata": {
  "kernelspec": {
   "display_name": "R",
   "language": "R",
   "name": "ir"
  },
  "language_info": {
   "codemirror_mode": "r",
   "file_extension": ".r",
   "mimetype": "text/x-r-source",
   "name": "R",
   "pygments_lexer": "r",
   "version": "3.2.2"
  }
 },
 "nbformat": 4,
 "nbformat_minor": 0
}
