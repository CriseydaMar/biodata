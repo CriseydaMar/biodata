{
 "cells": [
  {
   "cell_type": "markdown",
   "metadata": {},
   "source": [
    "## What this is"
   ]
  },
  {
   "cell_type": "markdown",
   "metadata": {},
   "source": [
    "This is going to be a hands-on workshop that aims to familiarize you with basic skills required to handle (mostly) genomic data. If everything goes well you'll be able to run (at least) simple analyses on your data (or at least to tell wether your data are good or not.\n",
    "\n",
    "We will do our best to stick to \"learning by doing\" prardigm."
   ]
  },
  {
   "cell_type": "markdown",
   "metadata": {},
   "source": [
    "We will cover:\n",
    "\n",
    "- UNIX command line basics\n",
    "- working with remote servers\n",
    "- common file formats and bioinformtics tools\n",
    "- building simple pipelines from these tools\n",
    "- python basics (using python to analyze your data)\n",
    "- using jupyter notebook to document your work\n",
    "- data visualization\n",
    "- stats refresher"
   ]
  },
  {
   "cell_type": "markdown",
   "metadata": {},
   "source": [
    "What this is _NOT_:\n",
    "\n",
    "- this is not an introduction to NGS (read Illumina) sequencing (that would have to be a separate workshop)\n",
    "- this is not an experiment design workshop (in most cases, garbage in - garbage out)"
   ]
  },
  {
   "cell_type": "code",
   "execution_count": null,
   "metadata": {
    "collapsed": true
   },
   "outputs": [],
   "source": []
  }
 ],
 "metadata": {
  "kernelspec": {
   "display_name": "Python 2",
   "language": "python",
   "name": "python2"
  },
  "language_info": {
   "codemirror_mode": {
    "name": "ipython",
    "version": 2
   },
   "file_extension": ".py",
   "mimetype": "text/x-python",
   "name": "python",
   "nbconvert_exporter": "python",
   "pygments_lexer": "ipython2",
   "version": "2.7.9"
  }
 },
 "nbformat": 4,
 "nbformat_minor": 0
}
