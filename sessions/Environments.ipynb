{
 "cells": [
  {
   "cell_type": "code",
   "execution_count": 1,
   "metadata": {
    "collapsed": true
   },
   "outputs": [],
   "source": [
    "%matplotlib inline"
   ]
  },
  {
   "cell_type": "code",
   "execution_count": 2,
   "metadata": {
    "collapsed": true
   },
   "outputs": [],
   "source": [
    "from __future__ import print_function, division\n",
    "import pandas as pd\n",
    "import numpy as np"
   ]
  },
  {
   "cell_type": "markdown",
   "metadata": {},
   "source": [
    "## Virtual environments\n",
    "\n",
    "System installation of python and associated python packages is not always what you need. The development of scientific software usually happens faster and is not aligned with OS releases (true for both Mac and linux).On Mac the situation is confounded by the inclusion of both 32 and 64 -bit python libraries."
   ]
  },
  {
   "cell_type": "markdown",
   "metadata": {},
   "source": [
    "The solution is to create an isolated (almost) self-contained environment that has all the packages you need for a particular project."
   ]
  },
  {
   "cell_type": "markdown",
   "metadata": {},
   "source": [
    "### Aside: package management\n",
    "\n",
    "The program that tracks the list and the state of installed packages in the system is called pacakge manager.\n",
    "\n",
    "* `apt-get`, `aptitude` - Debian based linuxes\n",
    "* `brew` - for Mac (?)\n",
    "\n",
    "These tools install, upgrade and uninstall software system-wide, resolving dependencies on the fly.\n",
    "\n",
    "However, python programs and packages are also distributed via `pip`. `pip` is cross-platform, while the above tools are platform-specific. Mixing the two is not good.\n",
    "\n",
    "The current best practice is to install system-level stuff using your OS package manager and use `pip` only to install stuff inside virtualenvs. One exception: installing `virtualenv` package itself."
   ]
  },
  {
   "cell_type": "markdown",
   "metadata": {},
   "source": [
    "### `virtualenv`\n",
    "\n",
    "This is the original, \"pythonic\" way to do this. Originated in Web development. Python 3.4 includes `virtualenv` as a part of standard library."
   ]
  },
  {
   "cell_type": "markdown",
   "metadata": {},
   "source": [
    "### `conda`\n",
    "\n",
    "This tool is developed and maintained by Continuum Analytics, the company behind Anaconda python distribution. Since we are using Anaconda anyway, we'll stick with this. "
   ]
  },
  {
   "cell_type": "markdown",
   "metadata": {},
   "source": [
    "#### create a new environment\n",
    "\n",
    "    $ conda create --name pydata3 python=3 pandas\n",
    "    $ conda create --name pydata python=2 numpy matplotlib\n",
    "    \n",
    "#### list environments\n",
    "\n",
    "    $ conda info --envs\n",
    "\n",
    "#### activate environment\n",
    "\n",
    "    $ source activate pydata3\n",
    "    (pydata3)$ deactivate\n",
    "    \n",
    "#### once inside environment you can use both `conda` and `pip`\n",
    "\n",
    "    (pydata3)$ conda install numpy\n",
    "    (pydata3)$ pip install ipython\n",
    "\n",
    "### deactivate environment\n",
    "\n",
    "    (pydata3)$ deactivate\n",
    "    $"
   ]
  },
  {
   "cell_type": "markdown",
   "metadata": {},
   "source": [
    "Whatever you install while in the environment will only be available inside that environment. Note how the output of `which python` command changes when inside an environment."
   ]
  },
  {
   "cell_type": "markdown",
   "metadata": {},
   "source": [
    "### `docker`\n",
    "\n",
    "This is almost a full-blown virtual machine. Allows one to combine arbitrary programs and packages (not only python) into a portable image that can be installed and run on another host computer."
   ]
  },
  {
   "cell_type": "markdown",
   "metadata": {},
   "source": [
    "## Git\n",
    "\n",
    "Distributed source control program. Tracks changes to a project and keeps them as a graph allowing to go back to the state of code at any point of time.\n",
    "\n",
    ">If it's not in `git` it doesn't exist.\n",
    "(anonymous)\n",
    "\n",
    "The centralized repository of many OSS project is known as github.\n",
    "\n",
    "What's relevant to us is that `git + pip` make it easy to install stuff straight from github.\n",
    "\n",
    "    $ pip install git+https://github.com/has2k1/ggplot.git@rewrite\n",
    "    \n",
    "An alternative way to do the same if you intend to play with the source:\n",
    "\n",
    "    $ git clone https://github.com/has2k1/ggplot.git\n",
    "    $ pip install -e ggplot\n",
    "    \n",
    "This will tell `pip` to install the package from the existing `ggplot` directory"
   ]
  },
  {
   "cell_type": "code",
   "execution_count": null,
   "metadata": {
    "collapsed": true
   },
   "outputs": [],
   "source": []
  }
 ],
 "metadata": {
  "kernelspec": {
   "display_name": "Python 2",
   "language": "python",
   "name": "python2"
  },
  "language_info": {
   "codemirror_mode": {
    "name": "ipython",
    "version": 2
   },
   "file_extension": ".py",
   "mimetype": "text/x-python",
   "name": "python",
   "nbconvert_exporter": "python",
   "pygments_lexer": "ipython2",
   "version": "2.7.9"
  }
 },
 "nbformat": 4,
 "nbformat_minor": 0
}
