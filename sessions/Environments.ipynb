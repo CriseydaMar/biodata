{
 "cells": [
  {
   "cell_type": "markdown",
   "metadata": {
    "deletable": true,
    "editable": true
   },
   "source": [
    "## Virtual environments\n",
    "\n",
    "System installation of python and associated python packages is not always what you need. The development of scientific software usually happens faster and is not aligned with OS releases (true for both Mac and linux). On Mac the situation is confounded by the inclusion of both 32 and 64 -bit python libraries."
   ]
  },
  {
   "cell_type": "markdown",
   "metadata": {
    "deletable": true,
    "editable": true
   },
   "source": [
    "The solution is to create an isolated (almost) self-contained environment that has all the packages you need for a particular project. This is called `virtualenv`."
   ]
  },
  {
   "cell_type": "markdown",
   "metadata": {
    "deletable": true,
    "editable": true
   },
   "source": [
    "### Aside: package management\n",
    "\n",
    "The program that tracks the list and the state of installed packages in the system is called pacakge manager.\n",
    "\n",
    "* `apt`, `apt-get`, `aptitude` - Debian based linuxes\n",
    "* `brew` - for Mac (?)\n",
    "* ?? - for Windows\n",
    "\n",
    "These tools install, upgrade and uninstall software system-wide, resolving dependencies on the fly.\n",
    "\n",
    "However, python programs and packages are also distributed via `pip`. `pip` is cross-platform, while the above tools are platform-specific. Mixing the two is not good.\n",
    "\n",
    "The current best practice is to install system-level stuff using your OS package manager and use `pip` only to install stuff inside virtualenvs. "
   ]
  },
  {
   "cell_type": "markdown",
   "metadata": {
    "deletable": true,
    "editable": true
   },
   "source": [
    "### `venv` (https://docs.python.org/3/library/venv.html) (formely `virtualenv`)\n",
    "\n",
    "This is the original, \"pythonic\" way to do this. As of python 3.4 `venv` as a part of standard library"
   ]
  },
  {
   "cell_type": "markdown",
   "metadata": {},
   "source": [
    "#### create a new environment\n",
    "\n",
    "As of python 3.6 pyvenv script is deprecated.\n",
    "\n",
    "Use `python3 -m venv /path/to/environment`\n",
    "\n",
    "```\n",
    "$ pyvenv ~/.venv/biodata3\n",
    "```\n",
    "\n",
    "#### activate environment\n",
    "\n",
    "```\n",
    "$ source ~/.venv/biodata3/bin/activate\n",
    "(biodata3)$ deactivate\n",
    "```\n",
    "\n",
    "#### install/update packages\n",
    "\n",
    "```\n",
    "(biodata3)$ pip install -U pip\n",
    "(biodata3)$ pip install jupyter\n",
    "```\n",
    "\n",
    "#### generate requirements file\n",
    "\n",
    "```\n",
    "(biodata3)$ pip freeze > requirements.txt\n",
    "(biodata3)$ less requirements.txt\n",
    "```\n",
    "\n",
    "#### what's inside?\n",
    "\n",
    "```\n",
    "(biodata3)$ ls -lah ~/.venv/biodata3\n",
    "```\n",
    "\n",
    "#### how to install many packages/recreate environment\n",
    "\n",
    "```\n",
    "(biodata3)$ pip install -r requirements.txt\n",
    "```\n",
    "\n",
    "sometimes the order of installation is important and `pip` can't figure it out on its own:\n",
    "\n",
    "```\n",
    "(biodata3)$ cat requirements.txt | xargs -n 1 -L 1 pip install\n",
    "```\n",
    "\n",
    "#### install from github repo\n",
    "\n",
    "```\n",
    "(biodata3)$ pip install git+https://github.com/eco32i/ggplot.git@rewrite\n",
    "```\n",
    "\n",
    "or clone the repo and install locally like so:\n",
    "\n",
    "```\n",
    "(biodata3)$ git clone https://github.com/eco32i/ggplot.git\n",
    "(biodata3)$ cd ggplot && git checkout rewrite\n",
    "(biodata3) ggplot$ pip install -e .\n",
    "```\n"
   ]
  },
  {
   "cell_type": "markdown",
   "metadata": {
    "deletable": true,
    "editable": true
   },
   "source": [
    "### `conda`\n",
    "\n",
    "This tool is developed and maintained by Continuum Analytics, the company behind Anaconda python distribution. First install `miniconda` to keep things nice and lean: https://conda.io/miniconda.html"
   ]
  },
  {
   "cell_type": "markdown",
   "metadata": {
    "deletable": true,
    "editable": true
   },
   "source": [
    "#### create a new environment\n",
    "\n",
    "```\n",
    "$ conda create --name biodata3 python=3 pandas\n",
    "$ conda create --name biodata python=2 numpy matplotlib\n",
    "```\n",
    "    \n",
    "#### list environments\n",
    "\n",
    "```\n",
    "$ conda info --envs\n",
    "```\n",
    "\n",
    "#### activate environment\n",
    "\n",
    "```\n",
    "$ source activate pydata3\n",
    "(biodata3)$ deactivate\n",
    "```\n",
    "    \n",
    "#### once inside environment you can use both `conda` and `pip`\n",
    "\n",
    "```\n",
    "(biodata3)$ conda install numpy\n",
    "(biodata3)$ pip install ipython\n",
    "```\n",
    "\n",
    "#### generate requirements file\n",
    "\n",
    "```\n",
    "(biodata3)$ conda env export > environment.yml\n",
    "(biodata3)$ less environment.yml\n",
    "```\n",
    "\n",
    "#### how to install many packages/recreate environment\n",
    "\n",
    "```\n",
    "(biodata3)$ conda env create -f environment.yml\n",
    "```\n",
    "\n",
    "### deactivate environment\n",
    "\n",
    "```\n",
    "(biodata3)$ deactivate\n",
    "$\n",
    "```"
   ]
  },
  {
   "cell_type": "markdown",
   "metadata": {
    "deletable": true,
    "editable": true
   },
   "source": [
    "Whatever you install while in the environment will only be available inside that environment. Note how the output of `which python` command changes when inside an environment."
   ]
  },
  {
   "cell_type": "code",
   "execution_count": null,
   "metadata": {
    "collapsed": true
   },
   "outputs": [],
   "source": []
  }
 ],
 "metadata": {
  "kernelspec": {
   "display_name": "Bash",
   "language": "bash",
   "name": "bash"
  },
  "language_info": {
   "codemirror_mode": "shell",
   "file_extension": ".sh",
   "mimetype": "text/x-sh",
   "name": "bash"
  }
 },
 "nbformat": 4,
 "nbformat_minor": 0
}
