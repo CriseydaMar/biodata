{
 "cells": [
  {
   "cell_type": "code",
   "execution_count": 1,
   "metadata": {
    "collapsed": false
   },
   "outputs": [
    {
     "name": "stderr",
     "output_type": "stream",
     "text": [
      "Bioconductor version 3.3 (BiocInstaller 1.22.3), ?biocLite for help\n",
      "BioC_mirror: https://bioconductor.org\n",
      "Using Bioconductor 3.3 (BiocInstaller 1.22.3), R 3.3.1 (2016-06-21).\n",
      "Installing package(s) ‘rhdf5’\n",
      "Old packages: 'BiocParallel', 'curl', 'DBI', 'DESeq2', 'knitr', 'limma', 'R6',\n",
      "  'S4Vectors', 'stringr'\n"
     ]
    }
   ],
   "source": [
    "source(\"http://bioconductor.org/biocLite.R\")\n",
    "biocLite(\"rhdf5\")"
   ]
  },
  {
   "cell_type": "code",
   "execution_count": 2,
   "metadata": {
    "collapsed": false
   },
   "outputs": [
    {
     "name": "stderr",
     "output_type": "stream",
     "text": [
      "Downloading GitHub repo pachterlab/sleuth@master\n",
      "from URL https://api.github.com/repos/pachterlab/sleuth/zipball/master\n",
      "Installing sleuth\n",
      "Installing data.table\n",
      "Installing chron\n",
      "'/usr/lib/R/bin/R' --no-site-file --no-environ --no-save --no-restore --quiet  \\\n",
      "  CMD INSTALL '/tmp/RtmpwKIUHz/devtools23da42049686/chron'  \\\n",
      "  --library='/home/ilya/R/x86_64-pc-linux-gnu-library/3.3' --install-tests \n",
      "\n",
      "'/usr/lib/R/bin/R' --no-site-file --no-environ --no-save --no-restore --quiet  \\\n",
      "  CMD INSTALL '/tmp/RtmpwKIUHz/devtools23da51f5a0bf/data.table'  \\\n",
      "  --library='/home/ilya/R/x86_64-pc-linux-gnu-library/3.3' --install-tests \n",
      "\n",
      "Installing dplyr\n",
      "Installing assertthat\n",
      "'/usr/lib/R/bin/R' --no-site-file --no-environ --no-save --no-restore --quiet  \\\n",
      "  CMD INSTALL '/tmp/RtmpwKIUHz/devtools23da4cb8ff2d/assertthat'  \\\n",
      "  --library='/home/ilya/R/x86_64-pc-linux-gnu-library/3.3' --install-tests \n",
      "\n",
      "Installing BH\n",
      "'/usr/lib/R/bin/R' --no-site-file --no-environ --no-save --no-restore --quiet  \\\n",
      "  CMD INSTALL '/tmp/RtmpwKIUHz/devtools23da61e5f1ae/BH'  \\\n",
      "  --library='/home/ilya/R/x86_64-pc-linux-gnu-library/3.3' --install-tests \n",
      "\n",
      "Installing DBI\n",
      "'/usr/lib/R/bin/R' --no-site-file --no-environ --no-save --no-restore --quiet  \\\n",
      "  CMD INSTALL '/tmp/RtmpwKIUHz/devtools23da383fe3c4/DBI'  \\\n",
      "  --library='/home/ilya/R/x86_64-pc-linux-gnu-library/3.3' --install-tests \n",
      "\n",
      "Installing lazyeval\n",
      "'/usr/lib/R/bin/R' --no-site-file --no-environ --no-save --no-restore --quiet  \\\n",
      "  CMD INSTALL '/tmp/RtmpwKIUHz/devtools23da14ce7e2e/lazyeval'  \\\n",
      "  --library='/home/ilya/R/x86_64-pc-linux-gnu-library/3.3' --install-tests \n",
      "\n",
      "Installing Rcpp\n",
      "'/usr/lib/R/bin/R' --no-site-file --no-environ --no-save --no-restore --quiet  \\\n",
      "  CMD INSTALL '/tmp/RtmpwKIUHz/devtools23da799c04c6/Rcpp'  \\\n",
      "  --library='/home/ilya/R/x86_64-pc-linux-gnu-library/3.3' --install-tests \n",
      "\n",
      "Installing tibble\n",
      "'/usr/lib/R/bin/R' --no-site-file --no-environ --no-save --no-restore --quiet  \\\n",
      "  CMD INSTALL '/tmp/RtmpwKIUHz/devtools23da1f09752/tibble'  \\\n",
      "  --library='/home/ilya/R/x86_64-pc-linux-gnu-library/3.3' --install-tests \n",
      "\n",
      "'/usr/lib/R/bin/R' --no-site-file --no-environ --no-save --no-restore --quiet  \\\n",
      "  CMD INSTALL '/tmp/RtmpwKIUHz/devtools23da600c91d6/dplyr'  \\\n",
      "  --library='/home/ilya/R/x86_64-pc-linux-gnu-library/3.3' --install-tests \n",
      "\n",
      "Installing ggplot2\n",
      "Installing gtable\n",
      "'/usr/lib/R/bin/R' --no-site-file --no-environ --no-save --no-restore --quiet  \\\n",
      "  CMD INSTALL '/tmp/RtmpwKIUHz/devtools23da7b2f9a2e/gtable'  \\\n",
      "  --library='/home/ilya/R/x86_64-pc-linux-gnu-library/3.3' --install-tests \n",
      "\n",
      "Installing plyr\n",
      "'/usr/lib/R/bin/R' --no-site-file --no-environ --no-save --no-restore --quiet  \\\n",
      "  CMD INSTALL '/tmp/RtmpwKIUHz/devtools23da45625719/plyr'  \\\n",
      "  --library='/home/ilya/R/x86_64-pc-linux-gnu-library/3.3' --install-tests \n",
      "\n",
      "Installing reshape2\n",
      "'/usr/lib/R/bin/R' --no-site-file --no-environ --no-save --no-restore --quiet  \\\n",
      "  CMD INSTALL '/tmp/RtmpwKIUHz/devtools23da6b563dd5/reshape2'  \\\n",
      "  --library='/home/ilya/R/x86_64-pc-linux-gnu-library/3.3' --install-tests \n",
      "\n",
      "Installing scales\n",
      "Installing dichromat\n",
      "'/usr/lib/R/bin/R' --no-site-file --no-environ --no-save --no-restore --quiet  \\\n",
      "  CMD INSTALL '/tmp/RtmpwKIUHz/devtools23da56e87ea9/dichromat'  \\\n",
      "  --library='/home/ilya/R/x86_64-pc-linux-gnu-library/3.3' --install-tests \n",
      "\n",
      "Installing labeling\n",
      "'/usr/lib/R/bin/R' --no-site-file --no-environ --no-save --no-restore --quiet  \\\n",
      "  CMD INSTALL '/tmp/RtmpwKIUHz/devtools23da2f6c923a/labeling'  \\\n",
      "  --library='/home/ilya/R/x86_64-pc-linux-gnu-library/3.3' --install-tests \n",
      "\n",
      "Installing munsell\n",
      "Installing colorspace\n",
      "'/usr/lib/R/bin/R' --no-site-file --no-environ --no-save --no-restore --quiet  \\\n",
      "  CMD INSTALL '/tmp/RtmpwKIUHz/devtools23da4ebe2fd/colorspace'  \\\n",
      "  --library='/home/ilya/R/x86_64-pc-linux-gnu-library/3.3' --install-tests \n",
      "\n",
      "'/usr/lib/R/bin/R' --no-site-file --no-environ --no-save --no-restore --quiet  \\\n",
      "  CMD INSTALL '/tmp/RtmpwKIUHz/devtools23da63b535e6/munsell'  \\\n",
      "  --library='/home/ilya/R/x86_64-pc-linux-gnu-library/3.3' --install-tests \n",
      "\n",
      "Installing RColorBrewer\n",
      "'/usr/lib/R/bin/R' --no-site-file --no-environ --no-save --no-restore --quiet  \\\n",
      "  CMD INSTALL '/tmp/RtmpwKIUHz/devtools23da45818d72/RColorBrewer'  \\\n",
      "  --library='/home/ilya/R/x86_64-pc-linux-gnu-library/3.3' --install-tests \n",
      "\n",
      "'/usr/lib/R/bin/R' --no-site-file --no-environ --no-save --no-restore --quiet  \\\n",
      "  CMD INSTALL '/tmp/RtmpwKIUHz/devtools23da26f2cc94/scales'  \\\n",
      "  --library='/home/ilya/R/x86_64-pc-linux-gnu-library/3.3' --install-tests \n",
      "\n",
      "'/usr/lib/R/bin/R' --no-site-file --no-environ --no-save --no-restore --quiet  \\\n",
      "  CMD INSTALL '/tmp/RtmpwKIUHz/devtools23da389a7807/ggplot2'  \\\n",
      "  --library='/home/ilya/R/x86_64-pc-linux-gnu-library/3.3' --install-tests \n",
      "\n",
      "Skipping install of 'lazyeval' from a cran remote, the SHA1 (0.2.0) has not changed since last install.\n",
      "  Use `force = TRUE` to force installation\n",
      "Skipping install of 'reshape2' from a cran remote, the SHA1 (1.4.1) has not changed since last install.\n",
      "  Use `force = TRUE` to force installation\n",
      "Installing shiny\n",
      "Installing htmltools\n",
      "'/usr/lib/R/bin/R' --no-site-file --no-environ --no-save --no-restore --quiet  \\\n",
      "  CMD INSTALL '/tmp/RtmpwKIUHz/devtools23da5a40ff3e/htmltools'  \\\n",
      "  --library='/home/ilya/R/x86_64-pc-linux-gnu-library/3.3' --install-tests \n",
      "\n",
      "Installing httpuv\n",
      "'/usr/lib/R/bin/R' --no-site-file --no-environ --no-save --no-restore --quiet  \\\n",
      "  CMD INSTALL '/tmp/RtmpwKIUHz/devtools23da1814bfc8/httpuv'  \\\n",
      "  --library='/home/ilya/R/x86_64-pc-linux-gnu-library/3.3' --install-tests \n",
      "\n",
      "Installing xtable\n",
      "'/usr/lib/R/bin/R' --no-site-file --no-environ --no-save --no-restore --quiet  \\\n",
      "  CMD INSTALL '/tmp/RtmpwKIUHz/devtools23da7fdaedd1/xtable'  \\\n",
      "  --library='/home/ilya/R/x86_64-pc-linux-gnu-library/3.3' --install-tests \n",
      "\n",
      "'/usr/lib/R/bin/R' --no-site-file --no-environ --no-save --no-restore --quiet  \\\n",
      "  CMD INSTALL '/tmp/RtmpwKIUHz/devtools23da15a4bf28/shiny'  \\\n",
      "  --library='/home/ilya/R/x86_64-pc-linux-gnu-library/3.3' --install-tests \n",
      "\n",
      "Installing tidyr\n",
      "'/usr/lib/R/bin/R' --no-site-file --no-environ --no-save --no-restore --quiet  \\\n",
      "  CMD INSTALL '/tmp/RtmpwKIUHz/devtools23da16c79f/tidyr'  \\\n",
      "  --library='/home/ilya/R/x86_64-pc-linux-gnu-library/3.3' --install-tests \n",
      "\n",
      "'/usr/lib/R/bin/R' --no-site-file --no-environ --no-save --no-restore --quiet  \\\n",
      "  CMD INSTALL  \\\n",
      "  '/tmp/RtmpwKIUHz/devtools23da24ddf678/pachterlab-sleuth-048f055'  \\\n",
      "  --library='/home/ilya/R/x86_64-pc-linux-gnu-library/3.3' --install-tests \n",
      "\n"
     ]
    }
   ],
   "source": [
    "devtools::install_github(\"pachterlab/sleuth\")"
   ]
  },
  {
   "cell_type": "code",
   "execution_count": 3,
   "metadata": {
    "collapsed": false
   },
   "outputs": [
    {
     "name": "stderr",
     "output_type": "stream",
     "text": [
      "Loading required package: ggplot2\n",
      "Loading required package: dplyr\n",
      "\n",
      "Attaching package: ‘dplyr’\n",
      "\n",
      "The following objects are masked from ‘package:stats’:\n",
      "\n",
      "    filter, lag\n",
      "\n",
      "The following objects are masked from ‘package:base’:\n",
      "\n",
      "    intersect, setdiff, setequal, union\n",
      "\n"
     ]
    }
   ],
   "source": [
    "library(\"sleuth\")"
   ]
  },
  {
   "cell_type": "code",
   "execution_count": 18,
   "metadata": {
    "collapsed": false
   },
   "outputs": [
    {
     "data": {
      "text/html": [
       "<ol class=list-inline>\n",
       "\t<li>'lo01'</li>\n",
       "\t<li>'lo02'</li>\n",
       "\t<li>'lo03'</li>\n",
       "\t<li>'lo04'</li>\n",
       "\t<li>'lo05'</li>\n",
       "\t<li>'lo06'</li>\n",
       "\t<li>'lo07'</li>\n",
       "\t<li>'lo08'</li>\n",
       "\t<li>'lo09'</li>\n",
       "\t<li>'lo10'</li>\n",
       "\t<li>'lo11'</li>\n",
       "\t<li>'lo12'</li>\n",
       "</ol>\n"
      ],
      "text/latex": [
       "\\begin{enumerate*}\n",
       "\\item 'lo01'\n",
       "\\item 'lo02'\n",
       "\\item 'lo03'\n",
       "\\item 'lo04'\n",
       "\\item 'lo05'\n",
       "\\item 'lo06'\n",
       "\\item 'lo07'\n",
       "\\item 'lo08'\n",
       "\\item 'lo09'\n",
       "\\item 'lo10'\n",
       "\\item 'lo11'\n",
       "\\item 'lo12'\n",
       "\\end{enumerate*}\n"
      ],
      "text/markdown": [
       "1. 'lo01'\n",
       "2. 'lo02'\n",
       "3. 'lo03'\n",
       "4. 'lo04'\n",
       "5. 'lo05'\n",
       "6. 'lo06'\n",
       "7. 'lo07'\n",
       "8. 'lo08'\n",
       "9. 'lo09'\n",
       "10. 'lo10'\n",
       "11. 'lo11'\n",
       "12. 'lo12'\n",
       "\n",
       "\n"
      ],
      "text/plain": [
       " [1] \"lo01\" \"lo02\" \"lo03\" \"lo04\" \"lo05\" \"lo06\" \"lo07\" \"lo08\" \"lo09\" \"lo10\"\n",
       "[11] \"lo11\" \"lo12\""
      ]
     },
     "metadata": {},
     "output_type": "display_data"
    }
   ],
   "source": [
    "base_dir <- \"../results/kallisto\"\n",
    "sample_id <- dir(file.path(base_dir), pattern='^lo')\n",
    "sample_id"
   ]
  },
  {
   "cell_type": "code",
   "execution_count": 33,
   "metadata": {
    "collapsed": false
   },
   "outputs": [
    {
     "data": {
      "text/html": [
       "<dl class=dl-horizontal>\n",
       "\t<dt>lo01</dt>\n",
       "\t\t<dd>'../results/kallisto/lo01'</dd>\n",
       "\t<dt>lo02</dt>\n",
       "\t\t<dd>'../results/kallisto/lo02'</dd>\n",
       "\t<dt>lo03</dt>\n",
       "\t\t<dd>'../results/kallisto/lo03'</dd>\n",
       "\t<dt>lo04</dt>\n",
       "\t\t<dd>'../results/kallisto/lo04'</dd>\n",
       "\t<dt>lo05</dt>\n",
       "\t\t<dd>'../results/kallisto/lo05'</dd>\n",
       "\t<dt>lo06</dt>\n",
       "\t\t<dd>'../results/kallisto/lo06'</dd>\n",
       "\t<dt>lo07</dt>\n",
       "\t\t<dd>'../results/kallisto/lo07'</dd>\n",
       "\t<dt>lo08</dt>\n",
       "\t\t<dd>'../results/kallisto/lo08'</dd>\n",
       "\t<dt>lo09</dt>\n",
       "\t\t<dd>'../results/kallisto/lo09'</dd>\n",
       "\t<dt>lo10</dt>\n",
       "\t\t<dd>'../results/kallisto/lo10'</dd>\n",
       "\t<dt>lo11</dt>\n",
       "\t\t<dd>'../results/kallisto/lo11'</dd>\n",
       "\t<dt>lo12</dt>\n",
       "\t\t<dd>'../results/kallisto/lo12'</dd>\n",
       "</dl>\n"
      ],
      "text/latex": [
       "\\begin{description*}\n",
       "\\item[lo01] '../results/kallisto/lo01'\n",
       "\\item[lo02] '../results/kallisto/lo02'\n",
       "\\item[lo03] '../results/kallisto/lo03'\n",
       "\\item[lo04] '../results/kallisto/lo04'\n",
       "\\item[lo05] '../results/kallisto/lo05'\n",
       "\\item[lo06] '../results/kallisto/lo06'\n",
       "\\item[lo07] '../results/kallisto/lo07'\n",
       "\\item[lo08] '../results/kallisto/lo08'\n",
       "\\item[lo09] '../results/kallisto/lo09'\n",
       "\\item[lo10] '../results/kallisto/lo10'\n",
       "\\item[lo11] '../results/kallisto/lo11'\n",
       "\\item[lo12] '../results/kallisto/lo12'\n",
       "\\end{description*}\n"
      ],
      "text/markdown": [
       "lo01\n",
       ":   '../results/kallisto/lo01'lo02\n",
       ":   '../results/kallisto/lo02'lo03\n",
       ":   '../results/kallisto/lo03'lo04\n",
       ":   '../results/kallisto/lo04'lo05\n",
       ":   '../results/kallisto/lo05'lo06\n",
       ":   '../results/kallisto/lo06'lo07\n",
       ":   '../results/kallisto/lo07'lo08\n",
       ":   '../results/kallisto/lo08'lo09\n",
       ":   '../results/kallisto/lo09'lo10\n",
       ":   '../results/kallisto/lo10'lo11\n",
       ":   '../results/kallisto/lo11'lo12\n",
       ":   '../results/kallisto/lo12'\n",
       "\n"
      ],
      "text/plain": [
       "                      lo01                       lo02 \n",
       "\"../results/kallisto/lo01\" \"../results/kallisto/lo02\" \n",
       "                      lo03                       lo04 \n",
       "\"../results/kallisto/lo03\" \"../results/kallisto/lo04\" \n",
       "                      lo05                       lo06 \n",
       "\"../results/kallisto/lo05\" \"../results/kallisto/lo06\" \n",
       "                      lo07                       lo08 \n",
       "\"../results/kallisto/lo07\" \"../results/kallisto/lo08\" \n",
       "                      lo09                       lo10 \n",
       "\"../results/kallisto/lo09\" \"../results/kallisto/lo10\" \n",
       "                      lo11                       lo12 \n",
       "\"../results/kallisto/lo11\" \"../results/kallisto/lo12\" "
      ]
     },
     "metadata": {},
     "output_type": "display_data"
    }
   ],
   "source": [
    "kal_dirs <- sapply(sample_id, function(id) file.path(base_dir, id))\n",
    "kal_dirs"
   ]
  },
  {
   "cell_type": "code",
   "execution_count": 27,
   "metadata": {
    "collapsed": false
   },
   "outputs": [
    {
     "data": {
      "text/html": [
       "<ol class=list-inline>\n",
       "\t<li>'abundance.h5'</li>\n",
       "\t<li>'abundance.h5'</li>\n",
       "\t<li>'abundance.h5'</li>\n",
       "\t<li>'abundance.h5'</li>\n",
       "\t<li>'abundance.h5'</li>\n",
       "\t<li>'abundance.h5'</li>\n",
       "\t<li>'abundance.h5'</li>\n",
       "\t<li>'abundance.h5'</li>\n",
       "\t<li>'abundance.h5'</li>\n",
       "\t<li>'abundance.h5'</li>\n",
       "\t<li>'abundance.h5'</li>\n",
       "\t<li>'abundance.h5'</li>\n",
       "\t<li>'abundance.tsv'</li>\n",
       "\t<li>'abundance.tsv'</li>\n",
       "\t<li>'abundance.tsv'</li>\n",
       "\t<li>'abundance.tsv'</li>\n",
       "\t<li>'abundance.tsv'</li>\n",
       "\t<li>'abundance.tsv'</li>\n",
       "\t<li>'abundance.tsv'</li>\n",
       "\t<li>'abundance.tsv'</li>\n",
       "\t<li>'abundance.tsv'</li>\n",
       "\t<li>'abundance.tsv'</li>\n",
       "\t<li>'abundance.tsv'</li>\n",
       "\t<li>'abundance.tsv'</li>\n",
       "\t<li>'run_info.json'</li>\n",
       "\t<li>'run_info.json'</li>\n",
       "\t<li>'run_info.json'</li>\n",
       "\t<li>'run_info.json'</li>\n",
       "\t<li>'run_info.json'</li>\n",
       "\t<li>'run_info.json'</li>\n",
       "\t<li>'run_info.json'</li>\n",
       "\t<li>'run_info.json'</li>\n",
       "\t<li>'run_info.json'</li>\n",
       "\t<li>'run_info.json'</li>\n",
       "\t<li>'run_info.json'</li>\n",
       "\t<li>'run_info.json'</li>\n",
       "</ol>\n"
      ],
      "text/latex": [
       "\\begin{enumerate*}\n",
       "\\item 'abundance.h5'\n",
       "\\item 'abundance.h5'\n",
       "\\item 'abundance.h5'\n",
       "\\item 'abundance.h5'\n",
       "\\item 'abundance.h5'\n",
       "\\item 'abundance.h5'\n",
       "\\item 'abundance.h5'\n",
       "\\item 'abundance.h5'\n",
       "\\item 'abundance.h5'\n",
       "\\item 'abundance.h5'\n",
       "\\item 'abundance.h5'\n",
       "\\item 'abundance.h5'\n",
       "\\item 'abundance.tsv'\n",
       "\\item 'abundance.tsv'\n",
       "\\item 'abundance.tsv'\n",
       "\\item 'abundance.tsv'\n",
       "\\item 'abundance.tsv'\n",
       "\\item 'abundance.tsv'\n",
       "\\item 'abundance.tsv'\n",
       "\\item 'abundance.tsv'\n",
       "\\item 'abundance.tsv'\n",
       "\\item 'abundance.tsv'\n",
       "\\item 'abundance.tsv'\n",
       "\\item 'abundance.tsv'\n",
       "\\item 'run\\_info.json'\n",
       "\\item 'run\\_info.json'\n",
       "\\item 'run\\_info.json'\n",
       "\\item 'run\\_info.json'\n",
       "\\item 'run\\_info.json'\n",
       "\\item 'run\\_info.json'\n",
       "\\item 'run\\_info.json'\n",
       "\\item 'run\\_info.json'\n",
       "\\item 'run\\_info.json'\n",
       "\\item 'run\\_info.json'\n",
       "\\item 'run\\_info.json'\n",
       "\\item 'run\\_info.json'\n",
       "\\end{enumerate*}\n"
      ],
      "text/markdown": [
       "1. 'abundance.h5'\n",
       "2. 'abundance.h5'\n",
       "3. 'abundance.h5'\n",
       "4. 'abundance.h5'\n",
       "5. 'abundance.h5'\n",
       "6. 'abundance.h5'\n",
       "7. 'abundance.h5'\n",
       "8. 'abundance.h5'\n",
       "9. 'abundance.h5'\n",
       "10. 'abundance.h5'\n",
       "11. 'abundance.h5'\n",
       "12. 'abundance.h5'\n",
       "13. 'abundance.tsv'\n",
       "14. 'abundance.tsv'\n",
       "15. 'abundance.tsv'\n",
       "16. 'abundance.tsv'\n",
       "17. 'abundance.tsv'\n",
       "18. 'abundance.tsv'\n",
       "19. 'abundance.tsv'\n",
       "20. 'abundance.tsv'\n",
       "21. 'abundance.tsv'\n",
       "22. 'abundance.tsv'\n",
       "23. 'abundance.tsv'\n",
       "24. 'abundance.tsv'\n",
       "25. 'run_info.json'\n",
       "26. 'run_info.json'\n",
       "27. 'run_info.json'\n",
       "28. 'run_info.json'\n",
       "29. 'run_info.json'\n",
       "30. 'run_info.json'\n",
       "31. 'run_info.json'\n",
       "32. 'run_info.json'\n",
       "33. 'run_info.json'\n",
       "34. 'run_info.json'\n",
       "35. 'run_info.json'\n",
       "36. 'run_info.json'\n",
       "\n",
       "\n"
      ],
      "text/plain": [
       " [1] \"abundance.h5\"  \"abundance.h5\"  \"abundance.h5\"  \"abundance.h5\" \n",
       " [5] \"abundance.h5\"  \"abundance.h5\"  \"abundance.h5\"  \"abundance.h5\" \n",
       " [9] \"abundance.h5\"  \"abundance.h5\"  \"abundance.h5\"  \"abundance.h5\" \n",
       "[13] \"abundance.tsv\" \"abundance.tsv\" \"abundance.tsv\" \"abundance.tsv\"\n",
       "[17] \"abundance.tsv\" \"abundance.tsv\" \"abundance.tsv\" \"abundance.tsv\"\n",
       "[21] \"abundance.tsv\" \"abundance.tsv\" \"abundance.tsv\" \"abundance.tsv\"\n",
       "[25] \"run_info.json\" \"run_info.json\" \"run_info.json\" \"run_info.json\"\n",
       "[29] \"run_info.json\" \"run_info.json\" \"run_info.json\" \"run_info.json\"\n",
       "[33] \"run_info.json\" \"run_info.json\" \"run_info.json\" \"run_info.json\""
      ]
     },
     "metadata": {},
     "output_type": "display_data"
    }
   ],
   "source": [
    "dir(kal_dirs)"
   ]
  },
  {
   "cell_type": "code",
   "execution_count": 20,
   "metadata": {
    "collapsed": false
   },
   "outputs": [
    {
     "data": {
      "text/html": [
       "<ol class=list-inline>\n",
       "\t<li>'lo01'</li>\n",
       "\t<li>'lo05'</li>\n",
       "\t<li>'lo09'</li>\n",
       "\t<li>'lo03'</li>\n",
       "\t<li>'lo07'</li>\n",
       "\t<li>'lo11'</li>\n",
       "</ol>\n"
      ],
      "text/latex": [
       "\\begin{enumerate*}\n",
       "\\item 'lo01'\n",
       "\\item 'lo05'\n",
       "\\item 'lo09'\n",
       "\\item 'lo03'\n",
       "\\item 'lo07'\n",
       "\\item 'lo11'\n",
       "\\end{enumerate*}\n"
      ],
      "text/markdown": [
       "1. 'lo01'\n",
       "2. 'lo05'\n",
       "3. 'lo09'\n",
       "4. 'lo03'\n",
       "5. 'lo07'\n",
       "6. 'lo11'\n",
       "\n",
       "\n"
      ],
      "text/plain": [
       "[1] \"lo01\" \"lo05\" \"lo09\" \"lo03\" \"lo07\" \"lo11\""
      ]
     },
     "metadata": {},
     "output_type": "display_data"
    }
   ],
   "source": [
    "gsy_samples <- c(sample_id[seq(1, length(sample_id), 4)], sample_id[seq(3, length(sample_id), 4)])\n",
    "gsy_samples"
   ]
  },
  {
   "cell_type": "code",
   "execution_count": 25,
   "metadata": {
    "collapsed": false
   },
   "outputs": [
    {
     "data": {
      "text/html": [
       "<dl class=dl-horizontal>\n",
       "\t<dt>lo01</dt>\n",
       "\t\t<dd>'../results/kallisto/lo01'</dd>\n",
       "\t<dt>lo05</dt>\n",
       "\t\t<dd>'../results/kallisto/lo05'</dd>\n",
       "\t<dt>lo09</dt>\n",
       "\t\t<dd>'../results/kallisto/lo09'</dd>\n",
       "\t<dt>lo03</dt>\n",
       "\t\t<dd>'../results/kallisto/lo03'</dd>\n",
       "\t<dt>lo07</dt>\n",
       "\t\t<dd>'../results/kallisto/lo07'</dd>\n",
       "\t<dt>lo11</dt>\n",
       "\t\t<dd>'../results/kallisto/lo11'</dd>\n",
       "</dl>\n"
      ],
      "text/latex": [
       "\\begin{description*}\n",
       "\\item[lo01] '../results/kallisto/lo01'\n",
       "\\item[lo05] '../results/kallisto/lo05'\n",
       "\\item[lo09] '../results/kallisto/lo09'\n",
       "\\item[lo03] '../results/kallisto/lo03'\n",
       "\\item[lo07] '../results/kallisto/lo07'\n",
       "\\item[lo11] '../results/kallisto/lo11'\n",
       "\\end{description*}\n"
      ],
      "text/markdown": [
       "lo01\n",
       ":   '../results/kallisto/lo01'lo05\n",
       ":   '../results/kallisto/lo05'lo09\n",
       ":   '../results/kallisto/lo09'lo03\n",
       ":   '../results/kallisto/lo03'lo07\n",
       ":   '../results/kallisto/lo07'lo11\n",
       ":   '../results/kallisto/lo11'\n",
       "\n"
      ],
      "text/plain": [
       "                      lo01                       lo05 \n",
       "\"../results/kallisto/lo01\" \"../results/kallisto/lo05\" \n",
       "                      lo09                       lo03 \n",
       "\"../results/kallisto/lo09\" \"../results/kallisto/lo03\" \n",
       "                      lo07                       lo11 \n",
       "\"../results/kallisto/lo07\" \"../results/kallisto/lo11\" "
      ]
     },
     "metadata": {},
     "output_type": "display_data"
    }
   ],
   "source": [
    "gsy_dirs <- c(kal_dirs[seq(1, length(kal_dirs), 4)], kal_dirs[seq(3, length(kal_dirs), 4)])\n",
    "gsy_dirs"
   ]
  },
  {
   "cell_type": "code",
   "execution_count": 34,
   "metadata": {
    "collapsed": false
   },
   "outputs": [
    {
     "data": {
      "text/html": [
       "<table>\n",
       "<thead><tr><th></th><th scope=col>sample</th><th scope=col>condition</th><th scope=col>path</th></tr></thead>\n",
       "<tbody>\n",
       "\t<tr><th scope=row>1</th><td>lo01                    </td><td>wt                      </td><td>../results/kallisto/lo01</td></tr>\n",
       "\t<tr><th scope=row>2</th><td>lo05                    </td><td>wt                      </td><td>../results/kallisto/lo05</td></tr>\n",
       "\t<tr><th scope=row>3</th><td>lo09                    </td><td>wt                      </td><td>../results/kallisto/lo09</td></tr>\n",
       "\t<tr><th scope=row>4</th><td>lo03                    </td><td>gsy                     </td><td>../results/kallisto/lo03</td></tr>\n",
       "\t<tr><th scope=row>5</th><td>lo07                    </td><td>gsy                     </td><td>../results/kallisto/lo07</td></tr>\n",
       "\t<tr><th scope=row>6</th><td>lo11                    </td><td>gsy                     </td><td>../results/kallisto/lo11</td></tr>\n",
       "</tbody>\n",
       "</table>\n"
      ],
      "text/latex": [
       "\\begin{tabular}{r|lll}\n",
       "  & sample & condition & path\\\\\n",
       "\\hline\n",
       "\t1 & lo01                     & wt                       & ../results/kallisto/lo01\\\\\n",
       "\t2 & lo05                     & wt                       & ../results/kallisto/lo05\\\\\n",
       "\t3 & lo09                     & wt                       & ../results/kallisto/lo09\\\\\n",
       "\t4 & lo03                     & gsy                      & ../results/kallisto/lo03\\\\\n",
       "\t5 & lo07                     & gsy                      & ../results/kallisto/lo07\\\\\n",
       "\t6 & lo11                     & gsy                      & ../results/kallisto/lo11\\\\\n",
       "\\end{tabular}\n"
      ],
      "text/plain": [
       "  sample condition path                    \n",
       "1 lo01   wt        ../results/kallisto/lo01\n",
       "2 lo05   wt        ../results/kallisto/lo05\n",
       "3 lo09   wt        ../results/kallisto/lo09\n",
       "4 lo03   gsy       ../results/kallisto/lo03\n",
       "5 lo07   gsy       ../results/kallisto/lo07\n",
       "6 lo11   gsy       ../results/kallisto/lo11"
      ]
     },
     "metadata": {},
     "output_type": "display_data"
    }
   ],
   "source": [
    "s2c <- data.frame(sample=gsy_samples, condition=c('wt', 'wt', 'wt', 'gsy', 'gsy', 'gsy'))\n",
    "s2c <- dplyr::mutate(s2c, path = gsy_dirs)\n",
    "s2c"
   ]
  },
  {
   "cell_type": "code",
   "execution_count": 35,
   "metadata": {
    "collapsed": false,
    "scrolled": true
   },
   "outputs": [
    {
     "name": "stderr",
     "output_type": "stream",
     "text": [
      "reading in kallisto results\n",
      "......\n",
      "normalizing est_counts\n",
      "19296 targets passed the filter\n",
      "normalizing tpm\n",
      "merging in metadata\n",
      "normalizing bootstrap samples\n",
      "summarizing bootstraps\n"
     ]
    }
   ],
   "source": [
    "so <- sleuth_prep(s2c, ~ condition)"
   ]
  },
  {
   "cell_type": "code",
   "execution_count": 36,
   "metadata": {
    "collapsed": false
   },
   "outputs": [
    {
     "name": "stderr",
     "output_type": "stream",
     "text": [
      "fitting measurement error models\n",
      "shrinkage estimation\n",
      "Adding missing grouping variables: `x_group`\n",
      "computing variance of betas\n"
     ]
    }
   ],
   "source": [
    "so <- sleuth_fit(so)"
   ]
  },
  {
   "cell_type": "code",
   "execution_count": 37,
   "metadata": {
    "collapsed": false
   },
   "outputs": [
    {
     "name": "stderr",
     "output_type": "stream",
     "text": [
      "fitting measurement error models\n",
      "shrinkage estimation\n",
      "Adding missing grouping variables: `x_group`\n",
      "computing variance of betas\n"
     ]
    }
   ],
   "source": [
    "so <- sleuth_fit(so, ~1, 'reduced')"
   ]
  },
  {
   "cell_type": "code",
   "execution_count": 38,
   "metadata": {
    "collapsed": false
   },
   "outputs": [],
   "source": [
    "#so <- sleuth_test(so, which_beta='conditionwt')\n",
    "so <- sleuth_lrt(so, 'reduced', 'full')"
   ]
  },
  {
   "cell_type": "code",
   "execution_count": 39,
   "metadata": {
    "collapsed": false
   },
   "outputs": [
    {
     "name": "stdout",
     "output_type": "stream",
     "text": [
      "[  full  ]\n",
      "formula:  ~condition \n",
      "coefficients:\n",
      "\t(Intercept)\n",
      " \tconditionwt\n",
      "[  reduced  ]\n",
      "formula:  ~1 \n",
      "coefficients:\n",
      "\t(Intercept)\n"
     ]
    }
   ],
   "source": [
    "models(so)"
   ]
  },
  {
   "cell_type": "code",
   "execution_count": 41,
   "metadata": {
    "collapsed": false
   },
   "outputs": [
    {
     "name": "stderr",
     "output_type": "stream",
     "text": [
      "Bioconductor version 3.3 (BiocInstaller 1.22.3), ?biocLite for help\n",
      "BioC_mirror: https://bioconductor.org\n",
      "Using Bioconductor 3.3 (BiocInstaller 1.22.3), R 3.3.1 (2016-06-21).\n",
      "Installing package(s) ‘biomaRt’\n",
      "also installing the dependencies ‘BiocGenerics’, ‘Biobase’, ‘IRanges’, ‘RSQLite’, ‘S4Vectors’, ‘XML’, ‘AnnotationDbi’\n",
      "\n",
      "Old packages: 'boot', 'MASS', 'spatial'\n"
     ]
    }
   ],
   "source": [
    "source(\"http://bioconductor.org/biocLite.R\")\n",
    "biocLite(\"biomaRt\")"
   ]
  },
  {
   "cell_type": "code",
   "execution_count": 42,
   "metadata": {
    "collapsed": true
   },
   "outputs": [],
   "source": [
    "mart <- biomaRt::useMart(biomart = \"ENSEMBL_MART_ENSEMBL\",\n",
    "  dataset = \"celegans_gene_ensembl\",\n",
    "  host = 'ensembl.org')"
   ]
  },
  {
   "cell_type": "code",
   "execution_count": 43,
   "metadata": {
    "collapsed": false
   },
   "outputs": [
    {
     "name": "stderr",
     "output_type": "stream",
     "text": [
      "reading in kallisto results\n",
      "......\n",
      "normalizing est_counts\n",
      "19296 targets passed the filter\n",
      "normalizing tpm\n",
      "merging in metadata\n",
      "normalizing bootstrap samples\n",
      "summarizing bootstraps\n"
     ]
    }
   ],
   "source": [
    "t2g <- biomaRt::getBM(attributes = c(\"ensembl_transcript_id\", \"ensembl_gene_id\",\n",
    "    \"external_gene_name\"), mart = mart)\n",
    "t2g <- dplyr::rename(t2g, target_id = ensembl_transcript_id,\n",
    "  ens_gene = ensembl_gene_id, ext_gene = external_gene_name)\n",
    "so <- sleuth_prep(s2c, ~ condition, target_mapping = t2g)"
   ]
  },
  {
   "cell_type": "code",
   "execution_count": 44,
   "metadata": {
    "collapsed": false
   },
   "outputs": [
    {
     "name": "stderr",
     "output_type": "stream",
     "text": [
      "fitting measurement error models\n",
      "shrinkage estimation\n",
      "Adding missing grouping variables: `x_group`\n",
      "computing variance of betas\n"
     ]
    }
   ],
   "source": [
    "so <- sleuth_fit(so)"
   ]
  },
  {
   "cell_type": "code",
   "execution_count": 46,
   "metadata": {
    "collapsed": false
   },
   "outputs": [
    {
     "name": "stderr",
     "output_type": "stream",
     "text": [
      "fitting measurement error models\n",
      "shrinkage estimation\n",
      "Adding missing grouping variables: `x_group`\n",
      "computing variance of betas\n"
     ]
    }
   ],
   "source": [
    "so <- sleuth_fit(so, ~1, 'reduced')"
   ]
  },
  {
   "cell_type": "code",
   "execution_count": 47,
   "metadata": {
    "collapsed": true
   },
   "outputs": [],
   "source": [
    "so <- sleuth_lrt(so, 'reduced', 'full')"
   ]
  },
  {
   "cell_type": "code",
   "execution_count": 51,
   "metadata": {
    "collapsed": true
   },
   "outputs": [],
   "source": [
    "so <- sleuth_wt(so, which_beta = 'conditionwt')"
   ]
  },
  {
   "cell_type": "code",
   "execution_count": 52,
   "metadata": {
    "collapsed": false
   },
   "outputs": [
    {
     "data": {
      "text/html": [
       "<strong>$test_type</strong> = 'wt'"
      ],
      "text/latex": [
       "\\textbf{\\$test\\_type} = 'wt'"
      ],
      "text/markdown": [
       "**$test_type** = 'wt'"
      ],
      "text/plain": [
       "$test_type\n",
       "[1] \"wt\"\n"
      ]
     },
     "metadata": {},
     "output_type": "display_data"
    }
   ],
   "source": [
    "sleuth_live_settings(test_type='wt')"
   ]
  },
  {
   "cell_type": "code",
   "execution_count": null,
   "metadata": {
    "collapsed": false
   },
   "outputs": [
    {
     "name": "stderr",
     "output_type": "stream",
     "text": [
      "\n",
      "Listening on http://127.0.0.1:42427\n",
      "Warning message:\n",
      ": Removed 8 rows containing missing values (geom_point).Warning message:\n",
      ": Removed 8 rows containing missing values (geom_point)."
     ]
    }
   ],
   "source": [
    "sleuth_live(so)"
   ]
  },
  {
   "cell_type": "code",
   "execution_count": 10,
   "metadata": {
    "collapsed": true
   },
   "outputs": [],
   "source": [
    "write.table(res,file='../kallisto/results.tsv', sep='\\t')"
   ]
  },
  {
   "cell_type": "code",
   "execution_count": null,
   "metadata": {
    "collapsed": false
   },
   "outputs": [
    {
     "name": "stderr",
     "output_type": "stream",
     "text": [
      "Loading required package: shiny\n",
      "\n",
      "Listening on http://127.0.0.1:7861\n"
     ]
    }
   ],
   "source": [
    "sleuth_live(so)"
   ]
  },
  {
   "cell_type": "code",
   "execution_count": null,
   "metadata": {
    "collapsed": true
   },
   "outputs": [],
   "source": [
    "res <- sleuth_results(so, 'conditionwt')"
   ]
  },
  {
   "cell_type": "code",
   "execution_count": null,
   "metadata": {
    "collapsed": true
   },
   "outputs": [],
   "source": []
  }
 ],
 "metadata": {
  "kernelspec": {
   "display_name": "R",
   "language": "R",
   "name": "ir"
  },
  "language_info": {
   "codemirror_mode": "r",
   "file_extension": ".r",
   "mimetype": "text/x-r-source",
   "name": "R",
   "pygments_lexer": "r",
   "version": "3.3.1"
  },
  "widgets": {
   "state": {},
   "version": "1.1.1"
  }
 },
 "nbformat": 4,
 "nbformat_minor": 0
}
