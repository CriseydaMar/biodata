{
 "cells": [
  {
   "cell_type": "code",
   "execution_count": 1,
   "metadata": {
    "collapsed": false
   },
   "outputs": [
    {
     "name": "stdout",
     "output_type": "stream",
     "text": [
      "-rw-rw-r-- 1 ilya ilya  12M May  2  2015 \u001b[01;31m\u001b[KCae\u001b[m\u001b[Knorhabditis_elegans.WBcel235.rel79.cdna.all.fa.gz\n"
     ]
    }
   ],
   "source": [
    "ls -lah ../data | grep Cae"
   ]
  },
  {
   "cell_type": "code",
   "execution_count": 7,
   "metadata": {
    "collapsed": false
   },
   "outputs": [
    {
     "name": "stdout",
     "output_type": "stream",
     "text": [
      "\n",
      "[build] loading fasta file ../data/Caenorhabditis_elegans.WBcel235.rel79.cdna.all.fa.gz\n",
      "[build] k-mer length: 31\n",
      "[build] warning: clipped off poly-A tail (longer than 10)\n",
      "        from 17 target sequences\n",
      "[build] counting k-mers ... done.\n",
      "[build] building target de Bruijn graph ...  done \n",
      "[build] creating equivalence classes ...  done\n",
      "[build] target de Bruijn graph has 83150 contigs and contains 28899711 k-mers \n",
      "\n"
     ]
    }
   ],
   "source": [
    "\n",
    "~/bin/kallisto_linux-v0.43.0/kallisto index -i cele ../data/Caenorhabditis_elegans.WBcel235.rel79.cdna.all.fa.gz"
   ]
  },
  {
   "cell_type": "code",
   "execution_count": 16,
   "metadata": {
    "collapsed": false
   },
   "outputs": [
    {
     "name": "stdout",
     "output_type": "stream",
     "text": [
      "drwxrwxr-x 2 ilya ilya 4.0K Aug 18 14:19 \u001b[01;31m\u001b[Klo\u001b[m\u001b[K03\n",
      "drwxrwxr-x 2 ilya ilya 4.0K Aug 18 13:34 \u001b[01;31m\u001b[Klo\u001b[m\u001b[K05\n",
      "drwxrwxr-x 2 ilya ilya 4.0K Aug 18 13:47 \u001b[01;31m\u001b[Klo\u001b[m\u001b[K09\n",
      "drwxrwxr-x 2 ilya ilya 4.0K Aug 24 14:20 \u001b[01;31m\u001b[Klo\u001b[m\u001b[K11\n"
     ]
    }
   ],
   "source": [
    "ls -lah ../data | grep lo"
   ]
  },
  {
   "cell_type": "code",
   "execution_count": 17,
   "metadata": {
    "collapsed": false
   },
   "outputs": [
    {
     "name": "stdout",
     "output_type": "stream",
     "text": [
      "-rw-rw-r-- 1 ilya ilya 587M Aug 24 15:00 \u001b[01;31m\u001b[Kcele\u001b[m\u001b[K\n"
     ]
    }
   ],
   "source": [
    "ls -lah | grep cele"
   ]
  },
  {
   "cell_type": "code",
   "execution_count": 19,
   "metadata": {
    "collapsed": false
   },
   "outputs": [
    {
     "name": "stdout",
     "output_type": "stream",
     "text": [
      "Running kallisto quant for sample lo03\n",
      "\n",
      "[quant] fragment length distribution will be estimated from the data\n",
      "[index] k-mer length: 31\n",
      "[index] number of targets: 32,905\n",
      "[index] number of k-mers: 28,899,711\n",
      "[index] number of equivalence classes: 52,215\n",
      "[quant] running in paired-end mode\n",
      "[quant] will process pair 1: /dev/fd/63\n",
      "                             /dev/fd/62\n",
      "[quant] finding pseudoalignments for the reads ... done\n",
      "[quant] processed 23,072,281 reads, 21,806,695 reads pseudoaligned\n",
      "[quant] estimated average fragment length: 157.124\n",
      "[   em] quantifying the abundances ... done\n",
      "[   em] the Expectation-Maximization algorithm ran for 1,508 rounds\n",
      "[bstrp] number of EM bootstraps complete: 100\n",
      "\n",
      "Running kallisto quant for sample lo05\n",
      "\n",
      "[quant] fragment length distribution will be estimated from the data\n",
      "[index] k-mer length: 31\n",
      "[index] number of targets: 32,905\n",
      "[index] number of k-mers: 28,899,711\n",
      "[index] number of equivalence classes: 52,215\n",
      "[quant] running in paired-end mode\n",
      "[quant] will process pair 1: /dev/fd/63\n",
      "                             /dev/fd/62\n",
      "[quant] finding pseudoalignments for the reads ... done\n",
      "[quant] processed 9,220,629 reads, 8,155,087 reads pseudoaligned\n",
      "[quant] estimated average fragment length: 172.331\n",
      "[   em] quantifying the abundances ... done\n",
      "[   em] the Expectation-Maximization algorithm ran for 1,351 rounds\n",
      "[bstrp] number of EM bootstraps complete: 100\n",
      "\n",
      "Running kallisto quant for sample lo09\n",
      "\n",
      "[quant] fragment length distribution will be estimated from the data\n",
      "[index] k-mer length: 31\n",
      "[index] number of targets: 32,905\n",
      "[index] number of k-mers: 28,899,711\n",
      "[index] number of equivalence classes: 52,215\n",
      "[quant] running in paired-end mode\n",
      "[quant] will process pair 1: /dev/fd/63\n",
      "                             /dev/fd/62\n",
      "[quant] finding pseudoalignments for the reads ... done\n",
      "[quant] processed 6,489,681 reads, 6,077,363 reads pseudoaligned\n",
      "[quant] estimated average fragment length: 138.835\n",
      "[   em] quantifying the abundances ... done\n",
      "[   em] the Expectation-Maximization algorithm ran for 1,400 rounds\n",
      "[bstrp] number of EM bootstraps complete: 100\n",
      "\n",
      "Running kallisto quant for sample lo11\n",
      "\n",
      "[quant] fragment length distribution will be estimated from the data\n",
      "[index] k-mer length: 31\n",
      "[index] number of targets: 32,905\n",
      "[index] number of k-mers: 28,899,711\n",
      "[index] number of equivalence classes: 52,215\n",
      "[quant] running in paired-end mode\n",
      "[quant] will process pair 1: /dev/fd/63\n",
      "                             /dev/fd/62\n",
      "[quant] finding pseudoalignments for the reads ... done\n",
      "[quant] processed 8,288,222 reads, 7,727,927 reads pseudoaligned\n",
      "[quant] estimated average fragment length: 119.261\n",
      "[   em] quantifying the abundances ... done\n",
      "[   em] the Expectation-Maximization algorithm ran for 1,267 rounds\n",
      "[bstrp] number of EM bootstraps complete: 100\n",
      "\n"
     ]
    }
   ],
   "source": [
    "# Run kallisto quant for samples\n",
    "\n",
    "base_dir=\"../data\"\n",
    "for sample in $(ls $base_dir | grep lo)\n",
    "do\n",
    "    echo \"Running kallisto quant for sample \"$sample\n",
    "    output=../data/kallisto/$sample\n",
    "    if [ ! -d \"$output\" ]; then\n",
    "        mkdir -p $output\n",
    "    fi\n",
    "    read1=$base_dir/$sample/R1.fastq.gz\n",
    "    read2=$base_dir/$sample/R2.fastq.gz\n",
    "    ~/bin/kallisto_linux-v0.43.0/kallisto quant \\\n",
    "        -i cele \\\n",
    "        -t 4 \\\n",
    "        -o $output -b 100 <(zcat $read1) <(zcat $read2)\n",
    "done"
   ]
  },
  {
   "cell_type": "code",
   "execution_count": 21,
   "metadata": {
    "collapsed": false
   },
   "outputs": [
    {
     "name": "stdout",
     "output_type": "stream",
     "text": [
      "total 15M\n",
      "drwxrwxr-x 2 ilya ilya 4.0K Aug 24 15:11 \u001b[0m\u001b[01;34m.\u001b[0m\n",
      "drwxrwxr-x 6 ilya ilya 4.0K Aug 24 15:10 \u001b[01;34m..\u001b[0m\n",
      "-rw-rw-r-- 1 ilya ilya  13M Aug 24 15:13 abundance.h5\n",
      "-rw-rw-r-- 1 ilya ilya 1.1M Aug 24 15:11 abundance.tsv\n",
      "-rw-rw-r-- 1 ilya ilya  300 Aug 24 15:11 run_info.json\n"
     ]
    }
   ],
   "source": [
    "ls -lah ../data/kallisto/lo03"
   ]
  },
  {
   "cell_type": "code",
   "execution_count": 22,
   "metadata": {
    "collapsed": false
   },
   "outputs": [
    {
     "name": "stdout",
     "output_type": "stream",
     "text": [
      "target_id\tlength\teff_length\test_counts\ttpm\n",
      "Y110A7A.10\t1787\t1630.88\t2693.83\t75.4985\n",
      "F27C8.1\t1940\t1783.88\t115\t2.94661\n",
      "F07C3.7\t1728\t1571.88\t180\t5.23412\n",
      "F52H2.2\t1739\t1582.88\t621\t17.9322\n",
      "T13A10.10a\t1734\t1577.88\t127\t3.67892\n",
      "T13A10.10b\t1598\t1441.88\t0\t0\n",
      "C55C2.5a\t1840\t1683.88\t76.6547\t2.08074\n",
      "C55C2.5b\t1606\t1449.88\t5.34533\t0.168513\n",
      "C55C2.5c\t1671\t1514.88\t0\t0\n"
     ]
    }
   ],
   "source": [
    "head ../data/kallisto/lo03/abundance.tsv"
   ]
  },
  {
   "cell_type": "code",
   "execution_count": null,
   "metadata": {
    "collapsed": true
   },
   "outputs": [],
   "source": []
  }
 ],
 "metadata": {
  "kernelspec": {
   "display_name": "Bash",
   "language": "bash",
   "name": "bash"
  },
  "language_info": {
   "codemirror_mode": "shell",
   "file_extension": ".sh",
   "mimetype": "text/x-sh",
   "name": "bash"
  },
  "widgets": {
   "state": {},
   "version": "1.1.1"
  }
 },
 "nbformat": 4,
 "nbformat_minor": 0
}
