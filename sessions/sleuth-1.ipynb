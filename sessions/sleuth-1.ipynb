{
 "cells": [
  {
   "cell_type": "code",
   "execution_count": 1,
   "metadata": {
    "collapsed": false
   },
   "outputs": [
    {
     "name": "stderr",
     "output_type": "stream",
     "text": [
      "Installing package into ‘/home/ilya/R/x86_64-pc-linux-gnu-library/3.3’\n",
      "(as ‘lib’ is unspecified)\n",
      "Bioconductor version 3.3 (BiocInstaller 1.22.3), ?biocLite for help\n",
      "BioC_mirror: https://bioconductor.org\n",
      "Using Bioconductor 3.3 (BiocInstaller 1.22.3), R 3.3.1 (2016-06-21).\n",
      "Installing package(s) ‘rhdf5’\n",
      "also installing the dependency ‘zlibbioc’\n",
      "\n",
      "Old packages: 'boot', 'MASS', 'spatial'\n"
     ]
    }
   ],
   "source": [
    "source(\"http://bioconductor.org/biocLite.R\")\n",
    "biocLite(\"rhdf5\")"
   ]
  },
  {
   "cell_type": "code",
   "execution_count": 1,
   "metadata": {
    "collapsed": false
   },
   "outputs": [
    {
     "name": "stderr",
     "output_type": "stream",
     "text": [
      "Downloading GitHub repo pachterlab/sleuth@master\n",
      "from URL https://api.github.com/repos/pachterlab/sleuth/zipball/master\n",
      "Installing sleuth\n",
      "Installing shiny\n",
      "Installing httpuv\n",
      "'/usr/lib/R/bin/R' --no-site-file --no-environ --no-save --no-restore --quiet  \\\n",
      "  CMD INSTALL '/tmp/RtmpMWwW2H/devtools4d42622c25bc/httpuv'  \\\n",
      "  --library='/home/ilya/R/x86_64-pc-linux-gnu-library/3.3' --install-tests \n",
      "\n",
      "Installing R6\n",
      "'/usr/lib/R/bin/R' --no-site-file --no-environ --no-save --no-restore --quiet  \\\n",
      "  CMD INSTALL '/tmp/RtmpMWwW2H/devtools4d4245d9d26e/R6'  \\\n",
      "  --library='/home/ilya/R/x86_64-pc-linux-gnu-library/3.3' --install-tests \n",
      "\n",
      "'/usr/lib/R/bin/R' --no-site-file --no-environ --no-save --no-restore --quiet  \\\n",
      "  CMD INSTALL '/tmp/RtmpMWwW2H/devtools4d428a68d88/shiny'  \\\n",
      "  --library='/home/ilya/R/x86_64-pc-linux-gnu-library/3.3' --install-tests \n",
      "\n",
      "'/usr/lib/R/bin/R' --no-site-file --no-environ --no-save --no-restore --quiet  \\\n",
      "  CMD INSTALL  \\\n",
      "  '/tmp/RtmpMWwW2H/devtools4d421e6f6ad4/pachterlab-sleuth-048f055'  \\\n",
      "  --library='/home/ilya/R/x86_64-pc-linux-gnu-library/3.3' --install-tests \n",
      "\n"
     ]
    }
   ],
   "source": [
    "devtools::install_github(\"pachterlab/sleuth\")"
   ]
  },
  {
   "cell_type": "code",
   "execution_count": 2,
   "metadata": {
    "collapsed": false
   },
   "outputs": [
    {
     "name": "stderr",
     "output_type": "stream",
     "text": [
      "Loading required package: ggplot2\n",
      "Loading required package: dplyr\n",
      "\n",
      "Attaching package: ‘dplyr’\n",
      "\n",
      "The following objects are masked from ‘package:stats’:\n",
      "\n",
      "    filter, lag\n",
      "\n",
      "The following objects are masked from ‘package:base’:\n",
      "\n",
      "    intersect, setdiff, setequal, union\n",
      "\n"
     ]
    }
   ],
   "source": [
    "library(\"sleuth\")"
   ]
  },
  {
   "cell_type": "code",
   "execution_count": 3,
   "metadata": {
    "collapsed": false
   },
   "outputs": [
    {
     "data": {
      "text/html": [
       "<ol class=list-inline>\n",
       "\t<li>'lo03'</li>\n",
       "\t<li>'lo05'</li>\n",
       "\t<li>'lo09'</li>\n",
       "\t<li>'lo11'</li>\n",
       "</ol>\n"
      ],
      "text/latex": [
       "\\begin{enumerate*}\n",
       "\\item 'lo03'\n",
       "\\item 'lo05'\n",
       "\\item 'lo09'\n",
       "\\item 'lo11'\n",
       "\\end{enumerate*}\n"
      ],
      "text/markdown": [
       "1. 'lo03'\n",
       "2. 'lo05'\n",
       "3. 'lo09'\n",
       "4. 'lo11'\n",
       "\n",
       "\n"
      ],
      "text/plain": [
       "[1] \"lo03\" \"lo05\" \"lo09\" \"lo11\""
      ]
     },
     "metadata": {},
     "output_type": "display_data"
    }
   ],
   "source": [
    "base_dir <- \"../data/kallisto\"\n",
    "sample_id <- dir(file.path(base_dir), pattern='^lo')\n",
    "sample_id"
   ]
  },
  {
   "cell_type": "code",
   "execution_count": 4,
   "metadata": {
    "collapsed": false
   },
   "outputs": [
    {
     "data": {
      "text/html": [
       "<dl class=dl-horizontal>\n",
       "\t<dt>lo03</dt>\n",
       "\t\t<dd>'../data/kallisto/lo03'</dd>\n",
       "\t<dt>lo05</dt>\n",
       "\t\t<dd>'../data/kallisto/lo05'</dd>\n",
       "\t<dt>lo09</dt>\n",
       "\t\t<dd>'../data/kallisto/lo09'</dd>\n",
       "\t<dt>lo11</dt>\n",
       "\t\t<dd>'../data/kallisto/lo11'</dd>\n",
       "</dl>\n"
      ],
      "text/latex": [
       "\\begin{description*}\n",
       "\\item[lo03] '../data/kallisto/lo03'\n",
       "\\item[lo05] '../data/kallisto/lo05'\n",
       "\\item[lo09] '../data/kallisto/lo09'\n",
       "\\item[lo11] '../data/kallisto/lo11'\n",
       "\\end{description*}\n"
      ],
      "text/markdown": [
       "lo03\n",
       ":   '../data/kallisto/lo03'lo05\n",
       ":   '../data/kallisto/lo05'lo09\n",
       ":   '../data/kallisto/lo09'lo11\n",
       ":   '../data/kallisto/lo11'\n",
       "\n"
      ],
      "text/plain": [
       "                   lo03                    lo05                    lo09 \n",
       "\"../data/kallisto/lo03\" \"../data/kallisto/lo05\" \"../data/kallisto/lo09\" \n",
       "                   lo11 \n",
       "\"../data/kallisto/lo11\" "
      ]
     },
     "metadata": {},
     "output_type": "display_data"
    }
   ],
   "source": [
    "kal_dirs <- sapply(sample_id, function(id) file.path(base_dir, id))\n",
    "kal_dirs"
   ]
  },
  {
   "cell_type": "code",
   "execution_count": 5,
   "metadata": {
    "collapsed": false
   },
   "outputs": [
    {
     "data": {
      "text/html": [
       "<ol class=list-inline>\n",
       "\t<li>'abundance.h5'</li>\n",
       "\t<li>'abundance.h5'</li>\n",
       "\t<li>'abundance.h5'</li>\n",
       "\t<li>'abundance.h5'</li>\n",
       "\t<li>'abundance.tsv'</li>\n",
       "\t<li>'abundance.tsv'</li>\n",
       "\t<li>'abundance.tsv'</li>\n",
       "\t<li>'abundance.tsv'</li>\n",
       "\t<li>'run_info.json'</li>\n",
       "\t<li>'run_info.json'</li>\n",
       "\t<li>'run_info.json'</li>\n",
       "\t<li>'run_info.json'</li>\n",
       "</ol>\n"
      ],
      "text/latex": [
       "\\begin{enumerate*}\n",
       "\\item 'abundance.h5'\n",
       "\\item 'abundance.h5'\n",
       "\\item 'abundance.h5'\n",
       "\\item 'abundance.h5'\n",
       "\\item 'abundance.tsv'\n",
       "\\item 'abundance.tsv'\n",
       "\\item 'abundance.tsv'\n",
       "\\item 'abundance.tsv'\n",
       "\\item 'run\\_info.json'\n",
       "\\item 'run\\_info.json'\n",
       "\\item 'run\\_info.json'\n",
       "\\item 'run\\_info.json'\n",
       "\\end{enumerate*}\n"
      ],
      "text/markdown": [
       "1. 'abundance.h5'\n",
       "2. 'abundance.h5'\n",
       "3. 'abundance.h5'\n",
       "4. 'abundance.h5'\n",
       "5. 'abundance.tsv'\n",
       "6. 'abundance.tsv'\n",
       "7. 'abundance.tsv'\n",
       "8. 'abundance.tsv'\n",
       "9. 'run_info.json'\n",
       "10. 'run_info.json'\n",
       "11. 'run_info.json'\n",
       "12. 'run_info.json'\n",
       "\n",
       "\n"
      ],
      "text/plain": [
       " [1] \"abundance.h5\"  \"abundance.h5\"  \"abundance.h5\"  \"abundance.h5\" \n",
       " [5] \"abundance.tsv\" \"abundance.tsv\" \"abundance.tsv\" \"abundance.tsv\"\n",
       " [9] \"run_info.json\" \"run_info.json\" \"run_info.json\" \"run_info.json\""
      ]
     },
     "metadata": {},
     "output_type": "display_data"
    }
   ],
   "source": [
    "dir(kal_dirs)"
   ]
  },
  {
   "cell_type": "code",
   "execution_count": 7,
   "metadata": {
    "collapsed": false
   },
   "outputs": [
    {
     "data": {
      "text/html": [
       "<ol class=list-inline>\n",
       "\t<li>'lo05'</li>\n",
       "\t<li>'lo09'</li>\n",
       "\t<li>'lo03'</li>\n",
       "\t<li>'lo11'</li>\n",
       "</ol>\n"
      ],
      "text/latex": [
       "\\begin{enumerate*}\n",
       "\\item 'lo05'\n",
       "\\item 'lo09'\n",
       "\\item 'lo03'\n",
       "\\item 'lo11'\n",
       "\\end{enumerate*}\n"
      ],
      "text/markdown": [
       "1. 'lo05'\n",
       "2. 'lo09'\n",
       "3. 'lo03'\n",
       "4. 'lo11'\n",
       "\n",
       "\n"
      ],
      "text/plain": [
       "[1] \"lo05\" \"lo09\" \"lo03\" \"lo11\""
      ]
     },
     "metadata": {},
     "output_type": "display_data"
    }
   ],
   "source": [
    "gsy_samples <- c('lo05', 'lo09', 'lo03', 'lo11')\n",
    "gsy_samples"
   ]
  },
  {
   "cell_type": "code",
   "execution_count": 16,
   "metadata": {
    "collapsed": false
   },
   "outputs": [
    {
     "data": {
      "text/html": [
       "<dl class=dl-horizontal>\n",
       "\t<dt>lo03</dt>\n",
       "\t\t<dd>'../data/kallisto/lo03'</dd>\n",
       "\t<dt>lo09</dt>\n",
       "\t\t<dd>'../data/kallisto/lo09'</dd>\n",
       "\t<dt>lo05</dt>\n",
       "\t\t<dd>'../data/kallisto/lo05'</dd>\n",
       "\t<dt>lo11</dt>\n",
       "\t\t<dd>'../data/kallisto/lo11'</dd>\n",
       "</dl>\n"
      ],
      "text/latex": [
       "\\begin{description*}\n",
       "\\item[lo03] '../data/kallisto/lo03'\n",
       "\\item[lo09] '../data/kallisto/lo09'\n",
       "\\item[lo05] '../data/kallisto/lo05'\n",
       "\\item[lo11] '../data/kallisto/lo11'\n",
       "\\end{description*}\n"
      ],
      "text/markdown": [
       "lo03\n",
       ":   '../data/kallisto/lo03'lo09\n",
       ":   '../data/kallisto/lo09'lo05\n",
       ":   '../data/kallisto/lo05'lo11\n",
       ":   '../data/kallisto/lo11'\n",
       "\n"
      ],
      "text/plain": [
       "                   lo03                    lo09                    lo05 \n",
       "\"../data/kallisto/lo03\" \"../data/kallisto/lo09\" \"../data/kallisto/lo05\" \n",
       "                   lo11 \n",
       "\"../data/kallisto/lo11\" "
      ]
     },
     "metadata": {},
     "output_type": "display_data"
    }
   ],
   "source": [
    "gsy_dirs <- c(kal_dirs[seq(1, length(kal_dirs), 2)], kal_dirs[seq(2, length(kal_dirs), 2)])\n",
    "gsy_dirs\n"
   ]
  },
  {
   "cell_type": "code",
   "execution_count": null,
   "metadata": {
    "collapsed": true
   },
   "outputs": [],
   "source": [
    "gsy"
   ]
  },
  {
   "cell_type": "code",
   "execution_count": 17,
   "metadata": {
    "collapsed": false
   },
   "outputs": [
    {
     "data": {
      "text/html": [
       "<table>\n",
       "<thead><tr><th scope=col>sample</th><th scope=col>condition</th><th scope=col>path</th></tr></thead>\n",
       "<tbody>\n",
       "\t<tr><td>lo03                 </td><td>gsy                  </td><td>../data/kallisto/lo03</td></tr>\n",
       "\t<tr><td>lo05                 </td><td>wt                   </td><td>../data/kallisto/lo05</td></tr>\n",
       "\t<tr><td>lo09                 </td><td>wt                   </td><td>../data/kallisto/lo09</td></tr>\n",
       "\t<tr><td>lo11                 </td><td>gsy                  </td><td>../data/kallisto/lo11</td></tr>\n",
       "</tbody>\n",
       "</table>\n"
      ],
      "text/latex": [
       "\\begin{tabular}{r|lll}\n",
       " sample & condition & path\\\\\n",
       "\\hline\n",
       "\t lo03                  & gsy                   & ../data/kallisto/lo03\\\\\n",
       "\t lo05                  & wt                    & ../data/kallisto/lo05\\\\\n",
       "\t lo09                  & wt                    & ../data/kallisto/lo09\\\\\n",
       "\t lo11                  & gsy                   & ../data/kallisto/lo11\\\\\n",
       "\\end{tabular}\n"
      ],
      "text/plain": [
       "  sample condition path                 \n",
       "1 lo03   gsy       ../data/kallisto/lo03\n",
       "2 lo05   wt        ../data/kallisto/lo05\n",
       "3 lo09   wt        ../data/kallisto/lo09\n",
       "4 lo11   gsy       ../data/kallisto/lo11"
      ]
     },
     "metadata": {},
     "output_type": "display_data"
    }
   ],
   "source": [
    "s2c <- data.frame(sample=c('lo03', 'lo05', 'lo09', 'lo11'), condition=c('gsy', 'wt', 'wt', 'gsy'), path=c('../data/kallisto/lo03','../data/kallisto/lo05', '../data/kallisto/lo09','../data/kallisto/lo11'))\n",
    "s2c"
   ]
  },
  {
   "cell_type": "code",
   "execution_count": null,
   "metadata": {
    "collapsed": true
   },
   "outputs": [],
   "source": []
  },
  {
   "cell_type": "code",
   "execution_count": 18,
   "metadata": {
    "collapsed": false,
    "scrolled": true
   },
   "outputs": [
    {
     "name": "stderr",
     "output_type": "stream",
     "text": [
      "reading in kallisto results\n",
      "."
     ]
    },
    {
     "ename": "ERROR",
     "evalue": "Error: is(path, \"character\") is not TRUE\n",
     "output_type": "error",
     "traceback": [
      "Error: is(path, \"character\") is not TRUE\nTraceback:\n",
      "1. sleuth_prep(s2c, ~condition)",
      "2. lapply(seq_along(kal_dirs), function(i) {\n .     nsamp <- dot(nsamp)\n .     path <- kal_dirs[i]\n .     suppressMessages({\n .         kal <- read_kallisto(path, read_bootstrap = TRUE, max_bootstrap = max_bootstrap)\n .     })\n .     kal$abundance <- dplyr::mutate(kal$abundance, sample = sample_to_covariates$sample[i])\n .     kal\n . })",
      "3. FUN(X[[i]], ...)",
      "4. suppressMessages({\n .     kal <- read_kallisto(path, read_bootstrap = TRUE, max_bootstrap = max_bootstrap)\n . })",
      "5. withCallingHandlers(expr, message = function(c) invokeRestart(\"muffleMessage\"))",
      "6. read_kallisto(path, read_bootstrap = TRUE, max_bootstrap = max_bootstrap)",
      "7. stopifnot(is(path, \"character\"))",
      "8. stop(sprintf(ngettext(length(r), \"%s is not TRUE\", \"%s are not all TRUE\"), \n .     ch), call. = FALSE, domain = NA)"
     ]
    }
   ],
   "source": [
    "so <- sleuth_prep(s2c, ~ condition)"
   ]
  },
  {
   "cell_type": "code",
   "execution_count": 36,
   "metadata": {
    "collapsed": false
   },
   "outputs": [
    {
     "name": "stderr",
     "output_type": "stream",
     "text": [
      "fitting measurement error models\n",
      "shrinkage estimation\n",
      "Adding missing grouping variables: `x_group`\n",
      "computing variance of betas\n"
     ]
    }
   ],
   "source": [
    "so <- sleuth_fit(so)"
   ]
  },
  {
   "cell_type": "code",
   "execution_count": 37,
   "metadata": {
    "collapsed": false
   },
   "outputs": [
    {
     "name": "stderr",
     "output_type": "stream",
     "text": [
      "fitting measurement error models\n",
      "shrinkage estimation\n",
      "Adding missing grouping variables: `x_group`\n",
      "computing variance of betas\n"
     ]
    }
   ],
   "source": [
    "so <- sleuth_fit(so, ~1, 'reduced')"
   ]
  },
  {
   "cell_type": "code",
   "execution_count": 38,
   "metadata": {
    "collapsed": false
   },
   "outputs": [],
   "source": [
    "#so <- sleuth_test(so, which_beta='conditionwt')\n",
    "so <- sleuth_lrt(so, 'reduced', 'full')"
   ]
  },
  {
   "cell_type": "code",
   "execution_count": 39,
   "metadata": {
    "collapsed": false
   },
   "outputs": [
    {
     "name": "stdout",
     "output_type": "stream",
     "text": [
      "[  full  ]\n",
      "formula:  ~condition \n",
      "coefficients:\n",
      "\t(Intercept)\n",
      " \tconditionwt\n",
      "[  reduced  ]\n",
      "formula:  ~1 \n",
      "coefficients:\n",
      "\t(Intercept)\n"
     ]
    }
   ],
   "source": [
    "models(so)"
   ]
  },
  {
   "cell_type": "code",
   "execution_count": 41,
   "metadata": {
    "collapsed": false
   },
   "outputs": [
    {
     "name": "stderr",
     "output_type": "stream",
     "text": [
      "Bioconductor version 3.3 (BiocInstaller 1.22.3), ?biocLite for help\n",
      "BioC_mirror: https://bioconductor.org\n",
      "Using Bioconductor 3.3 (BiocInstaller 1.22.3), R 3.3.1 (2016-06-21).\n",
      "Installing package(s) ‘biomaRt’\n",
      "also installing the dependencies ‘BiocGenerics’, ‘Biobase’, ‘IRanges’, ‘RSQLite’, ‘S4Vectors’, ‘XML’, ‘AnnotationDbi’\n",
      "\n",
      "Old packages: 'boot', 'MASS', 'spatial'\n"
     ]
    }
   ],
   "source": [
    "source(\"http://bioconductor.org/biocLite.R\")\n",
    "biocLite(\"biomaRt\")"
   ]
  },
  {
   "cell_type": "code",
   "execution_count": 42,
   "metadata": {
    "collapsed": true
   },
   "outputs": [],
   "source": [
    "mart <- biomaRt::useMart(biomart = \"ENSEMBL_MART_ENSEMBL\",\n",
    "  dataset = \"celegans_gene_ensembl\",\n",
    "  host = 'ensembl.org')"
   ]
  },
  {
   "cell_type": "code",
   "execution_count": 43,
   "metadata": {
    "collapsed": false
   },
   "outputs": [
    {
     "name": "stderr",
     "output_type": "stream",
     "text": [
      "reading in kallisto results\n",
      "......\n",
      "normalizing est_counts\n",
      "19296 targets passed the filter\n",
      "normalizing tpm\n",
      "merging in metadata\n",
      "normalizing bootstrap samples\n",
      "summarizing bootstraps\n"
     ]
    }
   ],
   "source": [
    "t2g <- biomaRt::getBM(attributes = c(\"ensembl_transcript_id\", \"ensembl_gene_id\",\n",
    "    \"external_gene_name\"), mart = mart)\n",
    "t2g <- dplyr::rename(t2g, target_id = ensembl_transcript_id,\n",
    "  ens_gene = ensembl_gene_id, ext_gene = external_gene_name)\n",
    "so <- sleuth_prep(s2c, ~ condition, target_mapping = t2g)"
   ]
  },
  {
   "cell_type": "code",
   "execution_count": 44,
   "metadata": {
    "collapsed": false
   },
   "outputs": [
    {
     "name": "stderr",
     "output_type": "stream",
     "text": [
      "fitting measurement error models\n",
      "shrinkage estimation\n",
      "Adding missing grouping variables: `x_group`\n",
      "computing variance of betas\n"
     ]
    }
   ],
   "source": [
    "so <- sleuth_fit(so)"
   ]
  },
  {
   "cell_type": "code",
   "execution_count": 46,
   "metadata": {
    "collapsed": false
   },
   "outputs": [
    {
     "name": "stderr",
     "output_type": "stream",
     "text": [
      "fitting measurement error models\n",
      "shrinkage estimation\n",
      "Adding missing grouping variables: `x_group`\n",
      "computing variance of betas\n"
     ]
    }
   ],
   "source": [
    "so <- sleuth_fit(so, ~1, 'reduced')"
   ]
  },
  {
   "cell_type": "code",
   "execution_count": 47,
   "metadata": {
    "collapsed": true
   },
   "outputs": [],
   "source": [
    "so <- sleuth_lrt(so, 'reduced', 'full')"
   ]
  },
  {
   "cell_type": "code",
   "execution_count": 51,
   "metadata": {
    "collapsed": true
   },
   "outputs": [],
   "source": [
    "so <- sleuth_wt(so, which_beta = 'conditionwt')"
   ]
  },
  {
   "cell_type": "code",
   "execution_count": 52,
   "metadata": {
    "collapsed": false
   },
   "outputs": [
    {
     "data": {
      "text/html": [
       "<strong>$test_type</strong> = 'wt'"
      ],
      "text/latex": [
       "\\textbf{\\$test\\_type} = 'wt'"
      ],
      "text/markdown": [
       "**$test_type** = 'wt'"
      ],
      "text/plain": [
       "$test_type\n",
       "[1] \"wt\"\n"
      ]
     },
     "metadata": {},
     "output_type": "display_data"
    }
   ],
   "source": [
    "sleuth_live_settings(test_type='wt')"
   ]
  },
  {
   "cell_type": "code",
   "execution_count": null,
   "metadata": {
    "collapsed": false
   },
   "outputs": [
    {
     "name": "stderr",
     "output_type": "stream",
     "text": [
      "\n",
      "Listening on http://127.0.0.1:42427\n",
      "Warning message:\n",
      ": Removed 8 rows containing missing values (geom_point).Warning message:\n",
      ": Removed 8 rows containing missing values (geom_point)."
     ]
    }
   ],
   "source": [
    "sleuth_live(so)"
   ]
  },
  {
   "cell_type": "code",
   "execution_count": 10,
   "metadata": {
    "collapsed": true
   },
   "outputs": [],
   "source": [
    "write.table(res,file='../kallisto/results.tsv', sep='\\t')"
   ]
  },
  {
   "cell_type": "code",
   "execution_count": null,
   "metadata": {
    "collapsed": false
   },
   "outputs": [
    {
     "name": "stderr",
     "output_type": "stream",
     "text": [
      "Loading required package: shiny\n",
      "\n",
      "Listening on http://127.0.0.1:7861\n"
     ]
    }
   ],
   "source": [
    "sleuth_live(so)"
   ]
  },
  {
   "cell_type": "code",
   "execution_count": null,
   "metadata": {
    "collapsed": true
   },
   "outputs": [],
   "source": [
    "res <- sleuth_results(so, 'conditionwt')"
   ]
  },
  {
   "cell_type": "code",
   "execution_count": null,
   "metadata": {
    "collapsed": true
   },
   "outputs": [],
   "source": []
  }
 ],
 "metadata": {
  "kernelspec": {
   "display_name": "R",
   "language": "R",
   "name": "ir"
  },
  "language_info": {
   "codemirror_mode": "r",
   "file_extension": ".r",
   "mimetype": "text/x-r-source",
   "name": "R",
   "pygments_lexer": "r",
   "version": "3.3.1"
  },
  "widgets": {
   "state": {},
   "version": "1.1.1"
  }
 },
 "nbformat": 4,
 "nbformat_minor": 0
}
