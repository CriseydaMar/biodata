{
 "cells": [
  {
   "cell_type": "markdown",
   "metadata": {},
   "source": [
    "## Install `bash_kernel` for jupyter"
   ]
  },
  {
   "cell_type": "markdown",
   "metadata": {},
   "source": [
    "[https://github.com/eco32i/bash_kernel](https://github.com/eco32i/bash_kernel)\n",
    "\n",
    "Follow the instructions in the repo. Don't forget to activate your environment before installing.\n",
    "\n",
    "This fork will produce incremental output when run inside `jupyter notebook`. The original kernel waits until the cell execution is done and then outputs all at once."
   ]
  },
  {
   "cell_type": "markdown",
   "metadata": {},
   "source": [
    "## Download and install the latest release of `kallisto`"
   ]
  },
  {
   "cell_type": "markdown",
   "metadata": {},
   "source": [
    "For `Mac OS`:"
   ]
  },
  {
   "cell_type": "code",
   "execution_count": null,
   "metadata": {
    "collapsed": true
   },
   "outputs": [],
   "source": [
    "!wget https://github.com/pachterlab/kallisto/releases/download/v0.43.0/kallisto_mac-v0.43.0.tar.gz"
   ]
  },
  {
   "cell_type": "markdown",
   "metadata": {},
   "source": [
    "For `linux`:"
   ]
  },
  {
   "cell_type": "code",
   "execution_count": null,
   "metadata": {
    "collapsed": true
   },
   "outputs": [],
   "source": [
    "!wget https://github.com/pachterlab/kallisto/releases/download/v0.43.0/kallisto_linux-v0.43.0.tar.gz"
   ]
  },
  {
   "cell_type": "markdown",
   "metadata": {},
   "source": [
    "### Put `kallisto` somewhere on your `$PATH`"
   ]
  },
  {
   "cell_type": "code",
   "execution_count": null,
   "metadata": {
    "collapsed": true
   },
   "outputs": [],
   "source": [
    "%%bash\n",
    "\n",
    "mv kallisto_linux-v0.43.0.tar.gz ~/bin\n",
    "cd ~/bin\n",
    "tar -xzvf kallisto_linux-v0.43.0.tar.gz"
   ]
  },
  {
   "cell_type": "markdown",
   "metadata": {},
   "source": [
    "### Download C.elegans transcriptome reference"
   ]
  },
  {
   "cell_type": "code",
   "execution_count": null,
   "metadata": {
    "collapsed": true
   },
   "outputs": [],
   "source": [
    "!wget http://bio.math.berkeley.edu/kallisto/transcriptomes/Caenorhabditis_elegans.WBcel235.rel79.cdna.all.fa.gz"
   ]
  },
  {
   "cell_type": "markdown",
   "metadata": {},
   "source": [
    "## Download and install the latest release of `sleuth`"
   ]
  },
  {
   "cell_type": "markdown",
   "metadata": {
    "collapsed": false
   },
   "source": [
    "Install [R kernel for jupyter](https://irkernel.github.io/installation/)\n",
    "\n",
    "You'll need to install R first if it's not installed on your system. The easiest way is to use `conda`."
   ]
  },
  {
   "cell_type": "markdown",
   "metadata": {
    "collapsed": false
   },
   "source": [
    "Then follow the instructions on [`sleuth` github repo](https://github.com/pachterlab/sleuth) to complete the installation."
   ]
  },
  {
   "cell_type": "markdown",
   "metadata": {
    "collapsed": true
   },
   "source": [
    "## Download data"
   ]
  },
  {
   "cell_type": "code",
   "execution_count": null,
   "metadata": {
    "collapsed": true
   },
   "outputs": [],
   "source": [
    "%%bash\n",
    "\n",
    "dirs=\"lo05 lo09 lo03 lo11\"\n",
    "for d in dirs\n",
    "do\n",
    "    wget http://lab.nudlerlab.info/data/$d/R1.fastq.gz\n",
    "    wget http://lab.nudlerlab.info/data/$d/R2.fastq.gz\n",
    "    mv $d ../data\n",
    "exit"
   ]
  }
 ],
 "metadata": {
  "kernelspec": {
   "display_name": "Bash",
   "language": "bash",
   "name": "bash"
  },
  "language_info": {
   "codemirror_mode": "shell",
   "file_extension": ".sh",
   "mimetype": "text/x-sh",
   "name": "bash"
  },
  "widgets": {
   "state": {},
   "version": "1.1.1"
  }
 },
 "nbformat": 4,
 "nbformat_minor": 0
}
