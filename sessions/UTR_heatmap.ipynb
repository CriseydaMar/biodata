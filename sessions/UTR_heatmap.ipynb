{
 "cells": [
  {
   "cell_type": "code",
   "execution_count": null,
   "metadata": {
    "collapsed": false
   },
   "outputs": [],
   "source": [
    "%matplotlib inline"
   ]
  },
  {
   "cell_type": "code",
   "execution_count": null,
   "metadata": {
    "collapsed": false
   },
   "outputs": [],
   "source": [
    "# Some initial imports\n",
    "from __future__ import division, print_function\n",
    "import pandas as pd\n",
    "import numpy as np\n",
    "import os\n",
    "\n",
    "from ggplot import *"
   ]
  },
  {
   "cell_type": "code",
   "execution_count": null,
   "metadata": {
    "collapsed": false
   },
   "outputs": [],
   "source": [
    "# Sample titles with corresponding barcodes\n",
    "samples = {\n",
    "    's9': ['ATCACG', 'ACAGTG'],\n",
    "    's9+bcm': ['CGATGT', 'GCCAAT'],\n",
    "    's17': ['TTAGGC', 'GATCAG'],\n",
    "    's17+bcm': ['TGACCA', 'TAGCTT'],\n",
    "    's19': ['CAGATC','GGCTAC'],\n",
    "    's19+bcm': ['ACTTGA', 'CTTGTA']\n",
    "}\n",
    "\n",
    "# Barcodes\n",
    "barcodes = ['ATCACG', 'ACAGTG', 'CGATGT', 'GCCAAT', 'TTAGGC', 'GATCAG', 'TGACCA', 'TAGCTT', 'CAGATC','GGCTAC', 'ACTTGA', 'CTTGTA']"
   ]
  },
  {
   "cell_type": "code",
   "execution_count": null,
   "metadata": {
    "collapsed": false
   },
   "outputs": [],
   "source": [
    "import urllib\n",
    "\n",
    "# Download data files\n",
    "\n",
    "DOMAIN = 'http://ngs.nudlerlab.info'\n",
    "file_tpl = '{0}.UTR_heatmap.txt.gz'\n",
    "\n",
    "for barcode in barcodes:\n",
    "    remote = urllib.URLopener()\n",
    "    file_name = file_tpl.format(barcode)\n",
    "    try:\n",
    "        print(\"Trying {0}\".format(file_name))\n",
    "        remote.retrieve(\"{0}/{1}\".format(DOMAIN, file_name), \"../data/{0}\".format(file_name))\n",
    "    except IOError:\n",
    "        print(\"\\terror downloading {0}. Skipping.\".format(file_name))"
   ]
  },
  {
   "cell_type": "code",
   "execution_count": null,
   "metadata": {
    "collapsed": true
   },
   "outputs": [],
   "source": [
    "# Load the data\n",
    "\n",
    "data_tpl = '../data/{0}.UTR_heatmap.txt.gz'\n",
    "data = {}\n",
    "\n",
    "for barcode in barcodes:\n",
    "    try:\n",
    "        data[barcode] = np.loadtxt(data_tpl.format(barcode), delimiter='\\t')\n",
    "    except IOError:\n",
    "        pass"
   ]
  },
  {
   "cell_type": "code",
   "execution_count": null,
   "metadata": {
    "collapsed": false
   },
   "outputs": [],
   "source": [
    "data"
   ]
  },
  {
   "cell_type": "code",
   "execution_count": null,
   "metadata": {
    "collapsed": false
   },
   "outputs": [],
   "source": [
    "# import more stuff we'll need for plotting\n",
    "import matplotlib.pyplot as plt\n",
    "from matplotlib import cm\n",
    "import math"
   ]
  },
  {
   "cell_type": "code",
   "execution_count": null,
   "metadata": {
    "collapsed": false
   },
   "outputs": [],
   "source": [
    "# Our main plotting function\n",
    "# Takes an np array as data source and does the plotting using vanilla matplotlib\n",
    "# Remember that image is nothing more than an array of floats (intensities)\n",
    "\n",
    "def plot_utr_heatmap(data, title=None, cmap=cm.OrRd, ylim=[1750, 1500], orientation='vertical'):\n",
    "    from mpl_toolkits.axes_grid1 import make_axes_locatable\n",
    "    utr = data.copy()\n",
    "    utr.sort(axis=0)\n",
    "    max_val = np.max(utr)\n",
    "    midpoint = math.ceil(max_val / 2)\n",
    "    fig, ax = plt.subplots(figsize=(18,18))\n",
    "    im = ax.imshow(utr,cmap=cmap)\n",
    "    if title:\n",
    "        ax.set_title(title, fontsize=20)\n",
    "    else:\n",
    "        ax.set_title(\"Read depth at 5'UTR\", fontsize=20)\n",
    "    ax.set_ylim(ylim)\n",
    "    ax.set_xlabel('Position from TSS', fontsize=20)\n",
    "    ax.get_yaxis().set_ticks([])\n",
    "    for tick in ax.xaxis.get_major_ticks():\n",
    "        tick.label.set_fontsize(20)\n",
    "    divider = make_axes_locatable(ax)\n",
    "    cax = divider.append_axes(\"right\", size=\"5%\", pad=0.05)\n",
    "    cbar = fig.colorbar(im, cax=cax, ticks=[0,midpoint,max_val], orientation=orientation)\n",
    "    cbar.ax.invert_yaxis()\n",
    "    cbar.ax.set_xticklabels(['0', '{0}'.format(int(midpoint)), '{0}'.format(int(max_val))], fontsize=20)\n",
    "    plt.show()"
   ]
  },
  {
   "cell_type": "code",
   "execution_count": null,
   "metadata": {
    "collapsed": false
   },
   "outputs": [],
   "source": [
    "plot_utr_heatmap(data['ACAGTG'])"
   ]
  },
  {
   "cell_type": "code",
   "execution_count": null,
   "metadata": {
    "collapsed": false
   },
   "outputs": [],
   "source": [
    "for barcode,heatmap in data.items():\n",
    "    plot_utr_heatmap(heatmap, title=barcode)"
   ]
  },
  {
   "cell_type": "code",
   "execution_count": null,
   "metadata": {
    "collapsed": false
   },
   "outputs": [],
   "source": [
    "# Ok, we do see some changes but let's try to quantify them\n",
    "\n",
    "win = 20 # window size for computing rolling mean\n",
    "quart = 0.5 # quartile to sum\n",
    "\n",
    "df = pd.DataFrame(np.sort((data['ACAGTG'] + data['ATCACG']) / 2., axis=0))\n",
    "mask = (df > np.max(df.max()) * quart)\n",
    "col1 = pd.rolling_mean(df[mask].cumsum()[-1:].transpose(), win)\n",
    "\n",
    "df = pd.DataFrame(np.sort((data['CGATGT'] + data['GCCAAT']) / 2., axis=0))\n",
    "mask = (df > np.max(df.max()) * quart)\n",
    "col2 = pd.rolling_mean(df[mask].cumsum()[-1:].transpose(), win)"
   ]
  },
  {
   "cell_type": "code",
   "execution_count": null,
   "metadata": {
    "collapsed": false
   },
   "outputs": [],
   "source": [
    "df1 = pd.DataFrame()\n",
    "df1['sum'] = col1[1747]\n",
    "df1['BCM'] = '-'\n",
    "df1['pos'] = df1.index\n",
    "\n",
    "df2 = pd.DataFrame()\n",
    "df2['sum'] = col2[1747]\n",
    "df2['BCM'] = '+'\n",
    "df2['pos'] = df2.index\n",
    "\n",
    "df = pd.concat([df1,df2])\n",
    "df = df.dropna().reset_index(drop=True)\n",
    "df['sum'] = df['sum'] / 1e5"
   ]
  },
  {
   "cell_type": "code",
   "execution_count": null,
   "metadata": {
    "collapsed": false
   },
   "outputs": [],
   "source": [
    "p = ggplot(df, aes(x='pos', y='sum', color='BCM')) \\\n",
    "    + geom_line(size=3, alpha=0.7) \\\n",
    "    + scale_x_continuous(name=\"position from TSS\") \\\n",
    "    + scale_y_continuous(name=\"Mean sum of 50% quartile read depth, x10^-5\") \\\n",
    "    + theme(axis_title=element_text(size=20),\n",
    "            axis_text=element_text(size=18)) \n",
    "    \n",
    "print(p)"
   ]
  },
  {
   "cell_type": "code",
   "execution_count": null,
   "metadata": {
    "collapsed": false
   },
   "outputs": [],
   "source": []
  }
 ],
 "metadata": {
  "kernelspec": {
   "display_name": "Python 2",
   "language": "python",
   "name": "python2"
  },
  "language_info": {
   "codemirror_mode": {
    "name": "ipython",
    "version": 2
   },
   "file_extension": ".py",
   "mimetype": "text/x-python",
   "name": "python",
   "nbconvert_exporter": "python",
   "pygments_lexer": "ipython2",
   "version": "2.7.9"
  }
 },
 "nbformat": 4,
 "nbformat_minor": 0
}
