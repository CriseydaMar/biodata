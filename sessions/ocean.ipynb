{
 "cells": [
  {
   "cell_type": "code",
   "execution_count": 1,
   "metadata": {
    "collapsed": false
   },
   "outputs": [
    {
     "name": "stdout",
     "output_type": "stream",
     "text": [
      " %1 12/09/20 09:00:00  27.03\r\n",
      "  3.88  16.9  222.4  -11.4 -12.5     1    -2   53  53  52  55    84  92  78  94    54\r\n",
      "  4.38  17.5  219.0  -11.0 -13.6     0    -1   53  52  53  55    85  97  86  97    67\r\n",
      "  4.88  18.1  215.5  -10.5 -14.7     0     0   54  53  55  55    87  99  84  98    72\r\n",
      "  5.38  17.8  213.5   -9.8 -14.8     0    -1   55  53  56  55    90  98  87 102    78\r\n",
      "  5.88  16.9  214.9   -9.7 -13.9     0    -1   56  54  57  56    92 104  97 101    87\r\n",
      "  6.38  14.6  213.8   -8.1 -12.1     0    -1   58  55  59  56    94 104 100 104    88\r\n",
      "  6.88  13.6  214.9   -7.8 -11.2     0    -1   59  55  60  57    98 106 103 104    93\r\n",
      "  7.38  13.8  210.5   -7.0 -11.9     0    -1   61  57  61  58   103 113 110 109    96\r\n",
      "  7.88  13.2  207.0   -6.0 -11.8     0     0   63  58  63  59   104 112 111 112    98\r\n"
     ]
    }
   ],
   "source": [
    "!head ../data/Ashkelon_1.txt"
   ]
  },
  {
   "cell_type": "code",
   "execution_count": 2,
   "metadata": {
    "collapsed": true
   },
   "outputs": [],
   "source": [
    "import numpy as np"
   ]
  },
  {
   "cell_type": "code",
   "execution_count": 3,
   "metadata": {
    "collapsed": false
   },
   "outputs": [],
   "source": [
    "res = [] # we'll keep rows here\n",
    "stacks = [] # ensembles\n",
    "\n",
    "# This will be the variable to keep track of depth\n",
    "# Once it goes down we have a new ensemble\n",
    "last_depth = 0 \n",
    "\n",
    "with open('../data/Ashkelon_1.txt', 'r') as infile:\n",
    "    for line in infile:\n",
    "        # Remove leading and trailing whitespaces\n",
    "        nline = line.strip() \n",
    "        # Skip % lines, doesn't matter if those were removed in bash\n",
    "        if not nline.startswith('%'):\n",
    "            # Split the line on whitespace into fields\n",
    "            bits = nline.split()\n",
    "            # Convert each field to number\n",
    "            values  = [float(x) for x in bits]\n",
    "            if values[0] < last_depth:\n",
    "                # We have a new ensemble\n",
    "                # Create 2d array from whatever we have in res\n",
    "                # and add it to the list of ensembles\n",
    "                stacks.append(np.vstack(res))\n",
    "                # Reset current ensemble\n",
    "                res = []\n",
    "            # Just adding rows to the current ensemble\n",
    "            # And keeping track of depth\n",
    "            res.append(np.array(values))\n",
    "            last_depth = values[0]\n",
    "    \n",
    "    if res:\n",
    "        # Don't forget the last one!\n",
    "        stacks.append(np.vstack(res))\n",
    "            \n",
    "# Create a 3d array from the list of 2d arrays corresponding to ensembles\n",
    "data = np.dstack(stacks)"
   ]
  },
  {
   "cell_type": "code",
   "execution_count": 4,
   "metadata": {
    "collapsed": false,
    "scrolled": true
   },
   "outputs": [
    {
     "data": {
      "text/plain": [
       "(40, 16, 2)"
      ]
     },
     "execution_count": 4,
     "metadata": {},
     "output_type": "execute_result"
    }
   ],
   "source": [
    "data.shape"
   ]
  },
  {
   "cell_type": "code",
   "execution_count": 5,
   "metadata": {
    "collapsed": false
   },
   "outputs": [
    {
     "data": {
      "text/plain": [
       "array([[[   3.88,    3.88],\n",
       "        [  16.9 ,   18.7 ],\n",
       "        [ 222.4 ,  211.9 ],\n",
       "        ..., \n",
       "        [  78.  ,   80.  ],\n",
       "        [  94.  ,  101.  ],\n",
       "        [  54.  ,   61.  ]],\n",
       "\n",
       "       [[   4.38,    4.38],\n",
       "        [  17.5 ,   16.7 ],\n",
       "        [ 219.  ,  216.7 ],\n",
       "        ..., \n",
       "        [  86.  ,   80.  ],\n",
       "        [  97.  ,  102.  ],\n",
       "        [  67.  ,   65.  ]],\n",
       "\n",
       "       [[   4.88,    4.88],\n",
       "        [  18.1 ,   17.2 ],\n",
       "        [ 215.5 ,  208.8 ],\n",
       "        ..., \n",
       "        [  84.  ,   79.  ],\n",
       "        [  98.  ,  101.  ],\n",
       "        [  72.  ,   73.  ]],\n",
       "\n",
       "       ..., \n",
       "       [[  22.38,   22.38],\n",
       "        [   4.8 ,    3.2 ],\n",
       "        [ 139.3 ,  151.8 ],\n",
       "        ..., \n",
       "        [ 126.  ,  125.  ],\n",
       "        [ 125.  ,  124.  ],\n",
       "        [  99.  ,   98.  ]],\n",
       "\n",
       "       [[  22.88,   22.88],\n",
       "        [   3.6 ,    2.7 ],\n",
       "        [ 104.4 ,  113.7 ],\n",
       "        ..., \n",
       "        [ 124.  ,  124.  ],\n",
       "        [ 125.  ,  122.  ],\n",
       "        [  98.  ,   97.  ]],\n",
       "\n",
       "       [[  23.38,   23.38],\n",
       "        [   3.1 ,    2.  ],\n",
       "        [  97.4 ,   87.1 ],\n",
       "        ..., \n",
       "        [ 120.  ,  116.  ],\n",
       "        [ 104.  ,  108.  ],\n",
       "        [  77.  ,   71.  ]]])"
      ]
     },
     "execution_count": 5,
     "metadata": {},
     "output_type": "execute_result"
    }
   ],
   "source": [
    "data"
   ]
  },
  {
   "cell_type": "code",
   "execution_count": 6,
   "metadata": {
    "collapsed": false
   },
   "outputs": [
    {
     "data": {
      "text/plain": [
       "(2, 3)"
      ]
     },
     "execution_count": 6,
     "metadata": {},
     "output_type": "execute_result"
    }
   ],
   "source": [
    "# The above will break if your ensembles have different number of rows\n",
    "# This can be fixed by iterating over arrays in stacks and resizing them\n",
    "# like this\n",
    "\n",
    "a = np.array([[0,1,2], [5,6,7]])\n",
    "a.shape"
   ]
  },
  {
   "cell_type": "code",
   "execution_count": 7,
   "metadata": {
    "collapsed": false
   },
   "outputs": [],
   "source": [
    "a.resize((3,3))"
   ]
  },
  {
   "cell_type": "code",
   "execution_count": 8,
   "metadata": {
    "collapsed": false
   },
   "outputs": [
    {
     "data": {
      "text/plain": [
       "array([[0, 1, 2],\n",
       "       [5, 6, 7],\n",
       "       [0, 0, 0]])"
      ]
     },
     "execution_count": 8,
     "metadata": {},
     "output_type": "execute_result"
    }
   ],
   "source": [
    "# New array is padded with zeroes.\n",
    "a"
   ]
  },
  {
   "cell_type": "code",
   "execution_count": null,
   "metadata": {
    "collapsed": true
   },
   "outputs": [],
   "source": []
  }
 ],
 "metadata": {
  "kernelspec": {
   "display_name": "Python 3",
   "language": "python",
   "name": "python3"
  },
  "language_info": {
   "codemirror_mode": {
    "name": "ipython",
    "version": 3
   },
   "file_extension": ".py",
   "mimetype": "text/x-python",
   "name": "python",
   "nbconvert_exporter": "python",
   "pygments_lexer": "ipython3",
   "version": "3.4.3+"
  }
 },
 "nbformat": 4,
 "nbformat_minor": 0
}
