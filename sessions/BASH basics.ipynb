{
 "cells": [
  {
   "cell_type": "markdown",
   "metadata": {
    "slideshow": {
     "slide_type": "slide"
    }
   },
   "source": [
    "## Command line basics"
   ]
  },
  {
   "cell_type": "markdown",
   "metadata": {
    "slideshow": {
     "slide_type": "slide"
    }
   },
   "source": [
    "###WHY?"
   ]
  },
  {
   "cell_type": "markdown",
   "metadata": {
    "slideshow": {
     "slide_type": "subslide"
    }
   },
   "source": [
    "- because when you work remotely on a server, that's all you have\n",
    "- because most of the bioinformatics programs are command-line driven\n",
    "- because when used properly it's so much faster than any GUI\n",
    "- because DRY (don't repeat yourself!)"
   ]
  },
  {
   "cell_type": "markdown",
   "metadata": {
    "slideshow": {
     "slide_type": "subslide"
    }
   },
   "source": [
    "### UNIX philosophy\n",
    "\n",
    "- write small programs that do _one_ thing and do it well\n",
    "- write programs to communicate with each other so that output of one program is the input for another\n",
    "- write programs to communicate in plain text (because it's the only universal interface)"
   ]
  },
  {
   "cell_type": "markdown",
   "metadata": {
    "slideshow": {
     "slide_type": "subslide"
    }
   },
   "source": [
    "# EVERYTHING is CaSE-SenSitivE"
   ]
  },
  {
   "cell_type": "markdown",
   "metadata": {
    "slideshow": {
     "slide_type": "slide"
    }
   },
   "source": [
    "## Common paradigm:\n",
    "\n",
    "`<verb> [modifiers] <subject>`\n",
    "\n",
    "for example:\n",
    "\n",
    "* `ls` - list directory (current by default)\n",
    "* `ls dir` - list directory `dir`\n",
    "* `ls -lah` - list directory `dir` with details, one item per line, including hidden files, and in human-readable format\n",
    "\n",
    "_Default_: a value for argument when no explicit argument is given (where it makes sense, like `ls`)\n",
    "\n",
    "Up arrow and down arrow scroll through command history.\n",
    "\n",
    "*Very important!*\n",
    "\n",
    "* `<Ctrl-R>` - reverse history search\n",
    "* `<Tab>` - completion: never have to type the whole thing\n",
    "* `<Alt-.>` - inserts last argument from the history"
   ]
  },
  {
   "cell_type": "markdown",
   "metadata": {
    "slideshow": {
     "slide_type": "subslide"
    }
   },
   "source": [
    "#### Aside:\n",
    "\n",
    "Why whitespace in file/directory name is a bad idea:\n",
    "- needs to be escaped with backslash _or_ the entire argument needs to be quoted\n",
    "- because stuff is whitespace (space, tab, etc) delimited in `bash`\n",
    "- sooner or later it will break your scripts in unexpected and wierd ways."
   ]
  },
  {
   "cell_type": "markdown",
   "metadata": {
    "slideshow": {
     "slide_type": "slide"
    }
   },
   "source": [
    "## Getting around"
   ]
  },
  {
   "cell_type": "markdown",
   "metadata": {
    "slideshow": {
     "slide_type": "subslide"
    }
   },
   "source": [
    "### HOW TO GET HELP:  `man <command>`"
   ]
  },
  {
   "cell_type": "markdown",
   "metadata": {
    "collapsed": true,
    "slideshow": {
     "slide_type": "subslide"
    }
   },
   "source": [
    "Path: `/<dir1>/<dir2>/<dir3>/foo.bar`\n",
    "for example: `/home/ilya/src`\n",
    "\n",
    "Absoute path:\n",
    "\n",
    "* starts with `/`, aka `root`. Location relative to filesystem `root`.\n",
    "\n",
    "Relative path:\n",
    "\n",
    "* doesn't start with `/`. Location relative to the curent directory."
   ]
  },
  {
   "cell_type": "markdown",
   "metadata": {
    "slideshow": {
     "slide_type": "subslide"
    }
   },
   "source": [
    "#### Aside\n",
    "\n",
    "UNIX filesystem is divided into to realms:\n",
    "* userland (everything under `/home`, each user has access to her own data)\n",
    "* system (everything else, only `admins` or `sudoer`s have access to)"
   ]
  },
  {
   "cell_type": "markdown",
   "metadata": {
    "slideshow": {
     "slide_type": "slide"
    }
   },
   "source": [
    "## Commands"
   ]
  },
  {
   "cell_type": "markdown",
   "metadata": {
    "slideshow": {
     "slide_type": "subslide"
    }
   },
   "source": [
    "* `pwd` - print working directory\n",
    "* `cd <dir>` - change directory\n",
    "* `mkdir [options] <dir>` - make new directory\n",
    "* `ls [options] [<dir>...]` - list directory\n",
    "\n",
    "Exercise:\n",
    "\n",
    "* find your Downloads (or Documents) directory\n",
    "* list the content of your Documents directory using different options\n",
    "* create a new directory (where is it created?)"
   ]
  },
  {
   "cell_type": "markdown",
   "metadata": {
    "slideshow": {
     "slide_type": "slide"
    }
   },
   "source": [
    "## Shortcuts"
   ]
  },
  {
   "cell_type": "markdown",
   "metadata": {
    "slideshow": {
     "slide_type": "subslide"
    }
   },
   "source": [
    "These are huge time savers. But they are nothing more than aliases.\n",
    "\n",
    "* `~` - current user's home directory (`/home/<user>/` or `/Users/<user>/` on Mac OS)\n",
    "* `.` - current directory\n",
    "* `..` - parent directory\n",
    "* `-` - last directory (although in most contexts it means `stdin`)"
   ]
  },
  {
   "cell_type": "markdown",
   "metadata": {
    "collapsed": true,
    "slideshow": {
     "slide_type": "subslide"
    }
   },
   "source": [
    "Other useful things:\n",
    "\n",
    "- `pushd <dir>` - pushes directory `<dir>` into stack\n",
    "- `popd` - pops the last pushed directory from the stack\n",
    "\n",
    "These two can be thought about as \"remember for later\" and \"recall the last remembered\" commands. "
   ]
  },
  {
   "cell_type": "markdown",
   "metadata": {
    "slideshow": {
     "slide_type": "subslide"
    }
   },
   "source": [
    "### Path and executables\n",
    "\n",
    "Files that have `x` bit set in their permission are executable. These can be executed by typing their name at the prompt:\n",
    "\n",
    "```\n",
    "    $ /home/vasyapupkin/myprog1\n",
    "    $ ./myprog1\n",
    "    $ /bin/myprog1\n",
    "```\n",
    "    \n",
    "or they can be executed by typing just their name at the prompt _if_ their location is listed in `PATH` variable:\n",
    "\n",
    "    $ echo $PATH\n",
    "    $ myprog1\n",
    "    \n",
    "if unsure, use `which` programm to find the executable (if it exists!):\n",
    "\n",
    "    $ which python"
   ]
  },
  {
   "cell_type": "markdown",
   "metadata": {
    "slideshow": {
     "slide_type": "slide"
    }
   },
   "source": [
    "## Lookin at things (well, files)"
   ]
  },
  {
   "cell_type": "markdown",
   "metadata": {
    "slideshow": {
     "slide_type": "subslide"
    }
   },
   "source": [
    "- `cat` will output its arguments to `stdout`\n",
    "- `less` will do the same but in a humane way (pagination, search, scrolling, etc)\n",
    "- `man` displays a help page for a given command\n",
    "- `head` outputs n first lines in a file\n",
    "- `tail` outputs n last lines in a file"
   ]
  },
  {
   "cell_type": "markdown",
   "metadata": {
    "slideshow": {
     "slide_type": "slide"
    }
   },
   "source": [
    "## Creating, copying and moving stuff"
   ]
  },
  {
   "cell_type": "markdown",
   "metadata": {
    "slideshow": {
     "slide_type": "subslide"
    }
   },
   "source": [
    "### Create\n",
    "\n",
    "Create a file (actually, change the file's timestamp):\n",
    "\n",
    "    touch <filename>\n",
    "    ><filename>"
   ]
  },
  {
   "cell_type": "markdown",
   "metadata": {
    "slideshow": {
     "slide_type": "fragment"
    }
   },
   "source": [
    "Create a directory:\n",
    "\n",
    "    mkdir <dirname>"
   ]
  },
  {
   "cell_type": "markdown",
   "metadata": {
    "slideshow": {
     "slide_type": "subslide"
    }
   },
   "source": [
    "usual path rules apply (see absolute vs relative paths). Fancy switch `-p`:\n",
    "\n",
    "    mkdir -p path/to/my/new/dir\n",
    "    mkdir -p path/to/{one,two,three}"
   ]
  },
  {
   "cell_type": "markdown",
   "metadata": {
    "slideshow": {
     "slide_type": "slide"
    }
   },
   "source": [
    "### Copy\n",
    "\n",
    "Copying stuff:\n",
    "\n",
    "    cp <source> <destination>"
   ]
  },
  {
   "cell_type": "markdown",
   "metadata": {
    "slideshow": {
     "slide_type": "fragment"
    }
   },
   "source": [
    "by default, `cp` only copies regular files and skips directories. To copy directories use `-r` (recursively) option:\n",
    "\n",
    "    cp -r <source_dir> <destination>"
   ]
  },
  {
   "cell_type": "markdown",
   "metadata": {
    "slideshow": {
     "slide_type": "fragment"
    }
   },
   "source": [
    "but watch for that trailing slash:\n",
    "\n",
    "    cp -r <source>/ <destination>\n",
    "    \n",
    "behaves differently. Why?"
   ]
  },
  {
   "cell_type": "markdown",
   "metadata": {
    "slideshow": {
     "slide_type": "fragment"
    }
   },
   "source": [
    "Globbing works as one would expect:\n",
    "\n",
    "    cp <source>/*.txt <destination>\n",
    "    \n",
    "will copy all files ending with .`txt` to `<destination>`"
   ]
  },
  {
   "cell_type": "markdown",
   "metadata": {
    "slideshow": {
     "slide_type": "slide"
    }
   },
   "source": [
    "### Move (aka rename)\n",
    "\n",
    "How to move stuff?\n",
    "\n",
    "    mv <source> <destination>"
   ]
  },
  {
   "cell_type": "markdown",
   "metadata": {
    "slideshow": {
     "slide_type": "subslide"
    }
   },
   "source": [
    "But what if we want to move a bunch of stuff?\n",
    "Sure this should work:\n",
    "\n",
    "    mv <source>/*.txt <destination>\n",
    "    \n",
    "but it doesn't. WTF?"
   ]
  },
  {
   "cell_type": "markdown",
   "metadata": {
    "slideshow": {
     "slide_type": "fragment"
    }
   },
   "source": [
    "Cheating way: install `rename` programm. \n",
    "Won't work if you don't have admin rights though.\n",
    "\n",
    "Proper way: loop\n",
    "\n",
    "    for f in *.txt; do mv $f <destintaion>; done"
   ]
  },
  {
   "cell_type": "markdown",
   "metadata": {
    "slideshow": {
     "slide_type": "fragment"
    }
   },
   "source": [
    "_HINT_: for a dry run replace `mv` with `echo`"
   ]
  },
  {
   "cell_type": "markdown",
   "metadata": {
    "slideshow": {
     "slide_type": "slide"
    }
   },
   "source": [
    "### Delete"
   ]
  },
  {
   "cell_type": "markdown",
   "metadata": {
    "slideshow": {
     "slide_type": "subslide"
    }
   },
   "source": [
    "_CAUTION:_ There is no `undelete`. If you delete a file, it's gone forever!\n",
    "\n",
    "Delete (remove) a file(s):\n",
    "\n",
    "    rm <file>\n",
    "    \n",
    "Delete a directory:\n",
    "\n",
    "    rm -r <directory>"
   ]
  },
  {
   "cell_type": "markdown",
   "metadata": {
    "slideshow": {
     "slide_type": "slide"
    }
   },
   "source": [
    "## Selecting what to show (filtering)"
   ]
  },
  {
   "cell_type": "markdown",
   "metadata": {
    "slideshow": {
     "slide_type": "subslide"
    }
   },
   "source": [
    "### Globbing (aka wildcards)\n",
    "\n",
    "- `?` matches one (any) character\n",
    "- `*` matches any number of any characters _except_ OS seprator (`/, .`)\n",
    "- `**` matches _any_ number of _any_ characters\n",
    "- `{pattern1,pattern2,...}` or `{start..end}` pattern expansion "
   ]
  },
  {
   "cell_type": "markdown",
   "metadata": {
    "slideshow": {
     "slide_type": "subslide"
    }
   },
   "source": [
    "### grep"
   ]
  },
  {
   "cell_type": "markdown",
   "metadata": {
    "slideshow": {
     "slide_type": "fragment"
    }
   },
   "source": [
    "`grep` stands for Global Regular ExPression. Regular expressions `regex` is an advanced and powerful way to match patterns.\n",
    "`grep` can be thought of as a very versatile and efficient filter that can be configured to pass through only results you want."
   ]
  },
  {
   "cell_type": "markdown",
   "metadata": {
    "slideshow": {
     "slide_type": "slide"
    }
   },
   "source": [
    "## Some plumbing: pipes, redirects and tee"
   ]
  },
  {
   "cell_type": "markdown",
   "metadata": {
    "slideshow": {
     "slide_type": "subslide"
    }
   },
   "source": [
    "* `|` (aka pipe) - sends the output of the left program to the input of right program\n",
    "* `tee` - same as `pipe` but at the same time saves the output of the left command into a file\n",
    "* `>` - redirects the output of the programm to a file (overwriting the file if it exists)\n",
    "* `>>` - same as `>` but _appends_ to the file if it exists"
   ]
  },
  {
   "cell_type": "markdown",
   "metadata": {
    "slideshow": {
     "slide_type": "slide"
    }
   },
   "source": [
    "## Practical things"
   ]
  },
  {
   "cell_type": "markdown",
   "metadata": {
    "slideshow": {
     "slide_type": "subslide"
    }
   },
   "source": [
    "### Downloading stuff from Internet\n",
    "\n",
    "`wget` - loads of options and protocols supported. Read manpages for all options.\n",
    "\n",
    "Let's use it to download E.coli `.gff` file from NCBI (http://www.ncbi.nlm.nih.gov/genome/167):\n",
    "\n",
    "    wget ftp://ftp.ncbi.nlm.nih.gov/genomes/all/GCF_000005845.2_ASM584v2/GCF_000005845.2_ASM584v2_genomic.gff.gz\n",
    "    \n",
    "and make sure it's where you expect it to be:\n",
    "\n",
    "    ls -lah *.gff.gz\n",
    "    \n",
    "and download some more stuff:\n",
    "\n",
    "    wget ngs.nudlerlab.info/master.zip\n",
    "    wget ngs.nudlerlab.info/BJ-HSR1.pe.fastq.gz\n",
    "    "
   ]
  },
  {
   "cell_type": "code",
   "execution_count": 2,
   "metadata": {
    "collapsed": false
   },
   "outputs": [
    {
     "name": "stdout",
     "output_type": "stream",
     "text": [
      "--2016-09-14 14:44:51--  ftp://ftp.ncbi.nlm.nih.gov/genomes/all/GCF_000005845.2_ASM584v2/GCF_000005845.2_ASM584v2_genomic.gff.gz\n",
      "           => ‘GCF_000005845.2_ASM584v2_genomic.gff.gz’\n",
      "Resolving ftp.ncbi.nlm.nih.gov (ftp.ncbi.nlm.nih.gov)... 130.14.250.11, 2607:f220:41e:250::10\n",
      "Connecting to ftp.ncbi.nlm.nih.gov (ftp.ncbi.nlm.nih.gov)|130.14.250.11|:21... connected.\n",
      "Logging in as anonymous ... Logged in!\n",
      "==> SYST ... done.    ==> PWD ... done.\n",
      "==> TYPE I ... done.  ==> CWD (1) /genomes/all/GCF_000005845.2_ASM584v2 ... done.\n",
      "==> SIZE GCF_000005845.2_ASM584v2_genomic.gff.gz ... 449791\n",
      "==> PASV ... done.    ==> RETR GCF_000005845.2_ASM584v2_genomic.gff.gz ... done.\n",
      "Length: 449791 (439K) (unauthoritative)\n",
      "\n",
      "GCF_000005845.2_ASM 100%[===================>] 439.25K  2.64MB/s    in 0.2s    \n",
      "\n",
      "2016-09-14 14:45:23 (2.64 MB/s) - ‘GCF_000005845.2_ASM584v2_genomic.gff.gz’ saved [449791]\n",
      "\n"
     ]
    }
   ],
   "source": [
    "wget ftp://ftp.ncbi.nlm.nih.gov/genomes/all/GCF_000005845.2_ASM584v2/GCF_000005845.2_ASM584v2_genomic.gff.gz"
   ]
  },
  {
   "cell_type": "code",
   "execution_count": 4,
   "metadata": {
    "collapsed": false
   },
   "outputs": [
    {
     "name": "stdout",
     "output_type": "stream",
     "text": [
      "-rw-rw-r-- 1 ilya ilya 440K Sep 14 14:45 GCF_000005845.2_ASM584v2_genomic.\u001b[01;31m\u001b[Kgff\u001b[m\u001b[K.gz\n"
     ]
    }
   ],
   "source": [
    "mv GCF_000005845.2_ASM584v2_genomic.gff.gz ../data\n",
    "ls -lah ../data | grep gff"
   ]
  },
  {
   "cell_type": "code",
   "execution_count": 5,
   "metadata": {
    "collapsed": false
   },
   "outputs": [
    {
     "name": "stdout",
     "output_type": "stream",
     "text": [
      "##gff-version 3\n",
      "#!gff-spec-version 1.21\n",
      "#!processor NCBI annotwriter\n",
      "#!genome-build ASM584v2\n",
      "#!genome-build-accession NCBI_Assembly:GCF_000005845.2\n",
      "##sequence-region NC_000913.3 1 4641652\n",
      "##species https://www.ncbi.nlm.nih.gov/Taxonomy/Browser/wwwtax.cgi?id=511145\n",
      "NC_000913.3\tRefSeq\tregion\t1\t4641652\t.\t+\t.\tID=id0;Dbxref=taxon:511145;Is_circular=true;Name=ANONYMOUS;gbkey=Src;genome=chromosome;mol_type=genomic DNA;strain=K-12;substrain=MG1655\n",
      "NC_000913.3\tRefSeq\tgene\t190\t255\t.\t+\t.\tID=gene0;Dbxref=EcoGene:EG11277,GeneID:944742;Name=thrL;gbkey=Gene;gene=thrL;gene_biotype=protein_coding;gene_synonym=ECK0001,JW4367;locus_tag=b0001\n",
      "NC_000913.3\tRefSeq\tCDS\t190\t255\t.\t+\t0\tID=cds0;Parent=gene0;Dbxref=ASAP:ABE-0000006,UniProtKB/Swiss-Prot:P0AD86,Genbank:NP_414542.1,EcoGene:EG11277,GeneID:944742;Name=NP_414542.1;gbkey=CDS;gene=thrL;product=thr operon leader peptide;protein_id=NP_414542.1;transl_table=11\n",
      "\n",
      "gzip: stdout: Broken pipe\n"
     ]
    }
   ],
   "source": [
    "zcat ../data/GCF_000005845.2_ASM584v2_genomic.gff.gz | head"
   ]
  },
  {
   "cell_type": "markdown",
   "metadata": {
    "slideshow": {
     "slide_type": "subslide"
    }
   },
   "source": [
    "### Working with compressed files\n",
    "\n",
    "Most NGS data formats are text based and, therefore, are highly compressable. For instance, gzipped `.fastq` file can take 10-20% of the original space.\n",
    "\n",
    "* `gzip` - compresses the file\n",
    "* `gunzip` - uncompresses the file\n",
    "\n",
    "By default both `gzip` and `gunzip` delete the original. To keep original file use `zcat` or `-c` flag for `gzip/gunzip`"
   ]
  },
  {
   "cell_type": "markdown",
   "metadata": {
    "slideshow": {
     "slide_type": "fragment"
    }
   },
   "source": [
    "It's a perfect usecase for `pipes`, so let's dig right in. Let's have a look what's inside the `.gff` file we've just downloaded:\n",
    "\n",
    "    zcat GCF_000005845.2_ASM584v2_genomic.gff.gz | less"
   ]
  },
  {
   "cell_type": "markdown",
   "metadata": {
    "slideshow": {
     "slide_type": "fragment"
    }
   },
   "source": [
    "How can we modify the above to show only beginning of the file? End of the file?"
   ]
  },
  {
   "cell_type": "markdown",
   "metadata": {
    "slideshow": {
     "slide_type": "fragment"
    }
   },
   "source": [
    "`tar` is for working with compressed directories"
   ]
  },
  {
   "cell_type": "markdown",
   "metadata": {
    "slideshow": {
     "slide_type": "subslide"
    }
   },
   "source": [
    "### Soma random useful things (text processing)\n",
    "\n",
    "`sort` - self explanatory. Sorts the input in variety of ways. Really useful when chaining several programs using `pipes`.\n",
    "\n",
    "`uniq` - outputs unique items from the input stream. Can count occurences of each item. Again, really shines when used with other programs.\n",
    "\n",
    "`tr` - translates or deletes characters from the input stream. Doesn't sound like much but is a real time-saver when building pipelines and workflows.\n",
    "\n",
    "`wc` - word count. Self-explanatory and you get the idea, useful to compose \"compound\" commands from simple programs.\n",
    "\n",
    "Again, to get the full list of available options use `man <program>` command."
   ]
  },
  {
   "cell_type": "markdown",
   "metadata": {
    "slideshow": {
     "slide_type": "slide"
    }
   },
   "source": [
    "## Putting it all together"
   ]
  },
  {
   "cell_type": "markdown",
   "metadata": {
    "slideshow": {
     "slide_type": "subslide"
    }
   },
   "source": [
    "Coming back to `.gff` file. Let's see how we can build a nice little summary of E.coli genomic features (genes, CDS, and so on).\n",
    "\n",
    "For starters:\n",
    "\n",
    "    zcat GCF_000005845.2_ASM584v2_genomic.gff.gz | less"
   ]
  },
  {
   "cell_type": "markdown",
   "metadata": {
    "slideshow": {
     "slide_type": "fragment"
    }
   },
   "source": [
    "good, but what's up with all those lines starting with `#`? Those are comments and we want to get rid of them.\n",
    "\n",
    "`grep` to the rescue:\n",
    "\n",
    "    zcat GCF_000005845.2_ASM584v2_genomic.gff.gz | grep -v ^# | less\n"
   ]
  },
  {
   "cell_type": "markdown",
   "metadata": {
    "slideshow": {
     "slide_type": "fragment"
    }
   },
   "source": [
    "Better! So we are left with tab-delimited file (a relative of `.csv` really). Now we see we're interested in the 3rd column. Let's split the line on tabs and take the third field:\n",
    "\n",
    "    zcat GCF_000005845.2_ASM584v2_genomic.gff.gz | grep -v ^# | cut -f 3 | less\n"
   ]
  },
  {
   "cell_type": "markdown",
   "metadata": {
    "slideshow": {
     "slide_type": "fragment"
    }
   },
   "source": [
    "Ugly! But what if we sort the values and count unique items?\n",
    "\n",
    "    zcat GCF_000005845.2_ASM584v2_genomic.gff.gz | grep -v ^# | cut -f 3 | sort | uniq -c\n",
    "    \n",
    "And there you have it!"
   ]
  },
  {
   "cell_type": "markdown",
   "metadata": {
    "slideshow": {
     "slide_type": "slide"
    }
   },
   "source": [
    "## Permissions"
   ]
  },
  {
   "cell_type": "markdown",
   "metadata": {
    "slideshow": {
     "slide_type": "subslide"
    }
   },
   "source": [
    "In UNIX, access to files is controlled via `permissions`.\n",
    "\n",
    "There are three levels of permissions:\n",
    "\n",
    "- `u` user\n",
    "- `g` group\n",
    "- `o` others"
   ]
  },
  {
   "cell_type": "markdown",
   "metadata": {
    "slideshow": {
     "slide_type": "subslide"
    }
   },
   "source": [
    "Permissions:\n",
    "\n",
    "- `r` read permission\n",
    "- `w` write permission (also create or delete)\n",
    "- `x` eXecute permission (directories must have `x` permission set in order to be able to `cd` into them!!!)\n",
    "\n",
    "`ls -l` command will output lines starting with the `permissions` part.\n"
   ]
  },
  {
   "cell_type": "markdown",
   "metadata": {
    "slideshow": {
     "slide_type": "subslide"
    }
   },
   "source": [
    "By default, only file's owner (and `root`) has access to it.\n",
    "\n",
    "Relevant commands:\n",
    "\n",
    "- `chown` - change the owner (must have permission to do so!)\n",
    "- `chgrp` - change file's group\n",
    "- `chmod` - change permission(s)"
   ]
  },
  {
   "cell_type": "markdown",
   "metadata": {},
   "source": [
    "### Optional: editing files (`nano` and `vim`), symbolic links, processes."
   ]
  }
 ],
 "metadata": {
  "celltoolbar": "Slideshow",
  "kernelspec": {
   "display_name": "Bash",
   "language": "bash",
   "name": "bash"
  },
  "language_info": {
   "codemirror_mode": "shell",
   "file_extension": ".sh",
   "mimetype": "text/x-sh",
   "name": "bash"
  },
  "widgets": {
   "state": {},
   "version": "1.1.1"
  }
 },
 "nbformat": 4,
 "nbformat_minor": 0
}
