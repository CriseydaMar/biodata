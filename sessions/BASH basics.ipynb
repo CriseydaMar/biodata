{
 "cells": [
  {
   "cell_type": "markdown",
   "metadata": {},
   "source": [
    "## Command line basics"
   ]
  },
  {
   "cell_type": "markdown",
   "metadata": {},
   "source": [
    "###WHY?"
   ]
  },
  {
   "cell_type": "markdown",
   "metadata": {},
   "source": [
    "- because when you work remotely on a server, that's all you have\n",
    "- because most of the bioinformatics programs are command-line driven\n",
    "- because when used properly it's so much faster than any GUI\n",
    "- because DRY (don't repeat yourself!)"
   ]
  },
  {
   "cell_type": "markdown",
   "metadata": {},
   "source": [
    "### UNIX philosophy\n",
    "\n",
    "- write small programs that do _one_ thing and do it well\n",
    "- write programs to communicate with each other so that output of one program is the input for another\n",
    "- write programs to communicate in plain text (because it's the only universal interface)"
   ]
  },
  {
   "cell_type": "markdown",
   "metadata": {},
   "source": [
    "# EVERYTHING is CaSE-SenSitivE"
   ]
  },
  {
   "cell_type": "markdown",
   "metadata": {},
   "source": [
    "Common paradigm:\n",
    "\n",
    "`<verb> [modifiers] <subject>`\n",
    "\n",
    "for example:\n",
    "\n",
    "* `ls` - list directory (current by default)\n",
    "* `ls dir` - list directory `dir`\n",
    "* `ls -lah` - list directory `dir` with details, one item per line, including hidden files, and in human-readable format\n",
    "\n",
    "_Default_: a value for argument when no explicit argument is given (where it makes sense, like `ls`)\n",
    "\n",
    "Up arrow and down arrow scroll through command history.\n",
    "\n",
    "*Very important!*\n",
    "\n",
    "* `<Ctrl-R>` - reverse history search\n",
    "* `<Tab>` - completion: never have to type the whole thing\n",
    "* `<Alt-.>` - inserts last argument from the history"
   ]
  },
  {
   "cell_type": "markdown",
   "metadata": {},
   "source": [
    "#### Aside:\n",
    "\n",
    "Why whitespace in file/directory name is a bad idea:\n",
    "- needs to be escaped with backslash _or_ the entire argument needs to be quoted\n",
    "- because stuff is whitespace (space, tab, etc) delimited in `bash`\n",
    "- sooner or later it will break your scripts in unexpected and wierd ways."
   ]
  },
  {
   "cell_type": "markdown",
   "metadata": {},
   "source": [
    "## Getting around"
   ]
  },
  {
   "cell_type": "markdown",
   "metadata": {},
   "source": [
    "### HOW TO GET HELP: `man <command>`"
   ]
  },
  {
   "cell_type": "markdown",
   "metadata": {
    "collapsed": true
   },
   "source": [
    "Path: `/<dir1>/<dir2>/<dir3>/foo.bar`\n",
    "for example: `/home/ilya/src`\n",
    "\n",
    "Absoute path:\n",
    "\n",
    "* starts with `/`, aka `root`. Location relative to filesystem `root`.\n",
    "\n",
    "Relative path:\n",
    "\n",
    "* doesn't start with `/`. Location relative to the curent directory."
   ]
  },
  {
   "cell_type": "markdown",
   "metadata": {},
   "source": [
    "#### Aside"
   ]
  },
  {
   "cell_type": "markdown",
   "metadata": {},
   "source": [
    "UNIX filesystem is divided into to realms:\n",
    "* userland (everything under `/home`, each user has access to her own data)\n",
    "* system (everything else, only `admins` or `sudoer`s have access to)"
   ]
  },
  {
   "cell_type": "markdown",
   "metadata": {},
   "source": [
    "### Commands"
   ]
  },
  {
   "cell_type": "markdown",
   "metadata": {},
   "source": [
    "* `pwd` - print working directory\n",
    "* `cd <dir>` - change directory\n",
    "* `mkdir [options] <dir>` - make new directory\n",
    "* `ls [options] [<dir>...]` - list directory\n",
    "\n",
    "Exercise:\n",
    "\n",
    "* find your Downloads (or Documents) directory\n",
    "* list the content of your Documents directory using different options\n",
    "* create a new directory (where is it created?)"
   ]
  },
  {
   "cell_type": "markdown",
   "metadata": {},
   "source": [
    "### Shortcuts"
   ]
  },
  {
   "cell_type": "markdown",
   "metadata": {},
   "source": [
    "These are huge time savers. But they are nothing more than aliases.\n",
    "\n",
    "* `~` - current user's home directory (`/home/<user>/` or `/Users/<user>/` on Mac OS)\n",
    "* `.` - current directory\n",
    "* `..` - parent directory\n",
    "* `-` - last directory (although in most contexts it means `stdin`)"
   ]
  },
  {
   "cell_type": "markdown",
   "metadata": {
    "collapsed": true
   },
   "source": [
    "Other useful things:\n",
    "\n",
    "- `pushd <dir>` - pushes directory `<dir>` into stack\n",
    "- `popd` - pops the last pushed directory from the stack\n",
    "\n",
    "These two can be thought about as \"remember for later\" and \"recall the last remembered\" commands. "
   ]
  },
  {
   "cell_type": "markdown",
   "metadata": {},
   "source": [
    "### Path and executables"
   ]
  },
  {
   "cell_type": "markdown",
   "metadata": {},
   "source": [
    "Files that have `x` bit set in their permission are executable. These can be executed by typing their name at the prompt:\n",
    "\n",
    "```\n",
    "    $ /home/vasyapupkin/myprog1\n",
    "    $ ./myprog1\n",
    "    $ /bin/myprog1\n",
    "```\n",
    "    \n",
    "or they can be executed by typing just their name at the prompt _if_ their location is listed in `PATH` variable:\n",
    "\n",
    "    $ echo $PATH\n",
    "    $ myprog1\n",
    "    \n",
    "if unsure, use `which` programm to find the executable (if it exists!):\n",
    "\n",
    "    $ which python"
   ]
  },
  {
   "cell_type": "markdown",
   "metadata": {},
   "source": [
    "## Lookin at things (well, files)"
   ]
  },
  {
   "cell_type": "markdown",
   "metadata": {},
   "source": [
    "- `cat` will output its arguments to `stdout`\n",
    "- `less` will do the same but in a humane way (pagination, search, scrolling, etc)\n",
    "- `man` displays a help page for a given command\n",
    "- `head` outputs n first lines in a file\n",
    "- `tail` outputs n last lines in a file"
   ]
  },
  {
   "cell_type": "markdown",
   "metadata": {},
   "source": [
    "## Creating, copying and moving stuff"
   ]
  },
  {
   "cell_type": "markdown",
   "metadata": {},
   "source": [
    "### Create"
   ]
  },
  {
   "cell_type": "markdown",
   "metadata": {},
   "source": [
    "Create a file (actually, change the file's timestamp):\n",
    "\n",
    "    touch <filename>\n",
    "    ><filename>"
   ]
  },
  {
   "cell_type": "markdown",
   "metadata": {},
   "source": [
    "Create a directory:\n",
    "\n",
    "    mkdir <dirname>"
   ]
  },
  {
   "cell_type": "markdown",
   "metadata": {},
   "source": [
    "usual path rules apply (see absolute vs relative paths). Fancy switch `-p`:\n",
    "\n",
    "    mkdir -p path/to/my/new/dir\n",
    "    mkdir -p path/to/{one,two,three}"
   ]
  },
  {
   "cell_type": "markdown",
   "metadata": {},
   "source": [
    "### Copy"
   ]
  },
  {
   "cell_type": "markdown",
   "metadata": {},
   "source": [
    "Copying stuff:\n",
    "\n",
    "    cp <source> <destination>"
   ]
  },
  {
   "cell_type": "markdown",
   "metadata": {},
   "source": [
    "by default, `cp` only copies regular files and skips directories. To copy directories use `-r` (recursively) option:\n",
    "\n",
    "    cp -r <source_dir> <destination>"
   ]
  },
  {
   "cell_type": "markdown",
   "metadata": {},
   "source": [
    "but watch for that trailing slash:\n",
    "\n",
    "    cp -r <source>/ <destination>\n",
    "    \n",
    "behaves differently. Why?"
   ]
  },
  {
   "cell_type": "markdown",
   "metadata": {},
   "source": [
    "Globbing works as one would expect:\n",
    "\n",
    "    cp <source>/*.txt <destination>\n",
    "    \n",
    "will copy all files ending with .`txt` to `<destination>`"
   ]
  },
  {
   "cell_type": "markdown",
   "metadata": {},
   "source": [
    "### Move (aka rename)"
   ]
  },
  {
   "cell_type": "markdown",
   "metadata": {},
   "source": [
    "How to move stuff?\n",
    "\n",
    "    mv <source> <destination>"
   ]
  },
  {
   "cell_type": "markdown",
   "metadata": {},
   "source": [
    "But what if we want to move a bunch of stuff?\n",
    "Sure this should work:\n",
    "\n",
    "    mv <source>/*.txt <destination>\n",
    "    \n",
    "but it doesn't. WTF?"
   ]
  },
  {
   "cell_type": "markdown",
   "metadata": {},
   "source": [
    "Cheating way: install `rename` programm. \n",
    "Won't work if you don't have admin rights though.\n",
    "\n",
    "Proper way: loop\n",
    "\n",
    "    for f in *.txt; do mv $f <destintaion>; done"
   ]
  },
  {
   "cell_type": "markdown",
   "metadata": {},
   "source": [
    "_HINT_: for a dry run replace `mv` with `echo`"
   ]
  },
  {
   "cell_type": "markdown",
   "metadata": {},
   "source": [
    "### Delete"
   ]
  },
  {
   "cell_type": "markdown",
   "metadata": {},
   "source": [
    "_CAUTION:_ There is no `undelete`. If you delete a file, it's gone forever!\n",
    "\n",
    "Delete (remove) a file(s):\n",
    "\n",
    "    rm <file>\n",
    "    \n",
    "Delete a directory:\n",
    "\n",
    "    rm -r <directory>"
   ]
  },
  {
   "cell_type": "markdown",
   "metadata": {},
   "source": [
    "## Selecting what to show (filtering)"
   ]
  },
  {
   "cell_type": "markdown",
   "metadata": {},
   "source": [
    "### Globbing (aka wildcards)"
   ]
  },
  {
   "cell_type": "markdown",
   "metadata": {},
   "source": [
    "- `?` matches one (any) character\n",
    "- `*` matches any number of any characters _except_ OS seprator (`/, .`)\n",
    "- `**` matches _any_ number of _any_ characters\n",
    "- `{pattern1,pattern2,...}` or `{start..end}` pattern expansion "
   ]
  },
  {
   "cell_type": "markdown",
   "metadata": {},
   "source": [
    "### grep"
   ]
  },
  {
   "cell_type": "markdown",
   "metadata": {},
   "source": [
    "`grep` stands for Global Regular ExPression. Regular expressions `regex` is an advanced and powerful way to match patterns.\n",
    "`grep` can be thought of as a very versatile and efficient filter that can be configured to pass through only results you want."
   ]
  },
  {
   "cell_type": "markdown",
   "metadata": {},
   "source": [
    "## Some plumbing: pipes, redirects and tee"
   ]
  },
  {
   "cell_type": "markdown",
   "metadata": {},
   "source": [
    "* `|` (aka pipe) - sends the output of the left program to the input of right program\n",
    "* `tee` - same as `pipe` but at the same time saves the output of the left command into a file\n",
    "* `>` - redirects the output of the programm to a file (overwriting the file if it exists)\n",
    "* `>>` - same as `>` but _appends_ to the file if it exists"
   ]
  },
  {
   "cell_type": "markdown",
   "metadata": {},
   "source": [
    "## Text processing and analysis"
   ]
  },
  {
   "cell_type": "markdown",
   "metadata": {},
   "source": [
    "## Practical things"
   ]
  },
  {
   "cell_type": "markdown",
   "metadata": {},
   "source": [
    "### Downloading stuff from Internet"
   ]
  },
  {
   "cell_type": "markdown",
   "metadata": {},
   "source": [
    "`wget` - loads of options and protocols supported. Read manpages for all options.\n",
    "\n",
    "Let's use it to download E.coli `.gff` file from NCBI (http://www.ncbi.nlm.nih.gov/genome/167):\n",
    "\n",
    "    wget ftp://ftp.ncbi.nlm.nih.gov/genomes/all/GCF_000005845.2_ASM584v2/GCF_000005845.2_ASM584v2_genomic.gff.gz\n",
    "    \n",
    "and make sure it's where you expect it to be:\n",
    "\n",
    "    ls -lah *.gff.gz"
   ]
  },
  {
   "cell_type": "markdown",
   "metadata": {},
   "source": [
    "### Working with compressed files"
   ]
  },
  {
   "cell_type": "markdown",
   "metadata": {},
   "source": [
    "Most NGS data formats are text based and, therefore, are highly compressable. For instance, gzipped `.fastq` file can take 10-20% of the original space.\n",
    "\n",
    "* `gzip` - compresses the file\n",
    "* `gunzip` - uncompresses the file\n",
    "\n",
    "By default both `gzip` and `gunzip` delete the original. To keep original file use `zcat` or `-c` flag for `gzip/gunzip`"
   ]
  },
  {
   "cell_type": "markdown",
   "metadata": {},
   "source": [
    "It's a perfect usecase for `pipes`, so let's dig right in. Let's have a look what's inside the `.gff` file we've just downloaded:\n",
    "\n",
    "    zcat GCF_000005845.2_ASM584v2_genomic.gff.gz | less"
   ]
  },
  {
   "cell_type": "markdown",
   "metadata": {},
   "source": [
    "How can we modify the above to show only beginning of the file? End of the file?"
   ]
  },
  {
   "cell_type": "markdown",
   "metadata": {},
   "source": [
    "### Workin with compressed directories"
   ]
  },
  {
   "cell_type": "markdown",
   "metadata": {},
   "source": [
    "`tar` is all you'll ever need"
   ]
  },
  {
   "cell_type": "markdown",
   "metadata": {},
   "source": [
    "### Soma random useful things"
   ]
  },
  {
   "cell_type": "markdown",
   "metadata": {},
   "source": [
    "`sort` - self explanatory. Sorts the input in variety of ways. Really useful when chaining several programs using `pipes`.\n",
    "\n",
    "`uniq` - outputs unique items from the input stream. Can count occurences of each item. Again, really shines when used with other programs.\n",
    "\n",
    "`tr` - translates or deletes characters from the input stream. Doesn't sound like much but is a real time-saver when building pipelines and workflows.\n",
    "\n",
    "`wc` - word count. Self-explanatory and you get the idea, useful to compose \"compound\" commands from simple programs.\n",
    "\n",
    "Again, to get the full list of available options use `man <program>` command."
   ]
  },
  {
   "cell_type": "markdown",
   "metadata": {},
   "source": [
    "## Putting it all together"
   ]
  },
  {
   "cell_type": "markdown",
   "metadata": {},
   "source": [
    "Coming back to `.gff` file. Let's see how we can build a nice little summary of E.coli genomic features (genes, CDS, and so on).\n",
    "\n",
    "For starters:\n",
    "\n",
    "    zcat GCF_000005845.2_ASM584v2_genomic.gff.gz | less\n",
    "    \n",
    "good, but what's up with all those lines starting with `#`? Those are comments and we want to get rid of them.\n",
    "\n",
    "`grep` to the rescue:\n",
    "\n",
    "    zcat GCF_000005845.2_ASM584v2_genomic.gff.gz | grep -v ^# | less\n",
    "    \n",
    "Better! So we are left with tab-delimited file (a relative of `.csv` really). Now we see we're interested in the 3rd column. Let's split the line on tabs and take the third field:\n",
    "\n",
    "    zcat GCF_000005845.2_ASM584v2_genomic.gff.gz | grep -v ^# | cut -f 3 | less\n",
    "    \n",
    "Ugly! But what if we sort the values and count unique items?\n",
    "\n",
    "    zcat GCF_000005845.2_ASM584v2_genomic.gff.gz | grep -v ^# | cut -f 3 | sort | uniq -c\n",
    "    \n",
    "And there you have it!"
   ]
  },
  {
   "cell_type": "markdown",
   "metadata": {},
   "source": [
    "## Permissions"
   ]
  },
  {
   "cell_type": "markdown",
   "metadata": {},
   "source": [
    "In UNIX, access to files is controlled via `permissions`.\n",
    "\n",
    "There are three levels of permissions:\n",
    "\n",
    "- `u` user\n",
    "- `g` group\n",
    "- `o` others\n",
    "\n",
    "Permissions:\n",
    "\n",
    "- `r` read permission\n",
    "- `w` write permission (also create or delete)\n",
    "- `x` eXecute permission (directories must have `x` permission set in order to be able to `cd` into them!!!)\n",
    "\n",
    "`ls -l` command will output lines starting with the `permissions` part.\n",
    "\n",
    "By default, only file's owner (and `root`) has access to it.\n",
    "\n",
    "Relevant commands:\n",
    "\n",
    "- `chown` - change the owner (must have permission to do so!)\n",
    "- `chgrp` - change file's group\n",
    "- `chmod` - change permission(s)"
   ]
  },
  {
   "cell_type": "markdown",
   "metadata": {},
   "source": [
    "### Optional: editing files (`nano` and `vim`), symbolic links, processes."
   ]
  },
  {
   "cell_type": "code",
   "execution_count": null,
   "metadata": {
    "collapsed": true
   },
   "outputs": [],
   "source": []
  }
 ],
 "metadata": {
  "kernelspec": {
   "display_name": "Bash",
   "language": "bash",
   "name": "bash"
  },
  "language_info": {
   "codemirror_mode": "shell",
   "file_extension": ".sh",
   "mimetype": "text/x-sh",
   "name": "bash"
  }
 },
 "nbformat": 4,
 "nbformat_minor": 0
}
