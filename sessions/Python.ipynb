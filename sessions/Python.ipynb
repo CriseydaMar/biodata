{
 "cells": [
  {
   "cell_type": "markdown",
   "metadata": {},
   "source": [
    "# Python"
   ]
  },
  {
   "cell_type": "markdown",
   "metadata": {},
   "source": [
    "Dynamically typed language created by Guido van Rossum (BDFL) in mid-90.\n",
    "\n",
    "- code blocks are defined by INDENTATION\n",
    "- everything is an object\n",
    "- everything is a reference\n",
    "- first class functions\n",
    "- garbage collected\n",
    "- batteries included\n",
    "\n",
    "OBJECT:\n",
    "> A data structure that holds both data and actions that can be performed on these data\n",
    "\n",
    "REFERENCE:\n",
    "> A pointer to specific memory location that holds the actual value (object)\n",
    "\n",
    "FIRST-CLASS FUNCTIONS:\n",
    "> Functions (reusable blocks of code that compute something) can be manipulated as any other object\n",
    "\n",
    "BATTERIES:\n",
    "> Python's standard library (things that come with language) and docs _are_ tremendous resources\n",
    "\n",
    "To save later aggravation, set your editors to use 4 spaces indents and _NEVER EVER_ mix tabs and spaces."
   ]
  },
  {
   "cell_type": "code",
   "execution_count": 1,
   "metadata": {
    "collapsed": false
   },
   "outputs": [
    {
     "name": "stdout",
     "output_type": "stream",
     "text": [
      "The Zen of Python, by Tim Peters\n",
      "\n",
      "Beautiful is better than ugly.\n",
      "Explicit is better than implicit.\n",
      "Simple is better than complex.\n",
      "Complex is better than complicated.\n",
      "Flat is better than nested.\n",
      "Sparse is better than dense.\n",
      "Readability counts.\n",
      "Special cases aren't special enough to break the rules.\n",
      "Although practicality beats purity.\n",
      "Errors should never pass silently.\n",
      "Unless explicitly silenced.\n",
      "In the face of ambiguity, refuse the temptation to guess.\n",
      "There should be one-- and preferably only one --obvious way to do it.\n",
      "Although that way may not be obvious at first unless you're Dutch.\n",
      "Now is better than never.\n",
      "Although never is often better than *right* now.\n",
      "If the implementation is hard to explain, it's a bad idea.\n",
      "If the implementation is easy to explain, it may be a good idea.\n",
      "Namespaces are one honking great idea -- let's do more of those!\n"
     ]
    }
   ],
   "source": [
    "import this"
   ]
  },
  {
   "cell_type": "markdown",
   "metadata": {},
   "source": [
    "### The takehome message\n",
    "\n",
    "Python was _designed_ to be concise, high-level multi-paradigm language. You can write Java or C++ like code in python but it'll look ugly. There is a _pythonic_ way of doing things. Often it _is_ the best way, but not always.\n",
    "\n",
    "The tradeoffs:\n",
    "\n",
    "- speed\n",
    "- lack of easy(true) concurrency"
   ]
  },
  {
   "cell_type": "markdown",
   "metadata": {},
   "source": [
    "##Code is written once but read many times"
   ]
  },
  {
   "cell_type": "markdown",
   "metadata": {},
   "source": [
    "###You're collaborating with yourself in the future"
   ]
  },
  {
   "cell_type": "markdown",
   "metadata": {},
   "source": [
    ">**Always code as if the guy who ends up maintaining your code will be a violent psychopath who knows where you live.**\n",
    "\n",
    "_John F Woods_"
   ]
  },
  {
   "cell_type": "markdown",
   "metadata": {},
   "source": [
    "## Let's dive right in"
   ]
  },
  {
   "cell_type": "markdown",
   "metadata": {},
   "source": [
    "Python is interpreted language. When you launch it you find yourself in a python shell which operates the same way as `bash`."
   ]
  },
  {
   "cell_type": "markdown",
   "metadata": {},
   "source": [
    "## Types"
   ]
  },
  {
   "cell_type": "markdown",
   "metadata": {},
   "source": [
    "### Numerical types"
   ]
  },
  {
   "cell_type": "markdown",
   "metadata": {},
   "source": [
    "###`int` - integer"
   ]
  },
  {
   "cell_type": "code",
   "execution_count": 2,
   "metadata": {
    "collapsed": false
   },
   "outputs": [
    {
     "data": {
      "text/plain": [
       "1"
      ]
     },
     "execution_count": 2,
     "metadata": {},
     "output_type": "execute_result"
    }
   ],
   "source": [
    "a = 1\n",
    "a"
   ]
  },
  {
   "cell_type": "markdown",
   "metadata": {},
   "source": [
    "###Integer division gotcha (python 2 specific)"
   ]
  },
  {
   "cell_type": "code",
   "execution_count": 1,
   "metadata": {
    "collapsed": true
   },
   "outputs": [],
   "source": [
    "from __future__ import division, print_function"
   ]
  },
  {
   "cell_type": "code",
   "execution_count": 10,
   "metadata": {
    "collapsed": false
   },
   "outputs": [
    {
     "data": {
      "text/plain": [
       "0.5"
      ]
     },
     "execution_count": 10,
     "metadata": {},
     "output_type": "execute_result"
    }
   ],
   "source": [
    "b = 2\n",
    "\n",
    "a / b"
   ]
  },
  {
   "cell_type": "code",
   "execution_count": 4,
   "metadata": {
    "collapsed": false
   },
   "outputs": [
    {
     "data": {
      "text/plain": [
       "0.5"
      ]
     },
     "execution_count": 4,
     "metadata": {},
     "output_type": "execute_result"
    }
   ],
   "source": [
    "a / float(b)"
   ]
  },
  {
   "cell_type": "code",
   "execution_count": 5,
   "metadata": {
    "collapsed": false
   },
   "outputs": [
    {
     "data": {
      "text/plain": [
       "0.5"
      ]
     },
     "execution_count": 5,
     "metadata": {},
     "output_type": "execute_result"
    }
   ],
   "source": [
    "float(a) / b"
   ]
  },
  {
   "cell_type": "markdown",
   "metadata": {},
   "source": [
    "###`float` - floating point (real) number\n",
    "\n",
    "In Python this means 64-bit `float`:\n",
    "\n",
    "1-bit fraction + 11-bit exponent + 53-bit fraction"
   ]
  },
  {
   "cell_type": "code",
   "execution_count": 6,
   "metadata": {
    "collapsed": false
   },
   "outputs": [
    {
     "data": {
      "text/plain": [
       "1.23456001"
      ]
     },
     "execution_count": 6,
     "metadata": {},
     "output_type": "execute_result"
    }
   ],
   "source": [
    "# Float can be written in two ways\n",
    "f = 1.23456\n",
    "g = 1e-8\n",
    "f + g"
   ]
  },
  {
   "cell_type": "markdown",
   "metadata": {},
   "source": [
    "###`complex` - complex number"
   ]
  },
  {
   "cell_type": "code",
   "execution_count": 7,
   "metadata": {
    "collapsed": false
   },
   "outputs": [
    {
     "data": {
      "text/plain": [
       "(-1.092+3.98003j)"
      ]
     },
     "execution_count": 7,
     "metadata": {},
     "output_type": "execute_result"
    }
   ],
   "source": [
    "c = 1j # same as (0 + 1j)\n",
    "i = 1.092 - 2.98003j\n",
    "c - i"
   ]
  },
  {
   "cell_type": "markdown",
   "metadata": {},
   "source": [
    "### Sequence (iterable) types"
   ]
  },
  {
   "cell_type": "markdown",
   "metadata": {},
   "source": [
    "###`str` - string"
   ]
  },
  {
   "cell_type": "code",
   "execution_count": 2,
   "metadata": {
    "collapsed": false
   },
   "outputs": [
    {
     "data": {
      "text/plain": [
       "'I am a Python string. I can be \"manipulated\" in many ways.'"
      ]
     },
     "execution_count": 2,
     "metadata": {},
     "output_type": "execute_result"
    }
   ],
   "source": [
    "s = 'I am a Python string. I can be \"manipulated\" in many ways.'\n",
    "s"
   ]
  },
  {
   "cell_type": "code",
   "execution_count": 3,
   "metadata": {
    "collapsed": false
   },
   "outputs": [
    {
     "data": {
      "text/plain": [
       "'>RNA\\tAGUUCGAGGCUUAAACGGGCCUUAU'"
      ]
     },
     "execution_count": 3,
     "metadata": {},
     "output_type": "execute_result"
    }
   ],
   "source": [
    "seq = '>RNA\\tAGUUCGAGGCUUAAACGGGCCUUAU'\n",
    "seq"
   ]
  },
  {
   "cell_type": "code",
   "execution_count": 4,
   "metadata": {
    "collapsed": false
   },
   "outputs": [
    {
     "name": "stdout",
     "output_type": "stream",
     "text": [
      ">RNA\tAGUUCGAGGCUUAAACGGGCCUUAU\n"
     ]
    }
   ],
   "source": [
    "print(seq)"
   ]
  },
  {
   "cell_type": "code",
   "execution_count": 5,
   "metadata": {
    "collapsed": false
   },
   "outputs": [
    {
     "data": {
      "text/plain": [
       "30"
      ]
     },
     "execution_count": 5,
     "metadata": {},
     "output_type": "execute_result"
    }
   ],
   "source": [
    "len(seq)"
   ]
  },
  {
   "cell_type": "code",
   "execution_count": 6,
   "metadata": {
    "collapsed": false
   },
   "outputs": [
    {
     "name": "stdout",
     "output_type": "stream",
     "text": [
      "I\n",
      "a\n"
     ]
    }
   ],
   "source": [
    "print(s[0])\n",
    "print(s[5])"
   ]
  },
  {
   "cell_type": "code",
   "execution_count": 7,
   "metadata": {
    "collapsed": false
   },
   "outputs": [
    {
     "ename": "TypeError",
     "evalue": "'str' object does not support item assignment",
     "output_type": "error",
     "traceback": [
      "\u001b[1;31m---------------------------------------------------------------------------\u001b[0m",
      "\u001b[1;31mTypeError\u001b[0m                                 Traceback (most recent call last)",
      "\u001b[1;32m<ipython-input-7-2151f380161c>\u001b[0m in \u001b[0;36m<module>\u001b[1;34m()\u001b[0m\n\u001b[0;32m      1\u001b[0m \u001b[1;31m# Strings are immutable!!!\u001b[0m\u001b[1;33m\u001b[0m\u001b[1;33m\u001b[0m\u001b[0m\n\u001b[1;32m----> 2\u001b[1;33m \u001b[0ms\u001b[0m\u001b[1;33m[\u001b[0m\u001b[1;36m3\u001b[0m\u001b[1;33m]\u001b[0m \u001b[1;33m=\u001b[0m \u001b[1;34m'n'\u001b[0m\u001b[1;33m\u001b[0m\u001b[0m\n\u001b[0m",
      "\u001b[1;31mTypeError\u001b[0m: 'str' object does not support item assignment"
     ]
    }
   ],
   "source": [
    "# Strings are immutable!!!\n",
    "s[3] = 'n'"
   ]
  },
  {
   "cell_type": "code",
   "execution_count": 8,
   "metadata": {
    "collapsed": false
   },
   "outputs": [
    {
     "name": "stdout",
     "output_type": "stream",
     "text": [
      "['__add__', '__class__', '__contains__', '__delattr__', '__doc__', '__eq__', '__format__', '__ge__', '__getattribute__', '__getitem__', '__getnewargs__', '__getslice__', '__gt__', '__hash__', '__init__', '__le__', '__len__', '__lt__', '__mod__', '__mul__', '__ne__', '__new__', '__reduce__', '__reduce_ex__', '__repr__', '__rmod__', '__rmul__', '__setattr__', '__sizeof__', '__str__', '__subclasshook__', '_formatter_field_name_split', '_formatter_parser', 'capitalize', 'center', 'count', 'decode', 'encode', 'endswith', 'expandtabs', 'find', 'format', 'index', 'isalnum', 'isalpha', 'isdigit', 'islower', 'isspace', 'istitle', 'isupper', 'join', 'ljust', 'lower', 'lstrip', 'partition', 'replace', 'rfind', 'rindex', 'rjust', 'rpartition', 'rsplit', 'rstrip', 'split', 'splitlines', 'startswith', 'strip', 'swapcase', 'title', 'translate', 'upper', 'zfill']\n"
     ]
    }
   ],
   "source": [
    "# Let's have a look inside:\n",
    "print(dir(s))"
   ]
  },
  {
   "cell_type": "code",
   "execution_count": 9,
   "metadata": {
    "collapsed": false
   },
   "outputs": [
    {
     "data": {
      "text/plain": [
       "['I',\n",
       " 'am',\n",
       " 'a',\n",
       " 'Python',\n",
       " 'string.',\n",
       " 'I',\n",
       " 'can',\n",
       " 'be',\n",
       " '\"manipulated\"',\n",
       " 'in',\n",
       " 'many',\n",
       " 'ways.']"
      ]
     },
     "execution_count": 9,
     "metadata": {},
     "output_type": "execute_result"
    }
   ],
   "source": [
    "s.split()"
   ]
  },
  {
   "cell_type": "code",
   "execution_count": 10,
   "metadata": {
    "collapsed": false
   },
   "outputs": [
    {
     "data": {
      "text/plain": [
       "['I am a Python string. I can be \"mani', 'ulated\" in many ways.']"
      ]
     },
     "execution_count": 10,
     "metadata": {},
     "output_type": "execute_result"
    }
   ],
   "source": [
    "s.split('p')"
   ]
  },
  {
   "cell_type": "code",
   "execution_count": 11,
   "metadata": {
    "collapsed": false
   },
   "outputs": [
    {
     "data": {
      "text/plain": [
       "'I AM A PYTHON STRING. I CAN BE \"MANIPULATED\" IN MANY WAYS.'"
      ]
     },
     "execution_count": 11,
     "metadata": {},
     "output_type": "execute_result"
    }
   ],
   "source": [
    "s.upper()"
   ]
  },
  {
   "cell_type": "code",
   "execution_count": 12,
   "metadata": {
    "collapsed": false
   },
   "outputs": [
    {
     "data": {
      "text/plain": [
       "['>RNA', 'AGUUCGAGGCUUAAACGGGCCUUAU']"
      ]
     },
     "execution_count": 12,
     "metadata": {},
     "output_type": "execute_result"
    }
   ],
   "source": [
    "seq.split()"
   ]
  },
  {
   "cell_type": "code",
   "execution_count": 13,
   "metadata": {
    "collapsed": false
   },
   "outputs": [
    {
     "data": {
      "text/plain": [
       "'>RNA\\tAGUUCGAGGCUUAAACGGGCCUUAU'"
      ]
     },
     "execution_count": 13,
     "metadata": {},
     "output_type": "execute_result"
    }
   ],
   "source": [
    "seq"
   ]
  },
  {
   "cell_type": "code",
   "execution_count": 14,
   "metadata": {
    "collapsed": false
   },
   "outputs": [
    {
     "name": "stdout",
     "output_type": "stream",
     "text": [
      "Name: >RNA\tSequence: AGUUCGAGGCUUAAACGGGCCUUAU\n"
     ]
    }
   ],
   "source": [
    "# Unpacking\n",
    "name, seq = seq.split()\n",
    "print('Name: {}\\tSequence: {}'.format(name,seq))"
   ]
  },
  {
   "cell_type": "code",
   "execution_count": 15,
   "metadata": {
    "collapsed": false
   },
   "outputs": [
    {
     "data": {
      "text/plain": [
       "' am  a really    stupid    long string'"
      ]
     },
     "execution_count": 15,
     "metadata": {},
     "output_type": "execute_result"
    }
   ],
   "source": [
    "s = '               i am  a really    stupid    long string   '.strip()\n",
    "s.strip('i')"
   ]
  },
  {
   "cell_type": "code",
   "execution_count": 16,
   "metadata": {
    "collapsed": false
   },
   "outputs": [
    {
     "name": "stdout",
     "output_type": "stream",
     "text": [
      "i am a really stupid long string\n"
     ]
    }
   ],
   "source": [
    "sl = s.split()\n",
    "print(' '.join(sl))"
   ]
  },
  {
   "cell_type": "markdown",
   "metadata": {},
   "source": [
    "###`list` - (ordered) collection of elements"
   ]
  },
  {
   "cell_type": "code",
   "execution_count": 17,
   "metadata": {
    "collapsed": false
   },
   "outputs": [
    {
     "data": {
      "text/plain": [
       "(['i', 'am', 'a', 'really', 'stupid', 'long', 'string'], 7)"
      ]
     },
     "execution_count": 17,
     "metadata": {},
     "output_type": "execute_result"
    }
   ],
   "source": [
    "sl, len(sl)"
   ]
  },
  {
   "cell_type": "code",
   "execution_count": 21,
   "metadata": {
    "collapsed": false
   },
   "outputs": [
    {
     "data": {
      "text/plain": [
       "['a', 'really', 'stupid', 'long', 'string']"
      ]
     },
     "execution_count": 21,
     "metadata": {},
     "output_type": "execute_result"
    }
   ],
   "source": [
    "sl[2:]"
   ]
  },
  {
   "cell_type": "code",
   "execution_count": 22,
   "metadata": {
    "collapsed": false
   },
   "outputs": [
    {
     "name": "stdout",
     "output_type": "stream",
     "text": [
      "['__add__', '__class__', '__contains__', '__delattr__', '__delitem__', '__delslice__', '__doc__', '__eq__', '__format__', '__ge__', '__getattribute__', '__getitem__', '__getslice__', '__gt__', '__hash__', '__iadd__', '__imul__', '__init__', '__iter__', '__le__', '__len__', '__lt__', '__mul__', '__ne__', '__new__', '__reduce__', '__reduce_ex__', '__repr__', '__reversed__', '__rmul__', '__setattr__', '__setitem__', '__setslice__', '__sizeof__', '__str__', '__subclasshook__', 'append', 'count', 'extend', 'index', 'insert', 'pop', 'remove', 'reverse', 'sort']\n"
     ]
    }
   ],
   "source": [
    "print(dir(sl))"
   ]
  },
  {
   "cell_type": "code",
   "execution_count": 24,
   "metadata": {
    "collapsed": false
   },
   "outputs": [
    {
     "data": {
      "text/plain": [
       "['i', 'am', 'another', 'a', 'really', 'stupid', 'long', 'string', 'another']"
      ]
     },
     "execution_count": 24,
     "metadata": {},
     "output_type": "execute_result"
    }
   ],
   "source": [
    "sl.insert(2, 'another')\n",
    "sl"
   ]
  },
  {
   "cell_type": "code",
   "execution_count": 25,
   "metadata": {
    "collapsed": false
   },
   "outputs": [
    {
     "data": {
      "text/plain": [
       "['i',\n",
       " 'am',\n",
       " 'another',\n",
       " 'a',\n",
       " 'really',\n",
       " 'stupid',\n",
       " 'long',\n",
       " 'string',\n",
       " 'another',\n",
       " 'another',\n",
       " 'item']"
      ]
     },
     "execution_count": 25,
     "metadata": {},
     "output_type": "execute_result"
    }
   ],
   "source": [
    "sl.extend(['another', 'item'])\n",
    "sl"
   ]
  },
  {
   "cell_type": "code",
   "execution_count": 32,
   "metadata": {
    "collapsed": false
   },
   "outputs": [
    {
     "name": "stdout",
     "output_type": "stream",
     "text": [
      "['ITEM', 'ANOTHER ITEM']\n",
      "['ITEM', 'ANOTHER ITEM']\n"
     ]
    }
   ],
   "source": [
    "# Lists are mutable!!!\n",
    "lst = ['item', 'another item']\n",
    "lst1 = [item.upper() for item in lst]\n",
    "print(lst1)\n",
    "\n",
    "lst.append('add to lst')\n",
    "print(lst1)"
   ]
  },
  {
   "cell_type": "code",
   "execution_count": 30,
   "metadata": {
    "collapsed": false
   },
   "outputs": [
    {
     "name": "stdout",
     "output_type": "stream",
     "text": [
      "['item', 1, 2, 'another item', 'add to lst', 'YAY']\n",
      "['item', 1, 2, 'another item']\n"
     ]
    }
   ],
   "source": [
    "lst.append('YAY')\n",
    "print(lst)\n",
    "print(lst1)"
   ]
  },
  {
   "cell_type": "code",
   "execution_count": 28,
   "metadata": {
    "collapsed": false
   },
   "outputs": [
    {
     "name": "stdout",
     "output_type": "stream",
     "text": [
      "['item', 1, 2, 'another item', 'add to lst']\n"
     ]
    }
   ],
   "source": [
    "# Lists are ordered and iterable:\n",
    "lst1 = []\n",
    "for item in lst:\n",
    "    lst1.append(item)\n",
    "    \n",
    "print(lst1)"
   ]
  },
  {
   "cell_type": "code",
   "execution_count": 34,
   "metadata": {
    "collapsed": false
   },
   "outputs": [
    {
     "name": "stdout",
     "output_type": "stream",
     "text": [
      "A\n",
      "G\n",
      "U\n",
      "U\n",
      "C\n",
      "G\n",
      "A\n",
      "G\n",
      "G\n",
      "C\n",
      "U\n",
      "U\n",
      "A\n",
      "A\n",
      "A\n",
      "C\n",
      "G\n",
      "G\n",
      "G\n",
      "C\n",
      "C\n",
      "U\n",
      "U\n",
      "A\n",
      "U\n"
     ]
    }
   ],
   "source": [
    "for c in seq:\n",
    "    print(c)"
   ]
  },
  {
   "cell_type": "code",
   "execution_count": 33,
   "metadata": {
    "collapsed": false
   },
   "outputs": [
    {
     "name": "stdout",
     "output_type": "stream",
     "text": [
      "item\n",
      "another item\n",
      "add to lst\n",
      "0 item\n",
      "1 another item\n",
      "2 add to lst\n"
     ]
    }
   ],
   "source": [
    "# Don't do this:\n",
    "for i in range(len(lst)):\n",
    "    print(lst[i])\n",
    "    \n",
    "# If you need index of each element:\n",
    "for ind,item in enumerate(lst):\n",
    "    print(ind, item)"
   ]
  },
  {
   "cell_type": "code",
   "execution_count": 35,
   "metadata": {
    "collapsed": false
   },
   "outputs": [
    {
     "name": "stdout",
     "output_type": "stream",
     "text": [
      "True\n",
      "False\n",
      "Item in list!\n"
     ]
    }
   ],
   "source": [
    "# To check that an element is in list:\n",
    "\n",
    "print('item' in lst)\n",
    "print('Item' in lst)\n",
    "\n",
    "if 'item' in lst:\n",
    "    print('Item in list!')\n",
    "else:\n",
    "    print('Not in list')"
   ]
  },
  {
   "cell_type": "markdown",
   "metadata": {
    "collapsed": true
   },
   "source": [
    "###`tuple` is a immutable list"
   ]
  },
  {
   "cell_type": "code",
   "execution_count": 36,
   "metadata": {
    "collapsed": false
   },
   "outputs": [
    {
     "name": "stdout",
     "output_type": "stream",
     "text": [
      "name position\n"
     ]
    }
   ],
   "source": [
    "t = ('name', 'position')\n",
    "name, position = t\n",
    "print(name, position)"
   ]
  },
  {
   "cell_type": "code",
   "execution_count": 38,
   "metadata": {
    "collapsed": false
   },
   "outputs": [
    {
     "name": "stdout",
     "output_type": "stream",
     "text": [
      "0 0\n",
      "1 10\n",
      "2 20\n",
      "3 30\n",
      "4 40\n",
      "5 50\n",
      "6 60\n",
      "7 70\n",
      "8 80\n",
      "9 90\n"
     ]
    }
   ],
   "source": [
    "# From the earlier example:\n",
    "r1 = range(11)\n",
    "r2 = range(0, 100, 10)\n",
    "for i1,i2 in zip(r1,r2):\n",
    "    print(i1,i2)"
   ]
  },
  {
   "cell_type": "markdown",
   "metadata": {},
   "source": [
    "DIFFERENCE FROM ARRAYS:\n",
    ">Elements of list do not need to be of the same type"
   ]
  },
  {
   "cell_type": "markdown",
   "metadata": {},
   "source": [
    "###`sets`  - unordered collections of unique elements"
   ]
  },
  {
   "cell_type": "code",
   "execution_count": 39,
   "metadata": {
    "collapsed": false
   },
   "outputs": [
    {
     "data": {
      "text/plain": [
       "['i',\n",
       " 'am',\n",
       " 'another',\n",
       " 'a',\n",
       " 'really',\n",
       " 'stupid',\n",
       " 'long',\n",
       " 'string',\n",
       " 'another',\n",
       " 'another',\n",
       " 'item']"
      ]
     },
     "execution_count": 39,
     "metadata": {},
     "output_type": "execute_result"
    }
   ],
   "source": [
    "sl"
   ]
  },
  {
   "cell_type": "code",
   "execution_count": 40,
   "metadata": {
    "collapsed": false
   },
   "outputs": [
    {
     "data": {
      "text/plain": [
       "{'a', 'am', 'another', 'i', 'item', 'long', 'really', 'string', 'stupid'}"
      ]
     },
     "execution_count": 40,
     "metadata": {},
     "output_type": "execute_result"
    }
   ],
   "source": [
    "set(sl)"
   ]
  },
  {
   "cell_type": "code",
   "execution_count": 41,
   "metadata": {
    "collapsed": true
   },
   "outputs": [],
   "source": [
    "# Nice optimization trick:\n",
    "huge_list = range(1000000)\n",
    "huge_set = set(huge_list)\n",
    "\n",
    "def check_list(elem, lst=None):\n",
    "    if lst:\n",
    "        # DO smth\n",
    "    return elem in huge_list\n",
    "\n",
    "def check_set(elem):\n",
    "    return elem in huge_set\n",
    "\n",
    "# And let's refactor this into one function and talk about variable scopes"
   ]
  },
  {
   "cell_type": "code",
   "execution_count": 44,
   "metadata": {
    "collapsed": false
   },
   "outputs": [
    {
     "name": "stdout",
     "output_type": "stream",
     "text": [
      "CPU times: user 0 ns, sys: 0 ns, total: 0 ns\n",
      "Wall time: 276 µs\n"
     ]
    },
    {
     "data": {
      "text/plain": [
       "True"
      ]
     },
     "execution_count": 44,
     "metadata": {},
     "output_type": "execute_result"
    }
   ],
   "source": [
    "%time check_list(10000)"
   ]
  },
  {
   "cell_type": "code",
   "execution_count": 45,
   "metadata": {
    "collapsed": false
   },
   "outputs": [
    {
     "name": "stdout",
     "output_type": "stream",
     "text": [
      "CPU times: user 0 ns, sys: 0 ns, total: 0 ns\n",
      "Wall time: 14.1 µs\n"
     ]
    },
    {
     "data": {
      "text/plain": [
       "True"
      ]
     },
     "execution_count": 45,
     "metadata": {},
     "output_type": "execute_result"
    }
   ],
   "source": [
    "%time check_set(10000)"
   ]
  },
  {
   "cell_type": "markdown",
   "metadata": {},
   "source": [
    "###`dictionary` - key/value pairs"
   ]
  },
  {
   "cell_type": "markdown",
   "metadata": {},
   "source": [
    "AKA hashtable, associative array. In general, mapping type."
   ]
  },
  {
   "cell_type": "code",
   "execution_count": 48,
   "metadata": {
    "collapsed": false
   },
   "outputs": [
    {
     "data": {
      "text/plain": [
       "{'key1': 1, 'key2': 20, 'key3': 345}"
      ]
     },
     "execution_count": 48,
     "metadata": {},
     "output_type": "execute_result"
    }
   ],
   "source": [
    "d = {'key1': 1, 'key2': 20, 'key3': 345}\n",
    "d"
   ]
  },
  {
   "cell_type": "markdown",
   "metadata": {},
   "source": [
    "`key` can be any *hashable* type. What it means in practical terms is that it must be immutable."
   ]
  },
  {
   "cell_type": "code",
   "execution_count": 47,
   "metadata": {
    "collapsed": false
   },
   "outputs": [
    {
     "name": "stdout",
     "output_type": "stream",
     "text": [
      "['__class__', '__cmp__', '__contains__', '__delattr__', '__delitem__', '__doc__', '__eq__', '__format__', '__ge__', '__getattribute__', '__getitem__', '__gt__', '__hash__', '__init__', '__iter__', '__le__', '__len__', '__lt__', '__ne__', '__new__', '__reduce__', '__reduce_ex__', '__repr__', '__setattr__', '__setitem__', '__sizeof__', '__str__', '__subclasshook__', 'clear', 'copy', 'fromkeys', 'get', 'has_key', 'items', 'iteritems', 'iterkeys', 'itervalues', 'keys', 'pop', 'popitem', 'setdefault', 'update', 'values', 'viewitems', 'viewkeys', 'viewvalues']\n"
     ]
    }
   ],
   "source": [
    "print(dir(d))"
   ]
  },
  {
   "cell_type": "markdown",
   "metadata": {},
   "source": [
    "###`dict` is mutable!"
   ]
  },
  {
   "cell_type": "code",
   "execution_count": 49,
   "metadata": {
    "collapsed": false
   },
   "outputs": [
    {
     "name": "stdout",
     "output_type": "stream",
     "text": [
      "{'key3': 345, 'key2': 20}\n"
     ]
    }
   ],
   "source": [
    "d.pop('key1')\n",
    "print(d)\n",
    "# Note also that dict is unordered"
   ]
  },
  {
   "cell_type": "code",
   "execution_count": 50,
   "metadata": {
    "collapsed": false
   },
   "outputs": [
    {
     "data": {
      "text/plain": [
       "{'key1': 101, 'key2': 202, 'key3': 345}"
      ]
     },
     "execution_count": 50,
     "metadata": {},
     "output_type": "execute_result"
    }
   ],
   "source": [
    "# Assignment\n",
    "d['key1'] = 101\n",
    "d['key2'] = 202\n",
    "d"
   ]
  },
  {
   "cell_type": "code",
   "execution_count": 51,
   "metadata": {
    "collapsed": false
   },
   "outputs": [
    {
     "name": "stdout",
     "output_type": "stream",
     "text": [
      "True\n",
      "False\n"
     ]
    }
   ],
   "source": [
    "# Membership test operates on keys\n",
    "print('key3' in d)\n",
    "print('key4' in d)"
   ]
  },
  {
   "cell_type": "code",
   "execution_count": 52,
   "metadata": {
    "collapsed": false
   },
   "outputs": [
    {
     "name": "stdout",
     "output_type": "stream",
     "text": [
      "key3 345\n",
      "key2 202\n",
      "key1 101\n"
     ]
    }
   ],
   "source": [
    "# Looping over key:value pairs\n",
    "\n",
    "for key,val in d.items():\n",
    "    print(key,val)"
   ]
  },
  {
   "cell_type": "markdown",
   "metadata": {},
   "source": [
    "###Working with files. "
   ]
  },
  {
   "cell_type": "code",
   "execution_count": null,
   "metadata": {
    "collapsed": true
   },
   "outputs": [],
   "source": [
    "# This works but is not good\n",
    "\n",
    "fh = open('myfile.txt', 'r')\n",
    "for line in fh:\n",
    "    # Do something\n",
    "fh.close()"
   ]
  },
  {
   "cell_type": "code",
   "execution_count": null,
   "metadata": {
    "collapsed": true
   },
   "outputs": [],
   "source": [
    "# Better way (context manager)\n",
    "import os.path\n",
    "directory = 'dir1'\n",
    "filename = 'file.txt'\n",
    "\n",
    "with open(os.path.join(directory, filename), 'r') as fh:\n",
    "    for line in fh:\n",
    "        # Do something\n",
    "# Do something else. At this point fh.close() will be called automatically"
   ]
  },
  {
   "cell_type": "code",
   "execution_count": null,
   "metadata": {
    "collapsed": true
   },
   "outputs": [],
   "source": [
    "# We can also work with gzipped files\n",
    "import gzip\n",
    "\n",
    "with gzip.open('myfile.gz', 'rb') as fh: # Note 'rb' as file opening mode\n",
    "    for line in fh:\n",
    "        # Do something"
   ]
  },
  {
   "cell_type": "markdown",
   "metadata": {},
   "source": [
    "##Standard library\n",
    "\n",
    "Python has expansive standard library and comprehensive, accessible documentation complete with examples. Some of the must-know modules:\n",
    "\n",
    "- `collections`\n",
    "- `itertools`\n",
    "- `os` and particularly `os.path`\n",
    "- `re`"
   ]
  },
  {
   "cell_type": "markdown",
   "metadata": {},
   "source": [
    "## Comparisons\n",
    "\n",
    "In comparison operations each operand is first cast to `boolean`.\n",
    "\n",
    "The `boolean` type is a subclass of `int` (`False ~ 0, True ~ 1`) mainly for historical reasons."
   ]
  },
  {
   "cell_type": "code",
   "execution_count": 55,
   "metadata": {
    "collapsed": false
   },
   "outputs": [
    {
     "name": "stdout",
     "output_type": "stream",
     "text": [
      "a is True!\n",
      "b is False!\n"
     ]
    }
   ],
   "source": [
    "a = 1\n",
    "b = 0\n",
    "if 0 < a < 2:\n",
    "    print('a is True!')\n",
    "if not b:\n",
    "    print('b is False!')"
   ]
  },
  {
   "cell_type": "code",
   "execution_count": 56,
   "metadata": {
    "collapsed": false
   },
   "outputs": [
    {
     "name": "stdout",
     "output_type": "stream",
     "text": [
      "s1 and s2 are different\n",
      "s1 and s2 are not the same thing!\n"
     ]
    }
   ],
   "source": [
    "s1 = 'Fox'\n",
    "s2 = 'Dog'\n",
    "\n",
    "# Equality check\n",
    "if s1 != s2:\n",
    "    print('s1 and s2 are different')\n",
    "    \n",
    "# Identity check\n",
    "if s1 is s2:\n",
    "    pass\n",
    "else:\n",
    "    print('s1 and s2 are not the same thing!')"
   ]
  },
  {
   "cell_type": "code",
   "execution_count": 57,
   "metadata": {
    "collapsed": false
   },
   "outputs": [
    {
     "name": "stdout",
     "output_type": "stream",
     "text": [
      "s1 and s2 POINT to the same thing\n"
     ]
    }
   ],
   "source": [
    "s2 = s1\n",
    "\n",
    "# Identity check\n",
    "if s1 is s2:\n",
    "    print('s1 and s2 POINT to the same thing')\n",
    "else:\n",
    "    print('s1 and s2 are not the same thing!')"
   ]
  },
  {
   "cell_type": "code",
   "execution_count": 58,
   "metadata": {
    "collapsed": false
   },
   "outputs": [
    {
     "name": "stdout",
     "output_type": "stream",
     "text": [
      "a and b are equal!\n",
      "a and b are not the same thing!\n"
     ]
    }
   ],
   "source": [
    "# This however doesn't work for integers\n",
    "b = 1\n",
    "if a == b:\n",
    "    print('a and b are equal!')\n",
    "    \n",
    "if a is b:\n",
    "    print('a and b are not the same thing!')\n",
    "    \n",
    "# Implementation detail: integers from -5 to ~256 are cached (singletons)"
   ]
  },
  {
   "cell_type": "code",
   "execution_count": 59,
   "metadata": {
    "collapsed": false
   },
   "outputs": [
    {
     "name": "stdout",
     "output_type": "stream",
     "text": [
      "One of the lists is empty.\n"
     ]
    }
   ],
   "source": [
    "# Empty sequence types evaluate to False, non-empty ones to True\n",
    "lst1 = []\n",
    "lst2 = ['a']\n",
    "\n",
    "if lst1 and lst2:\n",
    "    print('Both lists are non-empty.')\n",
    "else:\n",
    "    print('One of the lists is empty.')"
   ]
  },
  {
   "cell_type": "code",
   "execution_count": 61,
   "metadata": {
    "collapsed": false
   },
   "outputs": [
    {
     "name": "stdout",
     "output_type": "stream",
     "text": [
      "Empty\n"
     ]
    }
   ],
   "source": [
    "if lst1:\n",
    "    pass\n",
    "else:\n",
    "    print('Empty')"
   ]
  },
  {
   "cell_type": "code",
   "execution_count": null,
   "metadata": {
    "collapsed": true
   },
   "outputs": [],
   "source": [
    "# Another singleton\n",
    "a = None"
   ]
  },
  {
   "cell_type": "markdown",
   "metadata": {},
   "source": [
    "## Example"
   ]
  },
  {
   "cell_type": "code",
   "execution_count": 62,
   "metadata": {
    "collapsed": false
   },
   "outputs": [
    {
     "name": "stdout",
     "output_type": "stream",
     "text": [
      "total 191M\r\n",
      "drwxrwxr-x 2 ilya ilya 4.0K Sep 30 18:05 .\r\n",
      "drwxrwxr-x 5 ilya ilya 4.0K Sep 16 13:23 ..\r\n",
      "-rw-rw-r-- 1 ilya ilya  24M Sep 30 08:54 7E2.pileup.gz\r\n",
      "-rw-rw-r-- 1 ilya ilya  21M Sep 30 15:49 AAGCTA_R2.pileup.gz\r\n",
      "-rw-rw-r-- 1 ilya ilya 146M Sep 29 12:04 BJ-HSR1_R1.fastq.gz\r\n",
      "-rw-rw-r-- 1 ilya ilya 500K Sep 16 09:03 contigs.fasta\r\n",
      "-rw-r----- 1 ilya ilya  644 Sep 16 09:00 dHSR1.fa\r\n",
      "-rw-rw-r-- 1 ilya ilya 5.4K Sep 23 15:58 gradtimes.txt\r\n",
      "-rw-rw-r-- 1 ilya ilya  445 Sep 16 09:00 hHSR-435.fa\r\n",
      "-rw-rw-r-- 1 ilya ilya  611 Sep 16 09:00 hHSR.fa\r\n",
      "-rw-rw-r-- 1 ilya ilya  126 Sep 16 09:04 rose.fa\r\n"
     ]
    }
   ],
   "source": [
    "!ls -lah ../data"
   ]
  },
  {
   "cell_type": "code",
   "execution_count": 70,
   "metadata": {
    "collapsed": true
   },
   "outputs": [],
   "source": [
    "import os\n",
    "import sys\n",
    "import csv\n",
    "import gzip\n",
    "import pandas as pd\n",
    "csv.field_size_limit(sys.maxsize)\n",
    "\n",
    "def parse_pileup(barcode, dirname='../results', track='minus', sample_id='minus'):\n",
    "    filename = os.path.join(dirname, '{0}_{1}.pileup.gz'.format(barcode, sample_id))\n",
    "    print(filename)\n",
    "    with gzip.open(filename, 'rb') as pileup:\n",
    "        reader = csv.DictReader(pileup,\n",
    "                        delimiter='\\t',\n",
    "                        fieldnames=['seqname', 'pos', 'base', 'coverage', 'details', 'qual'])\n",
    "        data = []\n",
    "        for rec in reader:\n",
    "            pos = int(rec['pos'])\n",
    "            last = rec\n",
    "            if pos == 1:\n",
    "                data.append({'pos': 0, 'base': '*',\n",
    "                             track: rec['details'].count('^')})\n",
    "            else:\n",
    "                data.append({'pos': pos-1, 'base': last['base'],\n",
    "                             track: rec['details'].count('^')})\n",
    "    return pd.DataFrame.from_records(data)"
   ]
  },
  {
   "cell_type": "code",
   "execution_count": 71,
   "metadata": {
    "collapsed": false,
    "scrolled": true
   },
   "outputs": [
    {
     "name": "stdout",
     "output_type": "stream",
     "text": [
      "../data/AAGCTA_R2.pileup.gz\n"
     ]
    }
   ],
   "source": [
    "df = parse_pileup('AAGCTA', dirname='../data', sample_id='R2')"
   ]
  },
  {
   "cell_type": "code",
   "execution_count": 72,
   "metadata": {
    "collapsed": false
   },
   "outputs": [
    {
     "data": {
      "text/html": [
       "<div>\n",
       "<table border=\"1\" class=\"dataframe\">\n",
       "  <thead>\n",
       "    <tr style=\"text-align: right;\">\n",
       "      <th></th>\n",
       "      <th>base</th>\n",
       "      <th>minus</th>\n",
       "      <th>pos</th>\n",
       "    </tr>\n",
       "  </thead>\n",
       "  <tbody>\n",
       "    <tr>\n",
       "      <th>0</th>\n",
       "      <td>*</td>\n",
       "      <td>25</td>\n",
       "      <td>0</td>\n",
       "    </tr>\n",
       "    <tr>\n",
       "      <th>1</th>\n",
       "      <td>C</td>\n",
       "      <td>1</td>\n",
       "      <td>1</td>\n",
       "    </tr>\n",
       "    <tr>\n",
       "      <th>2</th>\n",
       "      <td>T</td>\n",
       "      <td>5</td>\n",
       "      <td>2</td>\n",
       "    </tr>\n",
       "    <tr>\n",
       "      <th>3</th>\n",
       "      <td>C</td>\n",
       "      <td>2</td>\n",
       "      <td>3</td>\n",
       "    </tr>\n",
       "    <tr>\n",
       "      <th>4</th>\n",
       "      <td>G</td>\n",
       "      <td>1</td>\n",
       "      <td>4</td>\n",
       "    </tr>\n",
       "    <tr>\n",
       "      <th>5</th>\n",
       "      <td>C</td>\n",
       "      <td>1</td>\n",
       "      <td>5</td>\n",
       "    </tr>\n",
       "    <tr>\n",
       "      <th>6</th>\n",
       "      <td>T</td>\n",
       "      <td>0</td>\n",
       "      <td>6</td>\n",
       "    </tr>\n",
       "    <tr>\n",
       "      <th>7</th>\n",
       "      <td>A</td>\n",
       "      <td>21</td>\n",
       "      <td>7</td>\n",
       "    </tr>\n",
       "    <tr>\n",
       "      <th>8</th>\n",
       "      <td>T</td>\n",
       "      <td>2</td>\n",
       "      <td>8</td>\n",
       "    </tr>\n",
       "    <tr>\n",
       "      <th>9</th>\n",
       "      <td>G</td>\n",
       "      <td>5</td>\n",
       "      <td>9</td>\n",
       "    </tr>\n",
       "    <tr>\n",
       "      <th>10</th>\n",
       "      <td>C</td>\n",
       "      <td>1</td>\n",
       "      <td>10</td>\n",
       "    </tr>\n",
       "    <tr>\n",
       "      <th>11</th>\n",
       "      <td>G</td>\n",
       "      <td>0</td>\n",
       "      <td>11</td>\n",
       "    </tr>\n",
       "    <tr>\n",
       "      <th>12</th>\n",
       "      <td>T</td>\n",
       "      <td>24</td>\n",
       "      <td>12</td>\n",
       "    </tr>\n",
       "    <tr>\n",
       "      <th>13</th>\n",
       "      <td>C</td>\n",
       "      <td>2</td>\n",
       "      <td>13</td>\n",
       "    </tr>\n",
       "    <tr>\n",
       "      <th>14</th>\n",
       "      <td>A</td>\n",
       "      <td>32</td>\n",
       "      <td>14</td>\n",
       "    </tr>\n",
       "    <tr>\n",
       "      <th>15</th>\n",
       "      <td>C</td>\n",
       "      <td>1</td>\n",
       "      <td>15</td>\n",
       "    </tr>\n",
       "    <tr>\n",
       "      <th>16</th>\n",
       "      <td>G</td>\n",
       "      <td>2</td>\n",
       "      <td>16</td>\n",
       "    </tr>\n",
       "    <tr>\n",
       "      <th>17</th>\n",
       "      <td>T</td>\n",
       "      <td>25</td>\n",
       "      <td>17</td>\n",
       "    </tr>\n",
       "    <tr>\n",
       "      <th>18</th>\n",
       "      <td>T</td>\n",
       "      <td>15</td>\n",
       "      <td>18</td>\n",
       "    </tr>\n",
       "    <tr>\n",
       "      <th>19</th>\n",
       "      <td>A</td>\n",
       "      <td>18</td>\n",
       "      <td>19</td>\n",
       "    </tr>\n",
       "    <tr>\n",
       "      <th>20</th>\n",
       "      <td>A</td>\n",
       "      <td>14</td>\n",
       "      <td>20</td>\n",
       "    </tr>\n",
       "    <tr>\n",
       "      <th>21</th>\n",
       "      <td>A</td>\n",
       "      <td>8</td>\n",
       "      <td>21</td>\n",
       "    </tr>\n",
       "    <tr>\n",
       "      <th>22</th>\n",
       "      <td>A</td>\n",
       "      <td>1</td>\n",
       "      <td>22</td>\n",
       "    </tr>\n",
       "    <tr>\n",
       "      <th>23</th>\n",
       "      <td>A</td>\n",
       "      <td>39</td>\n",
       "      <td>23</td>\n",
       "    </tr>\n",
       "    <tr>\n",
       "      <th>24</th>\n",
       "      <td>T</td>\n",
       "      <td>29</td>\n",
       "      <td>24</td>\n",
       "    </tr>\n",
       "    <tr>\n",
       "      <th>25</th>\n",
       "      <td>A</td>\n",
       "      <td>27</td>\n",
       "      <td>25</td>\n",
       "    </tr>\n",
       "    <tr>\n",
       "      <th>26</th>\n",
       "      <td>A</td>\n",
       "      <td>34</td>\n",
       "      <td>26</td>\n",
       "    </tr>\n",
       "    <tr>\n",
       "      <th>27</th>\n",
       "      <td>T</td>\n",
       "      <td>10</td>\n",
       "      <td>27</td>\n",
       "    </tr>\n",
       "    <tr>\n",
       "      <th>28</th>\n",
       "      <td>G</td>\n",
       "      <td>2</td>\n",
       "      <td>28</td>\n",
       "    </tr>\n",
       "    <tr>\n",
       "      <th>29</th>\n",
       "      <td>A</td>\n",
       "      <td>12</td>\n",
       "      <td>29</td>\n",
       "    </tr>\n",
       "    <tr>\n",
       "      <th>...</th>\n",
       "      <td>...</td>\n",
       "      <td>...</td>\n",
       "      <td>...</td>\n",
       "    </tr>\n",
       "    <tr>\n",
       "      <th>655</th>\n",
       "      <td>C</td>\n",
       "      <td>0</td>\n",
       "      <td>655</td>\n",
       "    </tr>\n",
       "    <tr>\n",
       "      <th>656</th>\n",
       "      <td>C</td>\n",
       "      <td>0</td>\n",
       "      <td>656</td>\n",
       "    </tr>\n",
       "    <tr>\n",
       "      <th>657</th>\n",
       "      <td>T</td>\n",
       "      <td>0</td>\n",
       "      <td>657</td>\n",
       "    </tr>\n",
       "    <tr>\n",
       "      <th>658</th>\n",
       "      <td>A</td>\n",
       "      <td>0</td>\n",
       "      <td>658</td>\n",
       "    </tr>\n",
       "    <tr>\n",
       "      <th>659</th>\n",
       "      <td>G</td>\n",
       "      <td>0</td>\n",
       "      <td>659</td>\n",
       "    </tr>\n",
       "    <tr>\n",
       "      <th>660</th>\n",
       "      <td>C</td>\n",
       "      <td>0</td>\n",
       "      <td>660</td>\n",
       "    </tr>\n",
       "    <tr>\n",
       "      <th>661</th>\n",
       "      <td>T</td>\n",
       "      <td>0</td>\n",
       "      <td>661</td>\n",
       "    </tr>\n",
       "    <tr>\n",
       "      <th>662</th>\n",
       "      <td>T</td>\n",
       "      <td>0</td>\n",
       "      <td>662</td>\n",
       "    </tr>\n",
       "    <tr>\n",
       "      <th>663</th>\n",
       "      <td>A</td>\n",
       "      <td>0</td>\n",
       "      <td>663</td>\n",
       "    </tr>\n",
       "    <tr>\n",
       "      <th>664</th>\n",
       "      <td>A</td>\n",
       "      <td>0</td>\n",
       "      <td>664</td>\n",
       "    </tr>\n",
       "    <tr>\n",
       "      <th>665</th>\n",
       "      <td>A</td>\n",
       "      <td>0</td>\n",
       "      <td>665</td>\n",
       "    </tr>\n",
       "    <tr>\n",
       "      <th>666</th>\n",
       "      <td>T</td>\n",
       "      <td>0</td>\n",
       "      <td>666</td>\n",
       "    </tr>\n",
       "    <tr>\n",
       "      <th>667</th>\n",
       "      <td>C</td>\n",
       "      <td>0</td>\n",
       "      <td>667</td>\n",
       "    </tr>\n",
       "    <tr>\n",
       "      <th>668</th>\n",
       "      <td>G</td>\n",
       "      <td>0</td>\n",
       "      <td>668</td>\n",
       "    </tr>\n",
       "    <tr>\n",
       "      <th>669</th>\n",
       "      <td>G</td>\n",
       "      <td>0</td>\n",
       "      <td>669</td>\n",
       "    </tr>\n",
       "    <tr>\n",
       "      <th>670</th>\n",
       "      <td>G</td>\n",
       "      <td>0</td>\n",
       "      <td>670</td>\n",
       "    </tr>\n",
       "    <tr>\n",
       "      <th>671</th>\n",
       "      <td>C</td>\n",
       "      <td>0</td>\n",
       "      <td>671</td>\n",
       "    </tr>\n",
       "    <tr>\n",
       "      <th>672</th>\n",
       "      <td>T</td>\n",
       "      <td>0</td>\n",
       "      <td>672</td>\n",
       "    </tr>\n",
       "    <tr>\n",
       "      <th>673</th>\n",
       "      <td>T</td>\n",
       "      <td>0</td>\n",
       "      <td>673</td>\n",
       "    </tr>\n",
       "    <tr>\n",
       "      <th>674</th>\n",
       "      <td>C</td>\n",
       "      <td>0</td>\n",
       "      <td>674</td>\n",
       "    </tr>\n",
       "    <tr>\n",
       "      <th>675</th>\n",
       "      <td>G</td>\n",
       "      <td>0</td>\n",
       "      <td>675</td>\n",
       "    </tr>\n",
       "    <tr>\n",
       "      <th>676</th>\n",
       "      <td>G</td>\n",
       "      <td>0</td>\n",
       "      <td>676</td>\n",
       "    </tr>\n",
       "    <tr>\n",
       "      <th>677</th>\n",
       "      <td>T</td>\n",
       "      <td>0</td>\n",
       "      <td>677</td>\n",
       "    </tr>\n",
       "    <tr>\n",
       "      <th>678</th>\n",
       "      <td>C</td>\n",
       "      <td>0</td>\n",
       "      <td>678</td>\n",
       "    </tr>\n",
       "    <tr>\n",
       "      <th>679</th>\n",
       "      <td>C</td>\n",
       "      <td>0</td>\n",
       "      <td>679</td>\n",
       "    </tr>\n",
       "    <tr>\n",
       "      <th>680</th>\n",
       "      <td>G</td>\n",
       "      <td>0</td>\n",
       "      <td>680</td>\n",
       "    </tr>\n",
       "    <tr>\n",
       "      <th>681</th>\n",
       "      <td>G</td>\n",
       "      <td>0</td>\n",
       "      <td>681</td>\n",
       "    </tr>\n",
       "    <tr>\n",
       "      <th>682</th>\n",
       "      <td>T</td>\n",
       "      <td>0</td>\n",
       "      <td>682</td>\n",
       "    </tr>\n",
       "    <tr>\n",
       "      <th>683</th>\n",
       "      <td>T</td>\n",
       "      <td>0</td>\n",
       "      <td>683</td>\n",
       "    </tr>\n",
       "    <tr>\n",
       "      <th>684</th>\n",
       "      <td>C</td>\n",
       "      <td>0</td>\n",
       "      <td>684</td>\n",
       "    </tr>\n",
       "  </tbody>\n",
       "</table>\n",
       "<p>685 rows × 3 columns</p>\n",
       "</div>"
      ],
      "text/plain": [
       "    base  minus  pos\n",
       "0      *     25    0\n",
       "1      C      1    1\n",
       "2      T      5    2\n",
       "3      C      2    3\n",
       "4      G      1    4\n",
       "5      C      1    5\n",
       "6      T      0    6\n",
       "7      A     21    7\n",
       "8      T      2    8\n",
       "9      G      5    9\n",
       "10     C      1   10\n",
       "11     G      0   11\n",
       "12     T     24   12\n",
       "13     C      2   13\n",
       "14     A     32   14\n",
       "15     C      1   15\n",
       "16     G      2   16\n",
       "17     T     25   17\n",
       "18     T     15   18\n",
       "19     A     18   19\n",
       "20     A     14   20\n",
       "21     A      8   21\n",
       "22     A      1   22\n",
       "23     A     39   23\n",
       "24     T     29   24\n",
       "25     A     27   25\n",
       "26     A     34   26\n",
       "27     T     10   27\n",
       "28     G      2   28\n",
       "29     A     12   29\n",
       "..   ...    ...  ...\n",
       "655    C      0  655\n",
       "656    C      0  656\n",
       "657    T      0  657\n",
       "658    A      0  658\n",
       "659    G      0  659\n",
       "660    C      0  660\n",
       "661    T      0  661\n",
       "662    T      0  662\n",
       "663    A      0  663\n",
       "664    A      0  664\n",
       "665    A      0  665\n",
       "666    T      0  666\n",
       "667    C      0  667\n",
       "668    G      0  668\n",
       "669    G      0  669\n",
       "670    G      0  670\n",
       "671    C      0  671\n",
       "672    T      0  672\n",
       "673    T      0  673\n",
       "674    C      0  674\n",
       "675    G      0  675\n",
       "676    G      0  676\n",
       "677    T      0  677\n",
       "678    C      0  678\n",
       "679    C      0  679\n",
       "680    G      0  680\n",
       "681    G      0  681\n",
       "682    T      0  682\n",
       "683    T      0  683\n",
       "684    C      0  684\n",
       "\n",
       "[685 rows x 3 columns]"
      ]
     },
     "execution_count": 72,
     "metadata": {},
     "output_type": "execute_result"
    }
   ],
   "source": [
    "df"
   ]
  },
  {
   "cell_type": "markdown",
   "metadata": {},
   "source": [
    "## Assignment\n",
    "\n",
    "Do the summary of E.coli `.gff` file in python\n",
    "\n",
    "EXTRA CREDIT:\n",
    ">Find all occurences of the sequence `GGGGCGGGGG` in E.coli genome\n",
    "\n",
    "EXTRA EXTRA CREDIT:\n",
    ">Find all _almost_ exact occurences of the same sequence in E.coli genome (ftp://ftp.ncbi.nlm.nih.gov/genomes/all/GCF_000005845.2_ASM584v2/GCF_000005845.2_ASM584v2_genomic.fna.gz)"
   ]
  },
  {
   "cell_type": "code",
   "execution_count": 32,
   "metadata": {
    "collapsed": false
   },
   "outputs": [],
   "source": [
    "import gzip\n",
    "from collections import Counter\n",
    "\n",
    "foo = 'bar'\n",
    "\n",
    "def column_stat(filename, col=2, sep='\\t'):\n",
    "    counter = Counter()\n",
    "    foo = 'BAZ'\n",
    "    print(foo)\n",
    "    with gzip.open(filename) as fi:\n",
    "        for line in fi:\n",
    "            line_norm = line.strip()\n",
    "            if line and (not line_norm.startswith('#')):\n",
    "                fields = line_norm.split(sep)\n",
    "                counter[fields[col]] += 1\n",
    "    return counter\n",
    "                         \n",
    "def column_stat1(filename, **kwargs):\n",
    "    counter = Counter()\n",
    "    col = kwargs['col']\n",
    "    sep = kwargs['sep']\n",
    "    with gzip.open(filename) as fi:\n",
    "        for line in fi:\n",
    "            line_norm = line.strip()\n",
    "            if line and (not line_norm.startswith('#')):\n",
    "                fields = line_norm.split(sep)\n",
    "                counter[fields[col]] += 1\n",
    "    return counter\n",
    "\n"
   ]
  },
  {
   "cell_type": "code",
   "execution_count": 33,
   "metadata": {
    "collapsed": false
   },
   "outputs": [
    {
     "name": "stdout",
     "output_type": "stream",
     "text": [
      "BAZ\n"
     ]
    },
    {
     "data": {
      "text/plain": [
       "Counter({'gene': 4518, 'CDS': 4386, 'repeat_region': 355, 'exon': 178, 'tRNA': 89, 'ncRNA': 65, 'region': 62, 'rRNA': 22, 'tmRNA': 2})"
      ]
     },
     "execution_count": 33,
     "metadata": {},
     "output_type": "execute_result"
    }
   ],
   "source": [
    "#column_stat('../data/GCF_000005845.2_ASM584v2_genomic.gff.gz', col=3, sep=',')\n",
    "kwargs = {'col': 2, 'sep': '\\t'}\n",
    "column_stat('../data/GCF_000005845.2_ASM584v2_genomic.gff.gz', **kwargs)"
   ]
  },
  {
   "cell_type": "code",
   "execution_count": 12,
   "metadata": {
    "collapsed": false
   },
   "outputs": [
    {
     "name": "stdout",
     "output_type": "stream",
     "text": [
      "total 192M\r\n",
      "drwxrwxr-x 2 ilya ilya 4.0K Oct 14 14:41 .\r\n",
      "drwxrwxr-x 5 ilya ilya 4.0K Oct 14 11:21 ..\r\n",
      "-rw-rw-r-- 1 ilya ilya  24M Sep 30 08:54 7E2.pileup.gz\r\n",
      "-rw-rw-r-- 1 ilya ilya  21M Sep 30 15:49 AAGCTA_R2.pileup.gz\r\n",
      "-rw-rw-r-- 1 ilya ilya 146M Sep 29 12:04 BJ-HSR1_R1.fastq.gz\r\n",
      "-rw-rw-r-- 1 ilya ilya 500K Sep 16 09:03 contigs.fasta\r\n",
      "-rw-r----- 1 ilya ilya  644 Sep 16 09:00 dHSR1.fa\r\n",
      "-rw-r----- 1 ilya ilya 1.4M Oct 14 14:41 GCF_000005845.2_ASM584v2_genomic.fna.gz\r\n",
      "-rw-rw-r-- 1 ilya ilya 440K Sep 10 13:08 GCF_000005845.2_ASM584v2_genomic.gff.gz\r\n",
      "-rw-rw-r-- 1 ilya ilya 5.4K Sep 23 15:58 gradtimes.txt\r\n",
      "-rw-rw-r-- 1 ilya ilya  445 Sep 16 09:00 hHSR-435.fa\r\n",
      "-rw-rw-r-- 1 ilya ilya  611 Sep 16 09:00 hHSR.fa\r\n",
      "-rw-rw-r-- 1 ilya ilya  11K Oct 14 09:18 ROSE1_dp.ps\r\n",
      "-rw-rw-r-- 1 ilya ilya  126 Sep 16 09:04 rose.fa\r\n"
     ]
    }
   ],
   "source": [
    "!ls -lah ../data"
   ]
  },
  {
   "cell_type": "code",
   "execution_count": 41,
   "metadata": {
    "collapsed": false
   },
   "outputs": [
    {
     "name": "stdout",
     "output_type": "stream",
     "text": [
      "300115\n",
      "3349720\n"
     ]
    }
   ],
   "source": [
    "pattern = 'GGGGCGGGGG'\n",
    "\n",
    "def rc(seq):\n",
    "    return ''.join([nuc[i] for i in seq])[::-1]\n",
    "\n",
    "with gzip.open('../data/GCF_000005845.2_ASM584v2_genomic.fna.gz') as fi:\n",
    "    glines = []\n",
    "    for line in fi:\n",
    "        line_norm = line.strip().upper()\n",
    "        if not line_norm.startswith('>'):\n",
    "            glines.append(line_norm)\n",
    "\n",
    "seq = ''.join(glines)\n",
    "\n",
    "def find_kmer(seq, pattern):\n",
    "    seq_map = {}\n",
    "    k = len(pattern)\n",
    "    for kmer, pos in [(seq[i:i+k], i) for i in xrange(0, len(seq)-k)]:\n",
    "        if kmer in seq_map:\n",
    "            seq_map[kmer].append(pos)\n",
    "        else:\n",
    "            seq_map[kmer] = [pos,]\n",
    "    return seq_map\n",
    "    \n",
    "forward = find_kmer(seq, pattern)\n",
    "print(' '.join([str(x) for x in forward[pattern]]))\n",
    "reverse = find_kmer(seq, rc(pattern))\n",
    "print(' '.join([str(x) for x in reverse[rc(pattern)]]))"
   ]
  },
  {
   "cell_type": "code",
   "execution_count": 39,
   "metadata": {
    "collapsed": false
   },
   "outputs": [
    {
     "name": "stdout",
     "output_type": "stream",
     "text": [
      "CCCCCGCCCC\n"
     ]
    }
   ],
   "source": [
    "nuc = {'A':'T', 'T' : 'A', 'C' : 'G',  'G' : 'C'}\n",
    "#take the patter            , search it based on dic\n",
    "res = []\n",
    "for i in pattern :\n",
    "     res.append(nuc[i])\n",
    "print(''.join(res)[::-1])"
   ]
  },
  {
   "cell_type": "code",
   "execution_count": 40,
   "metadata": {
    "collapsed": false
   },
   "outputs": [
    {
     "data": {
      "text/plain": [
       "'CCCCCGCCCC'"
      ]
     },
     "execution_count": 40,
     "metadata": {},
     "output_type": "execute_result"
    }
   ],
   "source": [
    "def rc(seq):\n",
    "    return ''.join([nuc[i] for i in seq])[::-1]"
   ]
  },
  {
   "cell_type": "code",
   "execution_count": 7,
   "metadata": {
    "collapsed": false
   },
   "outputs": [
    {
     "data": {
      "text/plain": [
       "'GGGGCGGGGG'"
      ]
     },
     "execution_count": 7,
     "metadata": {},
     "output_type": "execute_result"
    }
   ],
   "source": [
    "seq[300115:300115+k]"
   ]
  },
  {
   "cell_type": "code",
   "execution_count": 9,
   "metadata": {
    "collapsed": false
   },
   "outputs": [
    {
     "name": "stdout",
     "output_type": "stream",
     "text": [
      "300115\n"
     ]
    }
   ],
   "source": [
    "D = 1 # number of mismatches\n",
    "\n",
    "def hamming(s1, s2):\n",
    "    '''\n",
    "    Computes Hamming distance between s1 and s2.\n",
    "    '''\n",
    "    if len(s1) != len(s2):\n",
    "        raise ValueError('s1 and s2 must be the same length to compute Hamming distance!')\n",
    "    return sum(ch1 != ch2 for ch1,ch2 in zip(s1, s2))\n",
    "\n",
    "seq_map = {}\n",
    "k = len(pattern)\n",
    "for kmer, pos in [(seq[i:i+k], i) for i in xrange(0, len(seq)-k+1)]:\n",
    "    if hamming(kmer, pattern) <= D:\n",
    "        if kmer in seq_map:\n",
    "            seq_map[kmer].append(pos)\n",
    "        else:\n",
    "            seq_map[kmer] = [pos,]\n",
    "    \n",
    "res = ' '.join([' '.join([str(x) for x in v]) for key,v in seq_map.items()])\n",
    "\n",
    "print(' '.join([str(x) for x in sorted([int(x) for x in res.split()])]))"
   ]
  },
  {
   "cell_type": "code",
   "execution_count": 47,
   "metadata": {
    "collapsed": false
   },
   "outputs": [
    {
     "name": "stdout",
     "output_type": "stream",
     "text": [
      "A A\n",
      "A A\n",
      "A A\n",
      "T T\n",
      "T T\n",
      "T A\n",
      "T T\n",
      "A A\n",
      "A A\n",
      "A T\n"
     ]
    }
   ],
   "source": [
    "s1 = 'AAATTTTAAA'\n",
    "s2 = 'AAATTATAAT'\n",
    "for c1,c2 in zip(s1,s2):\n",
    "    print(c1,c2)"
   ]
  },
  {
   "cell_type": "code",
   "execution_count": null,
   "metadata": {
    "collapsed": true
   },
   "outputs": [],
   "source": []
  }
 ],
 "metadata": {
  "kernelspec": {
   "display_name": "Python 2",
   "language": "python",
   "name": "python2"
  },
  "language_info": {
   "codemirror_mode": {
    "name": "ipython",
    "version": 2
   },
   "file_extension": ".py",
   "mimetype": "text/x-python",
   "name": "python",
   "nbconvert_exporter": "python",
   "pygments_lexer": "ipython2",
   "version": "2.7.9"
  }
 },
 "nbformat": 4,
 "nbformat_minor": 0
}
