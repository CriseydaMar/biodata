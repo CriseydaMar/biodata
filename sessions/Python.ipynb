{
 "cells": [
  {
   "cell_type": "markdown",
   "metadata": {},
   "source": [
    "## Python"
   ]
  },
  {
   "cell_type": "markdown",
   "metadata": {},
   "source": [
    "Dynamically typed language created by Guido van Rossum (BDFL) in mid-90.\n",
    "\n",
    "- code blocks are defined by INDENTATION\n",
    "- everything is an object\n",
    "- everything is a reference\n",
    "- first class functions\n",
    "- garbage collected\n",
    "- batteries included\n",
    "\n",
    "OBJECT:\n",
    "> A data structure that holds both data and actions that can be performed on these data\n",
    "\n",
    "REFERENCE:\n",
    "> A pointer to specific memory location that holds the actual value (object)\n",
    "\n",
    "FIRST-CLASS FUNCTIONS:\n",
    "> Functions (reusable blocks of code that compute something) can be manipulated as any other object\n",
    "\n",
    "BATTERIES:\n",
    "> Python's standard library (things that come with language) and docs _are_ tremendous resources\n",
    "\n",
    "To save later aggravation, set your editors to use 4 spaces indents and _NEVER EVER_ mix tabs and spaces."
   ]
  },
  {
   "cell_type": "code",
   "execution_count": 1,
   "metadata": {
    "collapsed": false
   },
   "outputs": [
    {
     "name": "stdout",
     "output_type": "stream",
     "text": [
      "The Zen of Python, by Tim Peters\n",
      "\n",
      "Beautiful is better than ugly.\n",
      "Explicit is better than implicit.\n",
      "Simple is better than complex.\n",
      "Complex is better than complicated.\n",
      "Flat is better than nested.\n",
      "Sparse is better than dense.\n",
      "Readability counts.\n",
      "Special cases aren't special enough to break the rules.\n",
      "Although practicality beats purity.\n",
      "Errors should never pass silently.\n",
      "Unless explicitly silenced.\n",
      "In the face of ambiguity, refuse the temptation to guess.\n",
      "There should be one-- and preferably only one --obvious way to do it.\n",
      "Although that way may not be obvious at first unless you're Dutch.\n",
      "Now is better than never.\n",
      "Although never is often better than *right* now.\n",
      "If the implementation is hard to explain, it's a bad idea.\n",
      "If the implementation is easy to explain, it may be a good idea.\n",
      "Namespaces are one honking great idea -- let's do more of those!\n"
     ]
    }
   ],
   "source": [
    "import this"
   ]
  },
  {
   "cell_type": "markdown",
   "metadata": {},
   "source": [
    "### The takehome message\n",
    "\n",
    "Python was _designed_ to be concise, high-level multi-paradigm language. You can write Java or C++ like code in python but it'll look ugly. There is a _pythonic_ way of doing things. Often it _is_ the best way, but not always.\n",
    "\n",
    "The tradeoffs:\n",
    "\n",
    "- speed\n",
    "- lack of easy(true) concurrency"
   ]
  },
  {
   "cell_type": "markdown",
   "metadata": {},
   "source": [
    "## Let's dive right in"
   ]
  },
  {
   "cell_type": "code",
   "execution_count": null,
   "metadata": {
    "collapsed": true
   },
   "outputs": [],
   "source": [
    "#import os\n",
    "#import csv\n",
    "#import pandas as pd\n",
    "\n",
    "def parse_pileup(barcode, dirname='../results', track='minus', sample_id='minus'):\n",
    "    pileup = os.path.join(dirname, '{0}_{1}.pileup'.format(barcode, sample_id))\n",
    "    with open(pileup, 'rb') as _pileup:\n",
    "        reader = csv.DictReader(_pileup,\n",
    "                        delimiter='\\t',\n",
    "                        fieldnames=['seqname', 'pos', 'base', 'coverage', 'details', 'qual'])\n",
    "        data = []\n",
    "        for rec in reader:\n",
    "            pos = int(rec['pos'])\n",
    "            last = rec\n",
    "            if pos == 1:\n",
    "                data.append({'pos': 0, 'base': '*',\n",
    "                             track: rec['details'].count('^')})\n",
    "            else:\n",
    "                data.append({'pos': pos-1, 'base': last['base'],\n",
    "                             track: rec['details'].count('^')})\n",
    "    return pd.DataFrame.from_records(data)"
   ]
  },
  {
   "cell_type": "markdown",
   "metadata": {},
   "source": [
    "## Types"
   ]
  },
  {
   "cell_type": "markdown",
   "metadata": {},
   "source": [
    "## Notebook"
   ]
  },
  {
   "cell_type": "markdown",
   "metadata": {},
   "source": [
    "## More than just python"
   ]
  },
  {
   "cell_type": "code",
   "execution_count": null,
   "metadata": {
    "collapsed": true
   },
   "outputs": [],
   "source": []
  }
 ],
 "metadata": {
  "kernelspec": {
   "display_name": "Python 2",
   "language": "python",
   "name": "python2"
  },
  "language_info": {
   "codemirror_mode": {
    "name": "ipython",
    "version": 2
   },
   "file_extension": ".py",
   "mimetype": "text/x-python",
   "name": "python",
   "nbconvert_exporter": "python",
   "pygments_lexer": "ipython2",
   "version": "2.7.9"
  }
 },
 "nbformat": 4,
 "nbformat_minor": 0
}
