{
 "cells": [
  {
   "cell_type": "markdown",
   "metadata": {},
   "source": [
    "# Python"
   ]
  },
  {
   "cell_type": "markdown",
   "metadata": {},
   "source": [
    "Dynamically typed language created by Guido van Rossum (BDFL) in mid-90.\n",
    "\n",
    "- code blocks are defined by INDENTATION\n",
    "- everything is an object\n",
    "- everything is a reference\n",
    "- first class functions\n",
    "- garbage collected\n",
    "- batteries included\n",
    "\n",
    "OBJECT:\n",
    "> A data structure that holds both data and actions that can be performed on these data\n",
    "\n",
    "REFERENCE:\n",
    "> A pointer to specific memory location that holds the actual value (object)\n",
    "\n",
    "FIRST-CLASS FUNCTIONS:\n",
    "> Functions (reusable blocks of code that compute something) can be manipulated as any other object\n",
    "\n",
    "BATTERIES:\n",
    "> Python's standard library (things that come with language) and docs _are_ tremendous resources\n",
    "\n",
    "To save later aggravation, set your editors to use 4 spaces indents and _NEVER EVER_ mix tabs and spaces."
   ]
  },
  {
   "cell_type": "code",
   "execution_count": null,
   "metadata": {
    "collapsed": false
   },
   "outputs": [],
   "source": [
    "import this"
   ]
  },
  {
   "cell_type": "markdown",
   "metadata": {},
   "source": [
    "### The takehome message\n",
    "\n",
    "Python was _designed_ to be concise, high-level multi-paradigm language. You can write Java or C++ like code in python but it'll look ugly. There is a _pythonic_ way of doing things. Often it _is_ the best way, but not always.\n",
    "\n",
    "The tradeoffs:\n",
    "\n",
    "- speed\n",
    "- lack of easy(true) concurrency"
   ]
  },
  {
   "cell_type": "markdown",
   "metadata": {},
   "source": [
    "##Code is written once but read many times"
   ]
  },
  {
   "cell_type": "markdown",
   "metadata": {},
   "source": [
    "###You're collaborating with yourself in the future"
   ]
  },
  {
   "cell_type": "markdown",
   "metadata": {},
   "source": [
    ">**Always code as if the guy who ends up maintaining your code will be a violent psychopath who knows where you live.**\n",
    "\n",
    "_John F Woods_"
   ]
  },
  {
   "cell_type": "markdown",
   "metadata": {},
   "source": [
    "## Let's dive right in"
   ]
  },
  {
   "cell_type": "markdown",
   "metadata": {},
   "source": [
    "Python is interpreted language. When you launch it you find yourself in a python shell which operates the same way as `bash`."
   ]
  },
  {
   "cell_type": "markdown",
   "metadata": {},
   "source": [
    "## Types"
   ]
  },
  {
   "cell_type": "markdown",
   "metadata": {},
   "source": [
    "### Numerical types"
   ]
  },
  {
   "cell_type": "markdown",
   "metadata": {},
   "source": [
    "###`int` - integer"
   ]
  },
  {
   "cell_type": "code",
   "execution_count": null,
   "metadata": {
    "collapsed": false
   },
   "outputs": [],
   "source": [
    "a = 1\n",
    "a"
   ]
  },
  {
   "cell_type": "markdown",
   "metadata": {},
   "source": [
    "###Integer division gotcha (python 2 specific)"
   ]
  },
  {
   "cell_type": "code",
   "execution_count": null,
   "metadata": {
    "collapsed": false
   },
   "outputs": [],
   "source": [
    "b = 2\n",
    "a / b"
   ]
  },
  {
   "cell_type": "code",
   "execution_count": null,
   "metadata": {
    "collapsed": false
   },
   "outputs": [],
   "source": [
    "a / float(b)"
   ]
  },
  {
   "cell_type": "code",
   "execution_count": null,
   "metadata": {
    "collapsed": false
   },
   "outputs": [],
   "source": [
    "float(a) / b"
   ]
  },
  {
   "cell_type": "markdown",
   "metadata": {},
   "source": [
    "###`float` - floating point (real) number\n",
    "\n",
    "In Python this means 64-bit `float`:\n",
    "\n",
    "1-bit fraction + 11-bit exponent + 53-bit fraction"
   ]
  },
  {
   "cell_type": "code",
   "execution_count": null,
   "metadata": {
    "collapsed": false
   },
   "outputs": [],
   "source": [
    "# Float can be written in two ways\n",
    "f = 1.23456\n",
    "g = 1e-8\n",
    "f + g"
   ]
  },
  {
   "cell_type": "markdown",
   "metadata": {},
   "source": [
    "###`complex` - complex number"
   ]
  },
  {
   "cell_type": "code",
   "execution_count": null,
   "metadata": {
    "collapsed": false
   },
   "outputs": [],
   "source": [
    "c = 1j # same as (0 + 1j)\n",
    "i = 1.092 - 2.98003j\n",
    "c - i"
   ]
  },
  {
   "cell_type": "markdown",
   "metadata": {},
   "source": [
    "### Sequence (iterable) types"
   ]
  },
  {
   "cell_type": "markdown",
   "metadata": {},
   "source": [
    "###`str` - string"
   ]
  },
  {
   "cell_type": "code",
   "execution_count": null,
   "metadata": {
    "collapsed": false
   },
   "outputs": [],
   "source": [
    "s = 'I am a Python string. I can be manipulated in many ways.'\n",
    "s"
   ]
  },
  {
   "cell_type": "code",
   "execution_count": null,
   "metadata": {
    "collapsed": false
   },
   "outputs": [],
   "source": [
    "seq = '>RNA\\nAGUUCGAGGCUUAAACGGGCCUUAU'\n",
    "seq"
   ]
  },
  {
   "cell_type": "code",
   "execution_count": null,
   "metadata": {
    "collapsed": false
   },
   "outputs": [],
   "source": [
    "print(seq)"
   ]
  },
  {
   "cell_type": "code",
   "execution_count": null,
   "metadata": {
    "collapsed": false
   },
   "outputs": [],
   "source": [
    "len(s)"
   ]
  },
  {
   "cell_type": "code",
   "execution_count": null,
   "metadata": {
    "collapsed": false
   },
   "outputs": [],
   "source": [
    "print(s[0])\n",
    "print(s[5])"
   ]
  },
  {
   "cell_type": "code",
   "execution_count": null,
   "metadata": {
    "collapsed": false
   },
   "outputs": [],
   "source": [
    "# Strings are immutable!!!\n",
    "s[3] = 'n'"
   ]
  },
  {
   "cell_type": "code",
   "execution_count": null,
   "metadata": {
    "collapsed": false
   },
   "outputs": [],
   "source": [
    "# Let's have a look inside:\n",
    "print(dir(s))"
   ]
  },
  {
   "cell_type": "code",
   "execution_count": null,
   "metadata": {
    "collapsed": false
   },
   "outputs": [],
   "source": [
    "s.split()"
   ]
  },
  {
   "cell_type": "code",
   "execution_count": null,
   "metadata": {
    "collapsed": false
   },
   "outputs": [],
   "source": [
    "s.split('p')"
   ]
  },
  {
   "cell_type": "code",
   "execution_count": null,
   "metadata": {
    "collapsed": false
   },
   "outputs": [],
   "source": [
    "s.upper()"
   ]
  },
  {
   "cell_type": "code",
   "execution_count": null,
   "metadata": {
    "collapsed": false
   },
   "outputs": [],
   "source": [
    "seq.split()"
   ]
  },
  {
   "cell_type": "code",
   "execution_count": null,
   "metadata": {
    "collapsed": false
   },
   "outputs": [],
   "source": [
    "# Unpacking\n",
    "name, seq = seq.split()\n",
    "print('Name: {}\\tSequence: {}'.format(name,seq))"
   ]
  },
  {
   "cell_type": "code",
   "execution_count": null,
   "metadata": {
    "collapsed": false
   },
   "outputs": [],
   "source": [
    "'               i am  a really    stupid    long string   '.strip()"
   ]
  },
  {
   "cell_type": "code",
   "execution_count": null,
   "metadata": {
    "collapsed": false
   },
   "outputs": [],
   "source": [
    "sl = s.split()\n",
    "print('\\t'.join(sl))"
   ]
  },
  {
   "cell_type": "markdown",
   "metadata": {},
   "source": [
    "###`list` - (ordered) collection of elements"
   ]
  },
  {
   "cell_type": "code",
   "execution_count": null,
   "metadata": {
    "collapsed": false
   },
   "outputs": [],
   "source": [
    "sl, len(sl)"
   ]
  },
  {
   "cell_type": "code",
   "execution_count": null,
   "metadata": {
    "collapsed": false
   },
   "outputs": [],
   "source": [
    "print(dir(sl))"
   ]
  },
  {
   "cell_type": "code",
   "execution_count": null,
   "metadata": {
    "collapsed": false
   },
   "outputs": [],
   "source": [
    "sl.append('another')\n",
    "sl"
   ]
  },
  {
   "cell_type": "code",
   "execution_count": null,
   "metadata": {
    "collapsed": false
   },
   "outputs": [],
   "source": [
    "sl.extend(['another', 'item'])\n",
    "sl"
   ]
  },
  {
   "cell_type": "code",
   "execution_count": null,
   "metadata": {
    "collapsed": false
   },
   "outputs": [],
   "source": [
    "# Lists are mutable!!!\n",
    "lst = ['item', 1, 2, 'another item']\n",
    "lst1 = lst\n",
    "print(lst1)\n",
    "\n",
    "lst.append('add to lst')\n",
    "print(lst1)"
   ]
  },
  {
   "cell_type": "code",
   "execution_count": null,
   "metadata": {
    "collapsed": false
   },
   "outputs": [],
   "source": [
    "# Lists are ordered and iterable:\n",
    "\n",
    "for item in lst:\n",
    "    print(item)"
   ]
  },
  {
   "cell_type": "code",
   "execution_count": null,
   "metadata": {
    "collapsed": false
   },
   "outputs": [],
   "source": [
    "# Don't do this:\n",
    "for i in range(len(lst)):\n",
    "    print(lst[i])\n",
    "    \n",
    "# If you need index of each element:\n",
    "for ind,item in enumerate(lst):\n",
    "    print(ind, item)"
   ]
  },
  {
   "cell_type": "code",
   "execution_count": null,
   "metadata": {
    "collapsed": false
   },
   "outputs": [],
   "source": [
    "# To check that an element is in list:\n",
    "\n",
    "print('item' in lst)\n",
    "print('Item' in lst)\n",
    "\n",
    "if 'item' in lst:\n",
    "    print('Item in list!')\n",
    "else:\n",
    "    print('Not in list')"
   ]
  },
  {
   "cell_type": "markdown",
   "metadata": {
    "collapsed": true
   },
   "source": [
    "###`tuple` is a immutable list"
   ]
  },
  {
   "cell_type": "code",
   "execution_count": null,
   "metadata": {
    "collapsed": false
   },
   "outputs": [],
   "source": [
    "t = ('name', 'position')\n",
    "name, position = t\n",
    "print(name, position)"
   ]
  },
  {
   "cell_type": "code",
   "execution_count": null,
   "metadata": {
    "collapsed": false
   },
   "outputs": [],
   "source": [
    "# From the earlier example:\n",
    "r1 = range(10)\n",
    "r2 = range(0, 100, 10)\n",
    "for i1,i2 in zip(r1,r2):\n",
    "    print(i1,i2)"
   ]
  },
  {
   "cell_type": "markdown",
   "metadata": {},
   "source": [
    "DIFFERENCE FROM ARRAYS:\n",
    ">Elements of list do not need to be of the same type"
   ]
  },
  {
   "cell_type": "markdown",
   "metadata": {},
   "source": [
    "###`sets`  - unordered collections of unique elements"
   ]
  },
  {
   "cell_type": "code",
   "execution_count": null,
   "metadata": {
    "collapsed": false
   },
   "outputs": [],
   "source": [
    "sl"
   ]
  },
  {
   "cell_type": "code",
   "execution_count": null,
   "metadata": {
    "collapsed": false
   },
   "outputs": [],
   "source": [
    "set(sl)"
   ]
  },
  {
   "cell_type": "code",
   "execution_count": null,
   "metadata": {
    "collapsed": true
   },
   "outputs": [],
   "source": [
    "# Nice optimization trick:\n",
    "huge_list = range(1000000)\n",
    "huge_set = set(huge_list)\n",
    "\n",
    "def check_list(elem):\n",
    "    return elem in huge_list\n",
    "\n",
    "def check_set(elem):\n",
    "    return elem in huge_set\n",
    "\n",
    "# And let's refactor this into one function and talk about variable scopes"
   ]
  },
  {
   "cell_type": "code",
   "execution_count": null,
   "metadata": {
    "collapsed": false
   },
   "outputs": [],
   "source": [
    "%timeit check_list(10000)"
   ]
  },
  {
   "cell_type": "code",
   "execution_count": null,
   "metadata": {
    "collapsed": false
   },
   "outputs": [],
   "source": [
    "%timeit check_set(10000)"
   ]
  },
  {
   "cell_type": "markdown",
   "metadata": {},
   "source": [
    "###`dictionary` - key/value pairs"
   ]
  },
  {
   "cell_type": "markdown",
   "metadata": {},
   "source": [
    "AKA hashtable, associative array. In general, mapping type."
   ]
  },
  {
   "cell_type": "code",
   "execution_count": null,
   "metadata": {
    "collapsed": false
   },
   "outputs": [],
   "source": [
    "d = {'key1': 1, 'key2': 20, 'key3': 345}\n",
    "d"
   ]
  },
  {
   "cell_type": "markdown",
   "metadata": {},
   "source": [
    "`key` can be any *hashable* type. What it means in practical terms is that it must be immutable."
   ]
  },
  {
   "cell_type": "code",
   "execution_count": null,
   "metadata": {
    "collapsed": false
   },
   "outputs": [],
   "source": [
    "print(dir(d))"
   ]
  },
  {
   "cell_type": "markdown",
   "metadata": {},
   "source": [
    "###`dict` is mutable!"
   ]
  },
  {
   "cell_type": "code",
   "execution_count": null,
   "metadata": {
    "collapsed": false
   },
   "outputs": [],
   "source": [
    "d.pop('key1')\n",
    "print(d)\n",
    "# Note also that dict is unordered"
   ]
  },
  {
   "cell_type": "code",
   "execution_count": null,
   "metadata": {
    "collapsed": true
   },
   "outputs": [],
   "source": [
    "# Assignment\n",
    "d['key1'] = 101\n",
    "d['key2'] = 202\n",
    "d"
   ]
  },
  {
   "cell_type": "code",
   "execution_count": null,
   "metadata": {
    "collapsed": false
   },
   "outputs": [],
   "source": [
    "# Membership test operates on keys\n",
    "print('key3' in d)\n",
    "print('key4' in d)"
   ]
  },
  {
   "cell_type": "code",
   "execution_count": null,
   "metadata": {
    "collapsed": false
   },
   "outputs": [],
   "source": [
    "# Looping over key:value pairs\n",
    "\n",
    "for key,val in d.items():\n",
    "    print(key,val)"
   ]
  },
  {
   "cell_type": "markdown",
   "metadata": {},
   "source": [
    "###Working with files. "
   ]
  },
  {
   "cell_type": "code",
   "execution_count": null,
   "metadata": {
    "collapsed": true
   },
   "outputs": [],
   "source": [
    "# This works but is not good\n",
    "\n",
    "fh = open('myfile.txt', 'r')\n",
    "for line in fh:\n",
    "    # Do something\n",
    "fh.close()"
   ]
  },
  {
   "cell_type": "code",
   "execution_count": null,
   "metadata": {
    "collapsed": true
   },
   "outputs": [],
   "source": [
    "# Better way (context manager)\n",
    "\n",
    "with open('myfile.txt', 'r') as fh:\n",
    "    for line in fh:\n",
    "        # Do something\n",
    "# Do something else. At this point fh.close() will be called automatically"
   ]
  },
  {
   "cell_type": "code",
   "execution_count": null,
   "metadata": {
    "collapsed": true
   },
   "outputs": [],
   "source": [
    "# We can also work with gzipped files\n",
    "import gzip\n",
    "\n",
    "with gzip.open('myfile.gz', 'rb') as fh: # Note 'rb' as file opening mode\n",
    "    for line in fh:\n",
    "        # Do something"
   ]
  },
  {
   "cell_type": "markdown",
   "metadata": {},
   "source": [
    "##Standard library\n",
    "\n",
    "Python has expansive standard library and comprehensive, accessible documentation complete with examples. Some of the must-know modules:\n",
    "\n",
    "- `collections`\n",
    "- `itertools`\n",
    "- `os` and particularly `os.path`\n",
    "- `re`"
   ]
  },
  {
   "cell_type": "markdown",
   "metadata": {},
   "source": [
    "## Comparisons\n",
    "\n",
    "In comparison operations each operand is first cast to `boolean`.\n",
    "\n",
    "The `boolean` type is a subclass of `int` (`False ~ 0, True ~ 1`) mainly for historical reasons."
   ]
  },
  {
   "cell_type": "code",
   "execution_count": 2,
   "metadata": {
    "collapsed": false
   },
   "outputs": [
    {
     "name": "stdout",
     "output_type": "stream",
     "text": [
      "a is True!\n",
      "b is False!\n"
     ]
    }
   ],
   "source": [
    "a = 1\n",
    "b = 0\n",
    "if a:\n",
    "    print('a is True!')\n",
    "if not b:\n",
    "    print('b is False!')"
   ]
  },
  {
   "cell_type": "code",
   "execution_count": 5,
   "metadata": {
    "collapsed": false
   },
   "outputs": [
    {
     "name": "stdout",
     "output_type": "stream",
     "text": [
      "s1 and s2 are different\n",
      "s1 and s2 are not the same thing!\n"
     ]
    }
   ],
   "source": [
    "s1 = 'Fox'\n",
    "s2 = 'Dog'\n",
    "\n",
    "# Equality check\n",
    "if s1 != s2:\n",
    "    print('s1 and s2 are different')\n",
    "    \n",
    "# Identity check\n",
    "if s1 is s2:\n",
    "    pass\n",
    "else:\n",
    "    print('s1 and s2 are not the same thing!')"
   ]
  },
  {
   "cell_type": "code",
   "execution_count": 6,
   "metadata": {
    "collapsed": false
   },
   "outputs": [
    {
     "name": "stdout",
     "output_type": "stream",
     "text": [
      "s1 and s2 POINT to the same thing\n"
     ]
    }
   ],
   "source": [
    "s2 = s1\n",
    "\n",
    "# Identity check\n",
    "if s1 is s2:\n",
    "    print('s1 and s2 POINT to the same thing')\n",
    "else:\n",
    "    print('s1 and s2 are not the same thing!')"
   ]
  },
  {
   "cell_type": "code",
   "execution_count": 3,
   "metadata": {
    "collapsed": false
   },
   "outputs": [
    {
     "name": "stdout",
     "output_type": "stream",
     "text": [
      "a and b are equal!\n"
     ]
    }
   ],
   "source": [
    "# This however doesn't work for integers\n",
    "b = 1\n",
    "if a == b:\n",
    "    print('a and b are equal!')\n",
    "    \n",
    "if a is b:\n",
    "    print('a and b are not the same thing!')\n",
    "    \n",
    "# Implementation detail: integers from -5 to ~256 are cached (singletons)"
   ]
  },
  {
   "cell_type": "code",
   "execution_count": 7,
   "metadata": {
    "collapsed": false
   },
   "outputs": [
    {
     "name": "stdout",
     "output_type": "stream",
     "text": [
      "One of the lists is empty.\n"
     ]
    }
   ],
   "source": [
    "# Empty sequence types evaluate to False, non-empty ones to True\n",
    "lst1 = []\n",
    "lst2 = ['a']\n",
    "\n",
    "if lst1 and lst2:\n",
    "    print('Both lists are non-empty.')\n",
    "else:\n",
    "    print('One of the lists is empty.')"
   ]
  },
  {
   "cell_type": "code",
   "execution_count": null,
   "metadata": {
    "collapsed": true
   },
   "outputs": [],
   "source": [
    "# Another singleton\n",
    "a = None"
   ]
  },
  {
   "cell_type": "markdown",
   "metadata": {},
   "source": [
    "## Example"
   ]
  },
  {
   "cell_type": "code",
   "execution_count": null,
   "metadata": {
    "collapsed": true
   },
   "outputs": [],
   "source": [
    "import os\n",
    "import csv\n",
    "import gzip\n",
    "import pandas as pd\n",
    "\n",
    "def parse_pileup(barcode, dirname='../results', track='minus', sample_id='minus'):\n",
    "    filename = os.path.join(dirname, '{0}_{1}.pileup'.format(barcode, sample_id))\n",
    "    with gzip.open(pileup, 'rb') as pileup:\n",
    "        reader = csv.DictReader(pileup,\n",
    "                        delimiter='\\t',\n",
    "                        fieldnames=['seqname', 'pos', 'base', 'coverage', 'details', 'qual'])\n",
    "        data = []\n",
    "        for rec in reader:\n",
    "            pos = int(rec['pos'])\n",
    "            last = rec\n",
    "            if pos == 1:\n",
    "                data.append({'pos': 0, 'base': '*',\n",
    "                             track: rec['details'].count('^')})\n",
    "            else:\n",
    "                data.append({'pos': pos-1, 'base': last['base'],\n",
    "                             track: rec['details'].count('^')})\n",
    "    return pd.DataFrame.from_records(data)"
   ]
  },
  {
   "cell_type": "markdown",
   "metadata": {},
   "source": [
    "## Assignment\n",
    "\n",
    "Do the summary of E.coli `.gff` file in python\n",
    "\n",
    "EXTRA CREDIT:\n",
    ">Find all occurences of the sequence `GGGGCGGGGG` in E.coli genome\n",
    "\n",
    "EXTRA EXTRA CREDIT:\n",
    ">Find all _almost_ exact occurences of the same sequence in E.coli genome (ftp://ftp.ncbi.nlm.nih.gov/genomes/all/GCF_000005845.2_ASM584v2/GCF_000005845.2_ASM584v2_genomic.fna.gz)"
   ]
  },
  {
   "cell_type": "code",
   "execution_count": null,
   "metadata": {
    "collapsed": true
   },
   "outputs": [],
   "source": []
  }
 ],
 "metadata": {
  "kernelspec": {
   "display_name": "Python 2",
   "language": "python",
   "name": "python2"
  },
  "language_info": {
   "codemirror_mode": {
    "name": "ipython",
    "version": 2
   },
   "file_extension": ".py",
   "mimetype": "text/x-python",
   "name": "python",
   "nbconvert_exporter": "python",
   "pygments_lexer": "ipython2",
   "version": "2.7.9"
  }
 },
 "nbformat": 4,
 "nbformat_minor": 0
}
