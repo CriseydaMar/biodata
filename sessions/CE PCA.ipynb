{
 "cells": [
  {
   "cell_type": "code",
   "execution_count": null,
   "metadata": {
    "collapsed": true
   },
   "outputs": [],
   "source": [
    "%matplotlib inline"
   ]
  },
  {
   "cell_type": "code",
   "execution_count": null,
   "metadata": {
    "collapsed": true
   },
   "outputs": [],
   "source": [
    "import pandas as pd\n",
    "import numpy as np\n",
    "import csv\n",
    "from sklearn.preprocessing import StandardScaler\n",
    "from sklearn.decomposition import PCA as sklearnPCA\n",
    "from ggplot import *"
   ]
  },
  {
   "cell_type": "code",
   "execution_count": null,
   "metadata": {},
   "outputs": [],
   "source": [
    "!head ../data/CE_exp.umi.tab"
   ]
  },
  {
   "cell_type": "code",
   "execution_count": null,
   "metadata": {},
   "outputs": [],
   "source": [
    "ce = pd.read_csv('../data/CE_exp.umi.tab', sep='\\t', skipfooter=5)\n",
    "ce"
   ]
  },
  {
   "cell_type": "code",
   "execution_count": null,
   "metadata": {},
   "outputs": [],
   "source": [
    "X_std = StandardScaler().fit_transform(ce.ix[:,1:].values.T)\n",
    "X_std"
   ]
  },
  {
   "cell_type": "code",
   "execution_count": null,
   "metadata": {},
   "outputs": [],
   "source": [
    "sklearn_pca = sklearnPCA(n_components=5)\n",
    "Y_sklearn = sklearn_pca.fit_transform(X_std)\n",
    "Y_sklearn"
   ]
  },
  {
   "cell_type": "code",
   "execution_count": null,
   "metadata": {},
   "outputs": [],
   "source": [
    "sklearn_pca.explained_variance_"
   ]
  },
  {
   "cell_type": "code",
   "execution_count": null,
   "metadata": {},
   "outputs": [],
   "source": [
    "sklearn_pca.explained_variance_ratio_"
   ]
  },
  {
   "cell_type": "code",
   "execution_count": null,
   "metadata": {},
   "outputs": [],
   "source": [
    "pca_df = pd.DataFrame()\n",
    "pca_df['sample'] = ['CE_%i' % (x+1) for x in range(10)]\n",
    "pca_df['PCA1'] = 0\n",
    "pca_df['PCA2'] = 0\n",
    "\n",
    "for i in range(Y_sklearn.shape[0]):\n",
    "    pca_df.ix[i, 'PCA1'] = Y_sklearn[i,0]\n",
    "    pca_df.ix[i, 'PCA2'] = Y_sklearn[i,1]\n",
    "\n",
    "g = ggplot(pca_df, aes(x='PCA1', y='PCA2', color='sample')) \\\n",
    "    + geom_point(size=10)\n",
    "print(g)"
   ]
  },
  {
   "cell_type": "code",
   "execution_count": null,
   "metadata": {},
   "outputs": [],
   "source": [
    "pca_df = pd.DataFrame()\n",
    "pca_df['sample'] = ['CE_%i' % (x+1) for x in range(10)]\n",
    "pca_df['PCA2'] = 0\n",
    "pca_df['PCA3'] = 0\n",
    "\n",
    "for i in range(Y_sklearn.shape[0]):\n",
    "    pca_df.ix[i, 'PCA1'] = Y_sklearn[i,0]\n",
    "    pca_df.ix[i, 'PCA3'] = Y_sklearn[i,2]\n",
    "\n",
    "g = ggplot(pca_df, aes(x='PCA1', y='PCA3', color='sample')) \\\n",
    "    + geom_point(size=10)\n",
    "print(g)"
   ]
  },
  {
   "cell_type": "code",
   "execution_count": null,
   "metadata": {},
   "outputs": [],
   "source": [
    "pca_df = pd.DataFrame()\n",
    "pca_df['sample'] = ['CE_%i' % (x+1) for x in range(10)]\n",
    "pca_df['PCA2'] = 0\n",
    "pca_df['PCA4'] = 0\n",
    "\n",
    "for i in range(Y_sklearn.shape[0]):\n",
    "    pca_df.ix[i, 'PCA1'] = Y_sklearn[i,0]\n",
    "    pca_df.ix[i, 'PCA4'] = Y_sklearn[i,3]\n",
    "\n",
    "g = ggplot(pca_df, aes(x='PCA1', y='PCA4', color='sample')) \\\n",
    "    + geom_point(size=10)\n",
    "print(g)"
   ]
  },
  {
   "cell_type": "code",
   "execution_count": null,
   "metadata": {},
   "outputs": [],
   "source": [
    "ce.ix[ce.ix[:,1:].mean(axis=1)>500,:]"
   ]
  },
  {
   "cell_type": "code",
   "execution_count": null,
   "metadata": {
    "collapsed": true
   },
   "outputs": [],
   "source": []
  }
 ],
 "metadata": {
  "kernelspec": {
   "display_name": "Python 3",
   "language": "python",
   "name": "python3"
  },
  "language_info": {
   "codemirror_mode": {
    "name": "ipython",
    "version": 3
   },
   "file_extension": ".py",
   "mimetype": "text/x-python",
   "name": "python",
   "nbconvert_exporter": "python",
   "pygments_lexer": "ipython3",
   "version": "3.5.2"
  }
 },
 "nbformat": 4,
 "nbformat_minor": 2
}
