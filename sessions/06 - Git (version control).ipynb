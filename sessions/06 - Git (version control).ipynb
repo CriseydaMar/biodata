{
 "cells": [
  {
   "cell_type": "markdown",
   "metadata": {},
   "source": [
    "## Install"
   ]
  },
  {
   "cell_type": "markdown",
   "metadata": {},
   "source": [
    "On linux:\n",
    "\n",
    "```\n",
    "$ sudo apt install git\n",
    "```\n",
    "\n",
    "On Mac/Windows probably better to use `conda` / `anaconda`. Mac system version is outdated."
   ]
  },
  {
   "cell_type": "markdown",
   "metadata": {},
   "source": [
    "## Configuration"
   ]
  },
  {
   "cell_type": "markdown",
   "metadata": {},
   "source": [
    "At the very minimum:\n",
    "\n",
    "```\n",
    "$ git config --global user.name \"Vasya Pupkin\"\n",
    "$ git config --global user.email \"vasya.pupkin@russianhackers.org\"\n",
    "```\n",
    "\n",
    "probably makes sense to set the default editor for commit messages:\n",
    "\n",
    "```\n",
    "$ git config --global core.editor vim\n",
    "```"
   ]
  },
  {
   "cell_type": "markdown",
   "metadata": {},
   "source": [
    "## Initialize repository"
   ]
  },
  {
   "cell_type": "markdown",
   "metadata": {},
   "source": [
    "Initialize:\n",
    "\n",
    "```\n",
    "$ git init\n",
    "$ ls -lah\n",
    "```\n",
    "\n",
    "Note `.git` directory. That's where all the magic lives.\n",
    "\n",
    "\n",
    "Add stuff to the repo.\n",
    "\n",
    "```\n",
    "$ git add .\n",
    "```\n",
    "\n",
    "Can be more specific here (`git add *.py`).\n",
    "\n",
    "Let's look at the state of the repository.\n",
    "\n",
    "```\n",
    "$ git status\n",
    "```\n",
    "\n",
    "And now commit the changes.\n",
    "\n",
    "```\n",
    "$ git commit -a -m \"Initial commit\"\n",
    "```"
   ]
  },
  {
   "cell_type": "markdown",
   "metadata": {},
   "source": [
    "## File states as tracked by `git`"
   ]
  },
  {
   "cell_type": "markdown",
   "metadata": {},
   "source": [
    "Every file in a repository can be in one of three states: commited, staged, modified.\n",
    "\n",
    "```\n",
    "Working dir                Staging                  Repository\n",
    "   <--------------------- checkout ----------------------|\n",
    "   |------ stage (add) ------->\n",
    "                              |--------- commit --------->\n",
    "```|"
   ]
  },
  {
   "cell_type": "markdown",
   "metadata": {},
   "source": [
    "## Cloning"
   ]
  },
  {
   "cell_type": "markdown",
   "metadata": {},
   "source": [
    "All the above repo creation steps can be done on `github.com`.\n",
    "When creating a new repo make sure to include LICENSE otherwise the default copyright will apply which means \"all rights reserved\".\n",
    "\n",
    "Then the remote repo (on any server) can be copied via `clone` command:\n",
    "\n",
    "```\n",
    "$ git clone https://github.com/eco32i/biodata.git\n",
    "```\n",
    "\n",
    "This will create a new directory `biodata`, set up a new `git` repo in it (`.git` directory), point to the remote address and retrieve the latest version of the code from the remote."
   ]
  },
  {
   "cell_type": "markdown",
   "metadata": {},
   "source": [
    "## Workflow"
   ]
  },
  {
   "cell_type": "markdown",
   "metadata": {},
   "source": [
    "What happens to a file in the repo:\n",
    "\n",
    "* when you edit a (tracked) file, `git` flags it \"modified\"\n",
    "* this \"stages\" file for commit\n",
    "* when you commit, all staged changes are recorded in the repo and \"modified\" files are unflagged\n",
    "\n",
    "Use `status` command to check the state of your repo:\n",
    "\n",
    "```\n",
    "$ git status\n",
    "```\n",
    "\n",
    "Aside: `HEAD` always points to the latest commit (unless it's detached).\n",
    "\n",
    "Push your changes to the remote:\n",
    "\n",
    "```\n",
    "$ git push origin master\n",
    "```"
   ]
  },
  {
   "cell_type": "markdown",
   "metadata": {},
   "source": [
    "## Remotes"
   ]
  },
  {
   "cell_type": "markdown",
   "metadata": {},
   "source": [
    "Repo can have as many remotes as one wishes:\n",
    "\n",
    "```\n",
    "$ git remote -v\n",
    "```\n",
    "\n",
    "To add a remote:\n",
    "\n",
    "```\n",
    "$ git remote add upstream https://github.com/vasyapupkin/project\n",
    "```\n",
    "\n",
    "Now to fetch the content of a remote, use `fetch` command:\n",
    "\n",
    "```\n",
    "$ git fetch [remote-name]\n",
    "```\n",
    "\n",
    "Note that this will not change your working directory (won't do merge).\n",
    "\n",
    "To push your changes to a remote:\n",
    "\n",
    "```\n",
    "$ git push [remote-name] [branch-name]\n",
    "```\n"
   ]
  },
  {
   "cell_type": "markdown",
   "metadata": {},
   "source": [
    "## Undoing and reverting"
   ]
  },
  {
   "cell_type": "markdown",
   "metadata": {},
   "source": [
    "If you want to checkout or pull a remote and have uncommitted changes:\n",
    "\n",
    "```\n",
    "$ git stash\n",
    "```\n",
    "\n",
    "This will temporarily hide your changes. To restpore them:\n",
    "\n",
    "```\n",
    "$ git stash apply\n",
    "```"
   ]
  },
  {
   "cell_type": "markdown",
   "metadata": {},
   "source": [
    "### Fix commit mistakes"
   ]
  },
  {
   "cell_type": "markdown",
   "metadata": {},
   "source": [
    "Say, you forgot to include a new file into your last commit:\n",
    "\n",
    "```\n",
    "$ git commit --amend\n",
    "```\n",
    "\n",
    "Unstaging file:\n",
    "\n",
    "```\n",
    "\n",
    "$ git reset HEAD index.ipynb\n",
    "Unstaged changes after reset:\n",
    "M index.html\n",
    "```\n",
    "\n",
    "Undo a commit:\n",
    "\n",
    "```\n",
    "$ git revert HEAD\n",
    "```\n",
    "\n",
    "This will only work for the last commit.\n",
    "\n",
    "To switch to a different commit:\n",
    "\n",
    "\n",
    "First identify the commit you want to revert to\n",
    "\n",
    "```\n",
    "$ git log\n",
    "```\n",
    "\n",
    "To temporarily switch to a commit (pro-tip: use Tab-completion)\n",
    "\n",
    "```\n",
    "$ git checkout [commit-hash]\n",
    "```\n",
    "\n",
    "Same but checkout old commit as a branch\n",
    "\n",
    "```\n",
    "$ git checkout -b old-state [commit-hash]\n",
    "```\n",
    "\n",
    "To toss everything since the old commit\n",
    "\n",
    "```\n",
    "$ git reset --hard [commit-hash]\n",
    "```\n",
    "\n",
    "If you want to keep your work\n",
    "```\n",
    "$ git stash\n",
    "$ git reset --hard [commit-hash]\n",
    "$ git stash pop\n",
    "```\n",
    "\n",
    "Undo published commits: you probably don't want to reset the branch, since that's effectively rewriting history. In that case, you could revert the commits. With Git, revert has a very specific meaning: create a commit with the reverse patch to cancel it out. This way you don't rewrite any history.\n",
    "```\n",
    "# This will create three separate revert commits:\n",
    "$ git revert a867b4af 25eee4ca 0766c053\n",
    "\n",
    "# It also takes ranges. This will revert the last two commits:\n",
    "$ git revert HEAD~2..HEAD\n",
    "\n",
    "# Then commit. Be sure and write a good message describing what you just did\n",
    "$ git commit\n",
    "```"
   ]
  },
  {
   "cell_type": "markdown",
   "metadata": {},
   "source": [
    "## Branching"
   ]
  },
  {
   "cell_type": "markdown",
   "metadata": {},
   "source": [
    "Branches are cheap and easy. Always do branches! They are also integral part of `github workflow`.\n",
    "\n",
    "To create and checkout a new branch:\n",
    "```\n",
    "$ git checkout -b test\n",
    "```\n",
    "\n",
    "To list all branches:\n",
    "```\n",
    "$ git branch\n",
    "```\n",
    "\n",
    "Generally all development should happen in branches, `master` branch should be for the stable production code."
   ]
  },
  {
   "cell_type": "markdown",
   "metadata": {},
   "source": [
    "## Github workflow\n",
    "\n",
    "* (fork the project)\n",
    "* create a branch\n",
    "* add commits\n",
    "* open a pull request\n",
    "* discuss\n",
    "* deploy (check your branch code in production)\n",
    "* merge"
   ]
  },
  {
   "cell_type": "markdown",
   "metadata": {},
   "source": [
    "## Merging"
   ]
  },
  {
   "cell_type": "markdown",
   "metadata": {},
   "source": [
    "### Fast-forward merging\n",
    "\n",
    "The `HEAD` moves to the most recent commit in the branch being merged in. Only works if there is no divergent work in that branch.\n",
    "```\n",
    "$ git checkout master\n",
    "$ git merge test\n",
    "```\n",
    "\n",
    "You can explicitly disable Fast-forward. In that case a new commit object will be created.\n",
    "```\n",
    "$ git merge test --no-ff\n",
    "```\n",
    "\n",
    "### Three-way Merge\n",
    "\n",
    "If the branches have diverged the three-way merge is done: a new snapshot created from the most recent commits in each branch and a new commit that points to it.\n",
    "\n",
    "### Merge conflicts\n",
    "\n",
    "If automatic three-way merge fails, the conflicts must be resolved manually. Use `status` command to identify files that need fixing:\n",
    "```\n",
    "$ git status\n",
    "# On branch master\n",
    "# Unmerged paths:\n",
    "# (use “git add/rm …” as appropriate to mark resolution)\n",
    "#\n",
    "# both modified: index.html\n",
    "#\n",
    "\n",
    "$ git diff master test\n",
    "```\n",
    "\n",
    "Then edit those files (they will have conflict markers in places that failed to merge):\n",
    "```\n",
    "My name is\n",
    " <<<<<<< HEAD\n",
    " Jane\n",
    " =======\n",
    " Mary\n",
    " >>>>>>> branch-test\n",
    "```\n",
    "\n",
    "Edit each of the conflicting files, then use `git add <filename>` to mark them as resolved"
   ]
  },
  {
   "cell_type": "markdown",
   "metadata": {},
   "source": [
    "## Rebasing"
   ]
  },
  {
   "cell_type": "markdown",
   "metadata": {},
   "source": [
    "Use case: you created a topic branch and started working on it. In the meantime others updated master. You want to stay on your topic branch and keep working on it but you want it to incorporate latest changes from master.\n",
    "```\n",
    "$ git checkout test\n",
    "... do some work ...\n",
    "$ git fetch master\n",
    "$ git rebase master\n",
    "```\n",
    "\n",
    "This rewrites the history by replaying all commits from one branch (master) on another (test)."
   ]
  },
  {
   "cell_type": "code",
   "execution_count": null,
   "metadata": {
    "collapsed": true
   },
   "outputs": [],
   "source": []
  }
 ],
 "metadata": {
  "kernelspec": {
   "display_name": "Bash",
   "language": "bash",
   "name": "bash"
  },
  "language_info": {
   "codemirror_mode": "shell",
   "file_extension": ".sh",
   "mimetype": "text/x-sh",
   "name": "bash"
  }
 },
 "nbformat": 4,
 "nbformat_minor": 2
}
