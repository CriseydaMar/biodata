{
 "cells": [
  {
   "cell_type": "markdown",
   "metadata": {},
   "source": [
    "Taken from Steven Turner's [Template for analysis with DESeq2](https://gist.github.com/stephenturner/f60c1934405c127f09a6) and slightly modified for my usecase/jupyter format."
   ]
  },
  {
   "cell_type": "markdown",
   "metadata": {},
   "source": [
    "## Install `DESeq2` if needed"
   ]
  },
  {
   "cell_type": "code",
   "execution_count": null,
   "metadata": {
    "collapsed": true
   },
   "outputs": [],
   "source": [
    "source(\"https://bioconductor.org/biocLite.R\")\n",
    "biocLite(\"DESeq2\")"
   ]
  },
  {
   "cell_type": "code",
   "execution_count": null,
   "metadata": {
    "collapsed": true
   },
   "outputs": [],
   "source": [
    "library(DESeq2)"
   ]
  },
  {
   "cell_type": "code",
   "execution_count": null,
   "metadata": {
    "collapsed": true
   },
   "outputs": [],
   "source": [
    "install.packages(\"calibrate\")"
   ]
  },
  {
   "cell_type": "code",
   "execution_count": null,
   "metadata": {
    "collapsed": true
   },
   "outputs": [],
   "source": [
    "install.packages(\"gplots\")"
   ]
  },
  {
   "cell_type": "markdown",
   "metadata": {},
   "source": [
    "## Read in count data and set up the matrix for `DESeq`\n",
    "\n",
    "In this case `data.csv` is assumed to be produced by `htseq-count` or similar."
   ]
  },
  {
   "cell_type": "code",
   "execution_count": null,
   "metadata": {
    "scrolled": true
   },
   "outputs": [],
   "source": [
    "countdata = read.csv('data.csv', header=TRUE, row.names=1)\n",
    "countdata = as.matrix(countdata)\n",
    "head(countdata)"
   ]
  },
  {
   "cell_type": "markdown",
   "metadata": {},
   "source": [
    "Experimental conditions and number of replicates"
   ]
  },
  {
   "cell_type": "code",
   "execution_count": null,
   "metadata": {},
   "outputs": [],
   "source": [
    "(condition = factor(c(rep(\"control\",3), rep(\"treatment\",3))))"
   ]
  },
  {
   "cell_type": "code",
   "execution_count": null,
   "metadata": {},
   "outputs": [],
   "source": [
    "(coldata = data.frame(row.names=colnames(countdata), condition))"
   ]
  },
  {
   "cell_type": "markdown",
   "metadata": {},
   "source": [
    "## Create `DESeq` object and fit the model"
   ]
  },
  {
   "cell_type": "code",
   "execution_count": null,
   "metadata": {},
   "outputs": [],
   "source": [
    "dds = DESeqDataSetFromMatrix(countData=countdata, colData=coldata, design=~condition)\n",
    "dds"
   ]
  },
  {
   "cell_type": "code",
   "execution_count": null,
   "metadata": {},
   "outputs": [],
   "source": [
    "dds = DESeq(dds)"
   ]
  },
  {
   "cell_type": "markdown",
   "metadata": {},
   "source": [
    "## Plot dispersions"
   ]
  },
  {
   "cell_type": "code",
   "execution_count": null,
   "metadata": {},
   "outputs": [],
   "source": [
    "plotDispEsts(dds, main=\"Dispersion plot\")"
   ]
  },
  {
   "cell_type": "markdown",
   "metadata": {},
   "source": [
    "## Regularized log transform for heatmaps/clustering plots"
   ]
  },
  {
   "cell_type": "code",
   "execution_count": null,
   "metadata": {
    "collapsed": true
   },
   "outputs": [],
   "source": [
    "rld = rlogTransformation(dds)"
   ]
  },
  {
   "cell_type": "code",
   "execution_count": null,
   "metadata": {},
   "outputs": [],
   "source": [
    "head(assay(rld))"
   ]
  },
  {
   "cell_type": "code",
   "execution_count": null,
   "metadata": {},
   "outputs": [],
   "source": [
    "hist(assay(rld))"
   ]
  },
  {
   "cell_type": "code",
   "execution_count": null,
   "metadata": {
    "collapsed": true
   },
   "outputs": [],
   "source": [
    "library(RColorBrewer)"
   ]
  },
  {
   "cell_type": "code",
   "execution_count": null,
   "metadata": {},
   "outputs": [],
   "source": [
    "(mycols = brewer.pal(8, \"Dark2\")[1:length(unique(condition))])"
   ]
  },
  {
   "cell_type": "code",
   "execution_count": null,
   "metadata": {
    "collapsed": true
   },
   "outputs": [],
   "source": [
    "sampleDists = as.matrix(dist(t(assay(rld))))"
   ]
  },
  {
   "cell_type": "code",
   "execution_count": null,
   "metadata": {},
   "outputs": [],
   "source": [
    "library(gplots)"
   ]
  },
  {
   "cell_type": "code",
   "execution_count": null,
   "metadata": {},
   "outputs": [],
   "source": [
    "heatmap(as.matrix(sampleDists), key=F, trace=\"none\",\n",
    "       col=colorpanel(100, \"black\", \"white\"),\n",
    "       ColSideColors=mycols[condition], RowSideColor=mycols[condition],\n",
    "       margin=c(10,10), main=\"Sample Distance Matrix\")"
   ]
  },
  {
   "cell_type": "markdown",
   "metadata": {},
   "source": [
    "## Principal component analysis"
   ]
  },
  {
   "cell_type": "code",
   "execution_count": null,
   "metadata": {
    "collapsed": true
   },
   "outputs": [],
   "source": [
    "rld_pca <- function (rld, intgroup = \"condition\", ntop = 500, colors=NULL, legendpos=\"bottomleft\", main=\"PCA Biplot\", textcx=1, ...) {\n",
    "  require(genefilter)\n",
    "  require(calibrate)\n",
    "  require(RColorBrewer)\n",
    "  rv = rowVars(assay(rld))\n",
    "  select = order(rv, decreasing = TRUE)[seq_len(min(ntop, length(rv)))]\n",
    "  pca = prcomp(t(assay(rld)[select, ]))\n",
    "  fac = factor(apply(as.data.frame(colData(rld)[, intgroup, drop = FALSE]), 1, paste, collapse = \" : \"))\n",
    "  if (is.null(colors)) {\n",
    "    if (nlevels(fac) >= 3) {\n",
    "      colors = brewer.pal(nlevels(fac), \"Paired\")\n",
    "    }   else {\n",
    "      colors = c(\"black\", \"red\")\n",
    "    }\n",
    "  }\n",
    "  pc1var <- round(summary(pca)$importance[2,1]*100, digits=1)\n",
    "  pc2var <- round(summary(pca)$importance[2,2]*100, digits=1)\n",
    "  pc1lab <- paste0(\"PC1 (\",as.character(pc1var),\"%)\")\n",
    "  pc2lab <- paste0(\"PC1 (\",as.character(pc2var),\"%)\")\n",
    "  plot(PC2~PC1, data=as.data.frame(pca$x), bg=colors[fac], pch=21, xlab=pc1lab, ylab=pc2lab, main=main, ...)\n",
    "  with(as.data.frame(pca$x), textxy(PC1, PC2, labs=rownames(as.data.frame(pca$x)), cex=textcx))\n",
    "  legend(legendpos, legend=levels(fac), col=colors, pch=20)\n",
    "  #     rldyplot(PC2 ~ PC1, groups = fac, data = as.data.frame(pca$rld),\n",
    "  #            pch = 16, cerld = 2, aspect = \"iso\", col = colours, main = draw.key(key = list(rect = list(col = colours),\n",
    "  #                                                                                         terldt = list(levels(fac)), rep = FALSE)))\n",
    "}"
   ]
  },
  {
   "cell_type": "code",
   "execution_count": null,
   "metadata": {},
   "outputs": [],
   "source": [
    "rld_pca(rld, colors=mycols, intgroup=\"condition\")"
   ]
  },
  {
   "cell_type": "markdown",
   "metadata": {},
   "source": [
    "## Get the differential expression results"
   ]
  },
  {
   "cell_type": "code",
   "execution_count": null,
   "metadata": {
    "collapsed": true
   },
   "outputs": [],
   "source": [
    "res = results(dds)"
   ]
  },
  {
   "cell_type": "code",
   "execution_count": null,
   "metadata": {},
   "outputs": [],
   "source": [
    "table(res$padj<0.05)"
   ]
  },
  {
   "cell_type": "code",
   "execution_count": null,
   "metadata": {},
   "outputs": [],
   "source": [
    "res = res[order(res$padj),]\n",
    "resdata = merge(as.data.frame(res), as.data.frame(counts(dds, normalized=TRUE)), by=\"row.names\", sort=FALSE)\n",
    "names(resdata)[1] = \"Gene\"\n",
    "head(resdata)"
   ]
  },
  {
   "cell_type": "code",
   "execution_count": null,
   "metadata": {
    "collapsed": true
   },
   "outputs": [],
   "source": [
    "write.csv(resdata, file=\"../results/d37bcm.deseq.csv\")"
   ]
  },
  {
   "cell_type": "code",
   "execution_count": null,
   "metadata": {},
   "outputs": [],
   "source": [
    "hist(res$pvalue, breaks=50, col=\"grey\")"
   ]
  },
  {
   "cell_type": "markdown",
   "metadata": {},
   "source": [
    "## MA plot"
   ]
  },
  {
   "cell_type": "code",
   "execution_count": null,
   "metadata": {
    "collapsed": true
   },
   "outputs": [],
   "source": [
    "maplot <- function (res, thresh=0.05, labelsig=TRUE, textcx=1, ...) {\n",
    "  with(res, plot(baseMean, log2FoldChange, pch=20, cex=.5, log=\"x\", ...))\n",
    "  with(subset(res, padj<thresh), points(baseMean, log2FoldChange, col=\"red\", pch=20, cex=1.5))\n",
    "  if (labelsig) {\n",
    "    require(calibrate)\n",
    "    with(subset(res, padj<thresh), textxy(baseMean, log2FoldChange, labs=Gene, cex=textcx, col=2))\n",
    "  }\n",
    "}"
   ]
  },
  {
   "cell_type": "code",
   "execution_count": null,
   "metadata": {},
   "outputs": [],
   "source": [
    "maplot(resdata, main=\"MA Plot\")"
   ]
  },
  {
   "cell_type": "markdown",
   "metadata": {},
   "source": [
    "## Volcano plot"
   ]
  },
  {
   "cell_type": "code",
   "execution_count": null,
   "metadata": {
    "collapsed": true
   },
   "outputs": [],
   "source": [
    "volcanoplot <- function (res, lfcthresh=2, sigthresh=0.05, main=\"Volcano Plot\", legendpos=\"bottomright\", labelsig=TRUE, textcx=1, ...) {\n",
    "  with(res, plot(log2FoldChange, -log10(pvalue), pch=20, main=main, ...))\n",
    "  with(subset(res, padj<sigthresh ), points(log2FoldChange, -log10(pvalue), pch=20, col=\"red\", ...))\n",
    "  with(subset(res, abs(log2FoldChange)>lfcthresh), points(log2FoldChange, -log10(pvalue), pch=20, col=\"orange\", ...))\n",
    "  with(subset(res, padj<sigthresh & abs(log2FoldChange)>lfcthresh), points(log2FoldChange, -log10(pvalue), pch=20, col=\"green\", ...))\n",
    "  if (labelsig) {\n",
    "    require(calibrate)\n",
    "    with(subset(res, padj<sigthresh & abs(log2FoldChange)>lfcthresh), textxy(log2FoldChange, -log10(pvalue), labs=Gene, cex=textcx, ...))\n",
    "  }\n",
    "  legend(legendpos, xjust=1, yjust=1, legend=c(paste(\"FDR<\",sigthresh,sep=\"\"), paste(\"|LogFC|>\",lfcthresh,sep=\"\"), \"both\"), pch=20, col=c(\"red\",\"orange\",\"green\"))\n",
    "}"
   ]
  },
  {
   "cell_type": "code",
   "execution_count": null,
   "metadata": {},
   "outputs": [],
   "source": [
    "volcanoplot(resdata, lfcthresh=1, sigthresh=0.05, textcx=.8)"
   ]
  },
  {
   "cell_type": "code",
   "execution_count": null,
   "metadata": {
    "collapsed": true
   },
   "outputs": [],
   "source": []
  }
 ],
 "metadata": {
  "kernelspec": {
   "display_name": "R",
   "language": "R",
   "name": "ir"
  },
  "language_info": {
   "codemirror_mode": "r",
   "file_extension": ".r",
   "mimetype": "text/x-r-source",
   "name": "R",
   "pygments_lexer": "r",
   "version": "3.4.1"
  }
 },
 "nbformat": 4,
 "nbformat_minor": 2
}
