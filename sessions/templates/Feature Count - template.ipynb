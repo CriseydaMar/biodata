{
 "cells": [
  {
   "cell_type": "markdown",
   "metadata": {},
   "source": [
    "## Count all reads\n",
    "\n",
    "The `htseq-count` version must comply with the python version in the environment. Officially, `htseq` only supports python2. However, there is a more or less fully functional python3 branch here: [https://github.com/simon-anders/htseq/tree/python3](https://github.com/simon-anders/htseq/tree/python3)\n",
    "\n",
    "To install it in your environment follow the instructions in README.\n",
    "\n",
    "Since `htseq-count` itself is not multithreaded, the best we can do is to launch a separate process for each sample and disown it (send to background). As long as the number of samples is less than the number of cores on `snowflake` we should be fine."
   ]
  },
  {
   "cell_type": "markdown",
   "metadata": {},
   "source": [
    "### Change these values."
   ]
  },
  {
   "cell_type": "code",
   "execution_count": null,
   "metadata": {},
   "outputs": [],
   "source": [
    "num_samples=6\n",
    "index=\"../ref/MG1655\"\n",
    "gff=\"../ref/NC_000913.gff\"\n",
    "sampleid=\"sample\"\n",
    "\n",
    "counter=$(which htseq-count)"
   ]
  },
  {
   "cell_type": "code",
   "execution_count": null,
   "metadata": {},
   "outputs": [],
   "source": [
    "for i in $(seq 1 $num_samples)\n",
    "do\n",
    "    sample=\"${sampleid}${i}\"\n",
    "    result_dir=\"../results/${sample}\"\n",
    "    bamfile=\"$result_dir/${sample}_sorted.bam\"\n",
    "    echo \"Processing: $bamfile\"\n",
    "    $counter -q -s no -t gene -i Name -r pos -a 0 -f bam \\\n",
    "        $bamfile $gff \\\n",
    "        > \"../results/${sample}/$(basename $bamfile .bam).counts\" &\n",
    "done"
   ]
  },
  {
   "cell_type": "code",
   "execution_count": null,
   "metadata": {},
   "outputs": [],
   "source": [
    "ls -lah ../results/sample1"
   ]
  }
 ],
 "metadata": {
  "kernelspec": {
   "display_name": "Bash",
   "language": "bash",
   "name": "bash"
  },
  "language_info": {
   "codemirror_mode": "shell",
   "file_extension": ".sh",
   "mimetype": "text/x-sh",
   "name": "bash"
  }
 },
 "nbformat": 4,
 "nbformat_minor": 2
}
