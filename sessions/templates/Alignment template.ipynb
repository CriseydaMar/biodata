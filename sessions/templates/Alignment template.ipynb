{
 "cells": [
  {
   "cell_type": "markdown",
   "metadata": {},
   "source": [
    "## Prepare reference\n",
    "\n",
    "Standard genomes are located in `/mnt/brick1/ref`.\n",
    "\n",
    "It's a good idea to symlink to the appropriate genome and/or index files from your project's `ref` directory.\n",
    "\n",
    "The following assumes the following tree for the project:\n",
    "\n",
    "```\n",
    ":--Project\n",
    "   |-ref\n",
    "   |-data\n",
    "     |-sample01\n",
    "     |-sample02\n",
    "     ...\n",
    "   |-results\n",
    "     |-sample01\n",
    "     |-sample02\n",
    "     ...\n",
    "   |-notebooks<you're working from here>\n",
    "```"
   ]
  },
  {
   "cell_type": "markdown",
   "metadata": {},
   "source": [
    "### Change these values. If `bowtie2` is not on the `PATH` assign its full path to `$aligner`"
   ]
  },
  {
   "cell_type": "code",
   "execution_count": null,
   "metadata": {},
   "outputs": [],
   "source": [
    "num_samples=6\n",
    "index=\"../ref/MG1655\"\n",
    "sampleid=\"sample\"\n",
    "\n",
    "aligner=$(which bowtie2)"
   ]
  },
  {
   "cell_type": "markdown",
   "metadata": {},
   "source": [
    "## Align reads\n",
    "\n",
    "Assuming we are working with paired end reads and that `bowtie2` is somewhere on your `PATH`. If it's not either add it's location to the `PATH` variable or include the full path to `bowtie2` executable below:"
   ]
  },
  {
   "cell_type": "code",
   "execution_count": null,
   "metadata": {
    "scrolled": true
   },
   "outputs": [],
   "source": [
    "base_dir=\"../data\"\n",
    "\n",
    "for i in $(seq 1 $num_samples)\n",
    "do\n",
    "    sample_dir=\"$base_dir/${sampleid}${i}\"\n",
    "    result_dir=\"../results/${sampleid}${i}\"\n",
    "    \n",
    "    if [ ! -d \"$result_dir\" ]; then\n",
    "        echo \"Creating $result_dir ...\"\n",
    "        mkdir -p $result_dir\n",
    "    fi\n",
    "    \n",
    "    read1=$sample_dir/read1.fifo\n",
    "    read2=$sample_dir/read2.fifo\n",
    "    mkfifo $read1\n",
    "    mkfifo $read2\n",
    "    \n",
    "    zcat $sample_dir/R1.fastq.gz > $read1 &\n",
    "    zcat $sample_dir/R2.fastq.gz > $read2 &\n",
    "    \n",
    "    # Align using bowtie2\n",
    "    $aligner -p 30 -x $index \\\n",
    "        -1 $read1 -2 $read2 \\\n",
    "        | samtools view -bhS - > \"$result_dir/${sampleid}${i}.bam\"\n",
    "    \n",
    "    rm $sample_dir/*.fifo\n",
    "    \n",
    "done"
   ]
  },
  {
   "cell_type": "markdown",
   "metadata": {},
   "source": [
    "## Sort and index `.bam` files\n",
    "\n",
    "Same rationale applies to `samtools` below.\n",
    "\n",
    "Assuming `samtools` version > 1.5."
   ]
  },
  {
   "cell_type": "code",
   "execution_count": null,
   "metadata": {},
   "outputs": [],
   "source": [
    "base_dir=\"../data\"\n",
    "\n",
    "for i in $(seq 1 $num_samples)\n",
    "do\n",
    "    result_dir=\"../results/${sampleid}${i}\"\n",
    "    samtools sort \"$result_dir/${sampleid}${i}.bam\" \\\n",
    "        -@ 30 \\\n",
    "        -o \"$result_dir/${sampleid}${i}_sorted.bam\"\n",
    "done"
   ]
  },
  {
   "cell_type": "code",
   "execution_count": null,
   "metadata": {},
   "outputs": [],
   "source": [
    "# index .bam files\n",
    "\n",
    "for i in $(seq 1 $num_samples)\n",
    "do\n",
    "    result_dir=\"../results/${sampleid}${i}\"\n",
    "    samtools index -@ 30 \"$result_dir/${sampleid}${i}_sorted.bam\"\n",
    "done"
   ]
  }
 ],
 "metadata": {
  "kernelspec": {
   "display_name": "Bash",
   "language": "bash",
   "name": "bash"
  },
  "language_info": {
   "codemirror_mode": "shell",
   "file_extension": ".sh",
   "mimetype": "text/x-sh",
   "name": "bash"
  }
 },
 "nbformat": 4,
 "nbformat_minor": 1
}
