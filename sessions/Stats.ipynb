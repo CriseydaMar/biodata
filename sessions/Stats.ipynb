{
 "cells": [
  {
   "cell_type": "markdown",
   "metadata": {},
   "source": [
    "# https://raw.githubusercontent.com/eco32i/biodata/master/data/gradtimes.txt"
   ]
  },
  {
   "cell_type": "markdown",
   "metadata": {},
   "source": [
    "# Graduation time by training program\n",
    "<p>COB vs NEURO (see slide)</p>"
   ]
  },
  {
   "cell_type": "code",
   "execution_count": 53,
   "metadata": {
    "collapsed": false
   },
   "outputs": [
    {
     "name": "stdout",
     "output_type": "stream",
     "text": [
      "Hellow\n"
     ]
    }
   ],
   "source": [
    "print(\"Hellow\")"
   ]
  },
  {
   "cell_type": "code",
   "execution_count": 54,
   "metadata": {
    "collapsed": false
   },
   "outputs": [
    {
     "name": "stdout",
     "output_type": "stream",
     "text": [
      "2\n"
     ]
    }
   ],
   "source": [
    "print(1+1)"
   ]
  },
  {
   "cell_type": "code",
   "execution_count": 56,
   "metadata": {
    "collapsed": false
   },
   "outputs": [
    {
     "name": "stdout",
     "output_type": "stream",
     "text": [
      "asdfwer\n"
     ]
    }
   ],
   "source": [
    "x = 'asdf' + 'wer'\n",
    "print(x)"
   ]
  },
  {
   "cell_type": "code",
   "execution_count": 64,
   "metadata": {
    "collapsed": false
   },
   "outputs": [],
   "source": [
    "x = [3,4,'asdf']"
   ]
  },
  {
   "cell_type": "code",
   "execution_count": 68,
   "metadata": {
    "collapsed": false
   },
   "outputs": [
    {
     "name": "stdout",
     "output_type": "stream",
     "text": [
      "asdf\n"
     ]
    }
   ],
   "source": [
    "print x[-1]"
   ]
  },
  {
   "cell_type": "code",
   "execution_count": 59,
   "metadata": {
    "collapsed": false
   },
   "outputs": [
    {
     "name": "stdout",
     "output_type": "stream",
     "text": [
      "NEURO\t7.59\n",
      "\n"
     ]
    }
   ],
   "source": [
    "f = open('../data/gradtimes.txt','r')\n",
    "print(f.readline())"
   ]
  },
  {
   "cell_type": "code",
   "execution_count": 62,
   "metadata": {
    "collapsed": false
   },
   "outputs": [
    {
     "name": "stdout",
     "output_type": "stream",
     "text": [
      "525\n"
     ]
    }
   ],
   "source": [
    "f = open('../data/gradtimes.txt','r')\n",
    "numStudents = 0\n",
    "for line in f:\n",
    "    numStudents = numStudents + 1\n",
    "\n",
    "print(numStudents)"
   ]
  },
  {
   "cell_type": "code",
   "execution_count": 87,
   "metadata": {
    "collapsed": false
   },
   "outputs": [
    {
     "name": "stdout",
     "output_type": "stream",
     "text": [
      "0\n",
      "84\n"
     ]
    }
   ],
   "source": [
    "f = open('/Users/justinjee/Desktop/neuro.txt','r')\n",
    "allTimes = []\n",
    "\n",
    "print(len(allTimes))\n",
    "\n",
    "for line in f:\n",
    "    (program, time) = line.split()\n",
    "    allTimes.append(float(time))\n",
    "    \n",
    "print(len(allTimes))"
   ]
  },
  {
   "cell_type": "code",
   "execution_count": 97,
   "metadata": {
    "collapsed": false
   },
   "outputs": [
    {
     "name": "stdout",
     "output_type": "stream",
     "text": [
      "58\n",
      "13.0\n"
     ]
    }
   ],
   "source": [
    "a  ='5'\n",
    "b = '8'\n",
    "print(a+b)\n",
    "print(int(a)+float(b))"
   ]
  },
  {
   "cell_type": "code",
   "execution_count": 88,
   "metadata": {
    "collapsed": false
   },
   "outputs": [
    {
     "name": "stdout",
     "output_type": "stream",
     "text": [
      "5.93273809524\n"
     ]
    }
   ],
   "source": [
    "print(sum(allTimes)/len(allTimes))"
   ]
  },
  {
   "cell_type": "code",
   "execution_count": 89,
   "metadata": {
    "collapsed": false
   },
   "outputs": [
    {
     "name": "stdout",
     "output_type": "stream",
     "text": [
      "5.33195011338\n"
     ]
    }
   ],
   "source": [
    "f = open('/Users/justinjee/Desktop/nonneuro.txt','r')\n",
    "allTimes = []\n",
    "for line in f:\n",
    "    (program, time) = line.split()\n",
    "    allTimes.append(float(time))\n",
    "    \n",
    "print(sum(allTimes)/len(allTimes))"
   ]
  },
  {
   "cell_type": "code",
   "execution_count": 118,
   "metadata": {
    "collapsed": false
   },
   "outputs": [
    {
     "name": "stdout",
     "output_type": "stream",
     "text": [
      "5.23404761905\n"
     ]
    }
   ],
   "source": [
    "import random\n",
    "r = random.sample(allTimes,84)\n",
    "print sum(r)/len(r)"
   ]
  },
  {
   "cell_type": "code",
   "execution_count": 121,
   "metadata": {
    "collapsed": false
   },
   "outputs": [
    {
     "name": "stdout",
     "output_type": "stream",
     "text": [
      "0.00023\n"
     ]
    }
   ],
   "source": [
    "n = 0\n",
    "for i in range(100000):\n",
    "    r = random.sample(allTimes,84)\n",
    "    if sum(r)/len(r)>=5.93:\n",
    "        n+=1\n",
    "        \n",
    "print n/100000.0"
   ]
  },
  {
   "cell_type": "markdown",
   "metadata": {},
   "source": [
    "# standard deviation vs. standard deviation of the mean"
   ]
  },
  {
   "cell_type": "code",
   "execution_count": 126,
   "metadata": {
    "collapsed": false
   },
   "outputs": [
    {
     "name": "stdout",
     "output_type": "stream",
     "text": [
      "2\n",
      "0.816496580928\n"
     ]
    }
   ],
   "source": [
    "def mean(a):\n",
    "    return sum(a)/len(a)\n",
    "\n",
    "a = [1,2,3]\n",
    "print mean(a)\n",
    "\n",
    "def std(a):\n",
    "    er = 0\n",
    "    for i in a:\n",
    "        er+= (mean(a)-i)**2\n",
    "    return (float(er)/len(a))**0.5\n",
    "\n",
    "print std(a)"
   ]
  },
  {
   "cell_type": "code",
   "execution_count": 134,
   "metadata": {
    "collapsed": false
   },
   "outputs": [
    {
     "name": "stdout",
     "output_type": "stream",
     "text": [
      "5.18821428571\n",
      "1.77516542537\n"
     ]
    }
   ],
   "source": [
    "r = random.sample(allTimes,84)\n",
    "print(mean(r))\n",
    "print(std(r))"
   ]
  },
  {
   "cell_type": "code",
   "execution_count": 130,
   "metadata": {
    "collapsed": false
   },
   "outputs": [
    {
     "name": "stdout",
     "output_type": "stream",
     "text": [
      "1.62119571987\n"
     ]
    }
   ],
   "source": [
    "print(std(allTimes))"
   ]
  },
  {
   "cell_type": "code",
   "execution_count": 140,
   "metadata": {
    "collapsed": false
   },
   "outputs": [
    {
     "name": "stdout",
     "output_type": "stream",
     "text": [
      "1.62119571987\n",
      "0.151228617705\n"
     ]
    }
   ],
   "source": [
    "means = []\n",
    "for i in range(10):\n",
    "    r = random.sample(allTimes,84)\n",
    "    means.append(mean(r))\n",
    "\n",
    "print std(allTimes)\n",
    "print std(means) #standard error of the mean!"
   ]
  },
  {
   "cell_type": "code",
   "execution_count": 142,
   "metadata": {
    "collapsed": false
   },
   "outputs": [
    {
     "name": "stdout",
     "output_type": "stream",
     "text": [
      "0.176886954825\n"
     ]
    }
   ],
   "source": [
    "print std(allTimes)/(84)**0.5 #theoretical standard error of the mean"
   ]
  },
  {
   "cell_type": "code",
   "execution_count": null,
   "metadata": {
    "collapsed": true
   },
   "outputs": [],
   "source": []
  }
 ],
 "metadata": {
  "kernelspec": {
   "display_name": "Python 2",
   "language": "python",
   "name": "python2"
  },
  "language_info": {
   "codemirror_mode": {
    "name": "ipython",
    "version": 2
   },
   "file_extension": ".py",
   "mimetype": "text/x-python",
   "name": "python",
   "nbconvert_exporter": "python",
   "pygments_lexer": "ipython2",
   "version": "2.7.10"
  }
 },
 "nbformat": 4,
 "nbformat_minor": 0
}
