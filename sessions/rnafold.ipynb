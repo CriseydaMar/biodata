{
 "cells": [
  {
   "cell_type": "code",
   "execution_count": null,
   "metadata": {
    "collapsed": false
   },
   "outputs": [],
   "source": [
    "from bokeh.plotting import *\n",
    "from bokeh.models import HoverTool, ColumnDataSource"
   ]
  },
  {
   "cell_type": "code",
   "execution_count": null,
   "metadata": {
    "collapsed": false
   },
   "outputs": [],
   "source": [
    "%matplotlib inline"
   ]
  },
  {
   "cell_type": "code",
   "execution_count": null,
   "metadata": {
    "collapsed": false
   },
   "outputs": [],
   "source": [
    "output_notebook()"
   ]
  },
  {
   "cell_type": "code",
   "execution_count": null,
   "metadata": {
    "collapsed": false
   },
   "outputs": [],
   "source": [
    "import pandas as pd\n",
    "import numpy as np\n",
    "from ggplot import *\n",
    "from proscatter.parse import parse_fasta"
   ]
  },
  {
   "cell_type": "code",
   "execution_count": null,
   "metadata": {
    "collapsed": false
   },
   "outputs": [],
   "source": [
    "def compute_prob_vector(ps_file, prob_paired=True):\n",
    "    '''\n",
    "    Given a text file derived from the RNAfold output of the form\n",
    "    \n",
    "    i    j    sqrt(prob)   ubox\n",
    "    \n",
    "    computes a vector (dict) of probabilities for every nucleotide\n",
    "    to be in paired (or unpaired) state.\n",
    "    '''\n",
    "    prob_vector = {}\n",
    "    with open(ps_file) as fi:\n",
    "        for line in fi.readlines():\n",
    "            line = line.strip()\n",
    "            posi, posj, sqrt_prob, box = line.split()\n",
    "            i,j = int(posi), int(posj)\n",
    "            curr_i = prob_vector.get(i, 0.)\n",
    "            curr_j = prob_vector.get(j, 0.)\n",
    "            prob_vector.update({\n",
    "                i: curr_i + float(sqrt_prob)**2,\n",
    "                j: curr_j + float(sqrt_prob)**2,\n",
    "            })\n",
    "    if not prob_paired:\n",
    "        prob_vector = dict([(pos, 1-p) for pos,p in prob_vector.items()])\n",
    "    return prob_vector"
   ]
  },
  {
   "cell_type": "code",
   "execution_count": null,
   "metadata": {
    "collapsed": false
   },
   "outputs": [],
   "source": [
    "def trange_df(base_name, trange=range(35,43), abs_value=True):\n",
    "    '''\n",
    "    Same as `compute_diff_df` but builds dataframe in a long format\n",
    "    suitable for ggplot faceting.\n",
    "    '''\n",
    "    T0 = trange[0]\n",
    "    prob0 = pd.Series(list(compute_prob_vector('%s_%d.txt' % (base_name, T0)).values()))\n",
    "    chunks = []\n",
    "    for temp in trange[1:]:\n",
    "        df = pd.DataFrame()\n",
    "        prob_vector = compute_prob_vector('%s_%d.txt' % (base_name,temp))\n",
    "        df['pos'] = prob_vector.keys()\n",
    "        if abs_value:\n",
    "            df['Diff'] = abs(pd.Series(list(prob_vector.values())) - prob0)\n",
    "        else:\n",
    "            df['Diff'] = pd.Series(list(prob_vector.values())) - prob0\n",
    "        df['Temp'] = temp\n",
    "        chunks.append(df)\n",
    "    return pd.concat(chunks)"
   ]
  },
  {
   "cell_type": "code",
   "execution_count": null,
   "metadata": {
    "collapsed": false
   },
   "outputs": [],
   "source": [
    "def compute_diff_df(base_name, trange=range(35,43), abs_value=True):\n",
    "    '''\n",
    "    Given the base_name for tab-delimited files containing base\n",
    "    pairing probabilities calculated by RNAfold computes a\n",
    "    dataframe containing probability difference vectors for each\n",
    "    temperature value in the range relative to the lowest T in the\n",
    "    range.\n",
    "    '''\n",
    "    T0 = trange[0]\n",
    "    prob = compute_prob_vector('%s_%d.txt' % (base_name, T0))\n",
    "    df = pd.DataFrame(prob.items(), columns=['Position', 'Prob_%d' % T0])\n",
    "    for temp in trange[1:]:\n",
    "        prob = compute_prob_vector('%s_%d.txt' % (base_name, temp))\n",
    "        prob_key = 'Prob_%d' % temp\n",
    "        df[prob_key] = pd.Series(prob.values())\n",
    "        if abs_value:\n",
    "            df['Diff_%d' % temp] = abs(df[prob_key] - df['Prob_%d' % T0])\n",
    "        else:\n",
    "            df['Diff_%d' % temp] = df[prob_key] - df['Prob_%d' % T0]\n",
    "    return df"
   ]
  },
  {
   "cell_type": "code",
   "execution_count": null,
   "metadata": {
    "collapsed": false,
    "scrolled": true
   },
   "outputs": [],
   "source": [
    "df = trange_df('../data/ROSE1', range(25,46))"
   ]
  },
  {
   "cell_type": "code",
   "execution_count": null,
   "metadata": {
    "collapsed": false,
    "scrolled": true
   },
   "outputs": [],
   "source": [
    "df"
   ]
  },
  {
   "cell_type": "code",
   "execution_count": null,
   "metadata": {
    "collapsed": false
   },
   "outputs": [],
   "source": [
    "from bokeh.plotting import *\n",
    "from bokeh.models import HoverTool, ColumnDataSource"
   ]
  },
  {
   "cell_type": "code",
   "execution_count": null,
   "metadata": {
    "collapsed": false
   },
   "outputs": [],
   "source": [
    "fasta = parse_fasta('../data/rose.fa')\n",
    "for rec in fasta:\n",
    "    id, seq = rec\n",
    "    \n",
    "#df['seq'] = 12 * [base for base in seq]\n",
    "df['seq'] = [seq[x-1] for x in df['pos']]"
   ]
  },
  {
   "cell_type": "code",
   "execution_count": null,
   "metadata": {
    "collapsed": false
   },
   "outputs": [],
   "source": [
    "def heatmap_T_range(df, temps, title=None):\n",
    "    from bokeh.models import LinearAxis, SingleIntervalTicker\n",
    "    data = df[['pos', 'seq', 'Temp', 'Diff']]\n",
    "    row_range = [str(x) for x in sorted(temps)]\n",
    "    col_range = [str(x) for x in set(df['pos'])]\n",
    "    source = ColumnDataSource(\n",
    "        data=dict(\n",
    "            row=[str(x) for x in data['Temp']],\n",
    "            col=[str(x) for x in data['pos']],\n",
    "            base=data['seq'],\n",
    "            alphas=data['Diff'],\n",
    "        )\n",
    "    )\n",
    "\n",
    "    p = figure(title=title,\n",
    "               tools='resize,save,box_zoom,reset,pan',\n",
    "               x_range=col_range, \n",
    "               y_range=row_range,\n",
    "               x_axis_type=None,\n",
    "               plot_width=800)\n",
    "\n",
    "    p.rect('col', 'row', 0.9, 0.9, source=source, alpha='alphas', color='#FF7F00', line_color=None)\n",
    "    p.grid.grid_line_color = None\n",
    "    ticker = SingleIntervalTicker(interval=100, num_minor_ticks=10)\n",
    "    xaxis = LinearAxis(ticker=ticker)\n",
    "    p.add_layout(xaxis, 'below')\n",
    "    show(p)"
   ]
  },
  {
   "cell_type": "code",
   "execution_count": null,
   "metadata": {
    "collapsed": false
   },
   "outputs": [],
   "source": [
    "temps = set(df['Temp'])\n",
    "heatmap_T_range(df, temps, title='Human HSR1')"
   ]
  },
  {
   "cell_type": "code",
   "execution_count": null,
   "metadata": {
    "collapsed": false
   },
   "outputs": [],
   "source": [
    "df_dHSR = trange_df('data/dHSR1', range(25,38))"
   ]
  },
  {
   "cell_type": "code",
   "execution_count": null,
   "metadata": {
    "collapsed": false
   },
   "outputs": [],
   "source": [
    "fasta = parse_fasta('data/dHSR1.fa')\n",
    "for rec in fasta:\n",
    "    id, seq = rec\n",
    "    \n",
    "df_dHSR['seq'] = [seq[x-1] for x in df_dHSR['pos']]"
   ]
  },
  {
   "cell_type": "code",
   "execution_count": null,
   "metadata": {
    "collapsed": false
   },
   "outputs": [],
   "source": [
    "temps = set(df_dHSR['Temp'])\n",
    "heatmap_T_range(df_dHSR, temps, title='Drosophila HSR-1')"
   ]
  },
  {
   "cell_type": "code",
   "execution_count": null,
   "metadata": {
    "collapsed": false
   },
   "outputs": [],
   "source": [
    "df_ROSE = trange_df('test/ROSE1', range(25,46))\n",
    "fasta = parse_fasta('test/rose.fa')\n",
    "for rec in fasta:\n",
    "    id, seq = rec\n",
    "    \n",
    "df_ROSE['seq'] = [seq[x-1] for x in df_ROSE['pos']]"
   ]
  },
  {
   "cell_type": "code",
   "execution_count": null,
   "metadata": {
    "collapsed": false
   },
   "outputs": [],
   "source": [
    "temps = set(df_ROSE['Temp'])\n",
    "heatmap_T_range(df_ROSE, temps, title='ROSE-1')"
   ]
  },
  {
   "cell_type": "code",
   "execution_count": null,
   "metadata": {
    "collapsed": false
   },
   "outputs": [],
   "source": [
    "def sequence_heatmap(df, temp, num_cols=60):\n",
    "    from bokeh.models import LinearAxis, SingleIntervalTicker\n",
    "    data = df[df['Temp'] == temp]\n",
    "    num_rows = data.shape[0] / num_cols\n",
    "    if data.shape[0] % num_cols:\n",
    "        num_rows += 1\n",
    "\n",
    "    rows = [(x / num_cols) + 1 for x in range(data.shape[0])]\n",
    "    cols = [(x - x / num_cols * num_cols) + 1 for x in range(data.shape[0])]\n",
    "    \n",
    "\n",
    "    row_range = [str(x) for x in reversed(range(1,num_rows+1))]\n",
    "    col_range = [str(x) for x in range(1, num_cols)]\n",
    "    \n",
    "    source = ColumnDataSource(\n",
    "        data=dict(\n",
    "            row=[str(x) for x in rows],\n",
    "            col=[str(x) for x in cols],\n",
    "            base=data['seq'],\n",
    "            alphas=data['Diff'],\n",
    "        )\n",
    "    )\n",
    "    \n",
    "    p = figure(title='Human HSR1 prob diff', tools='resize,hover,save',\n",
    "           x_range=col_range, y_range=row_range, x_axis_type=None, plot_width=800)\n",
    "\n",
    "    p.rect('col', 'row', 0.9, 0.9, source=source, alpha='alphas', color='#FF7F00', line_color=None)\n",
    "    text_props = {\n",
    "        'source': source,\n",
    "        'angle': 0,\n",
    "        'color': 'black',\n",
    "        'text_color': '#586e75',\n",
    "        'text_align': 'center',\n",
    "        'text_baseline': 'middle',\n",
    "    }\n",
    "\n",
    "    p.text(x=dict(field='col', units='data'),\n",
    "           y=dict(field='row', units='data'),\n",
    "           text=dict(field='base', units='data'),\n",
    "           text_font_size='10pt', text_font_style='bold', **text_props)\n",
    "\n",
    "    p.grid.grid_line_color = None\n",
    "    hover = p.select(dict(type=HoverTool))\n",
    "    hover.tooltips = [\n",
    "        ('base', '@base'),\n",
    "        ('shape', '@alphas')\n",
    "    ]\n",
    "    ticker = SingleIntervalTicker(interval=10, num_minor_ticks=10)\n",
    "    xaxis = LinearAxis(ticker=ticker)\n",
    "    p.add_layout(xaxis, 'below')\n",
    "    \n",
    "    show(p)"
   ]
  },
  {
   "cell_type": "code",
   "execution_count": null,
   "metadata": {
    "collapsed": false
   },
   "outputs": [],
   "source": [
    "sequence_heatmap(df, temp=37)"
   ]
  },
  {
   "cell_type": "code",
   "execution_count": null,
   "metadata": {
    "collapsed": false
   },
   "outputs": [],
   "source": [
    "sequence_heatmap(df_ROSE, temp=37, num_cols=30)"
   ]
  },
  {
   "cell_type": "code",
   "execution_count": null,
   "metadata": {
    "collapsed": false
   },
   "outputs": [],
   "source": [
    "ggplot(df, aes(xmin='pos', xmax='pos+1', ymin=0, ymax='Diff')) + geom_rect() + facet_wrap('Temp')"
   ]
  },
  {
   "cell_type": "code",
   "execution_count": null,
   "metadata": {
    "collapsed": false
   },
   "outputs": [],
   "source": [
    "from pandas.stats.moments import rolling_mean\n",
    "\n",
    "def compute_rolling_mean(data, window=10):\n",
    "    df = data.copy()\n",
    "    df['rmean'] = 0\n",
    "    for temp in set(df['Temp']):\n",
    "        df.loc[df['Temp'] == temp, 'rmean'] = rolling_mean(df[df['Temp'] == temp]['Diff'], window=window)\n",
    "    return df"
   ]
  },
  {
   "cell_type": "code",
   "execution_count": null,
   "metadata": {
    "collapsed": false
   },
   "outputs": [],
   "source": [
    "df = trange_df('data/hHSR', range(32,48))\n",
    "ggplot(compute_rolling_mean(df, window=15), aes(x='pos', y='rmean')) \\\n",
    "        + geom_line() \\\n",
    "        + scale_y_continuous(limits=(0,0.25)) \\\n",
    "        + facet_wrap('Temp')"
   ]
  },
  {
   "cell_type": "code",
   "execution_count": null,
   "metadata": {
    "collapsed": false
   },
   "outputs": [],
   "source": [
    "df = trange_df('data/dHSR1', range(25,37))\n",
    "ggplot(compute_rolling_mean(df, window=12), aes(x='pos', y='rmean')) \\\n",
    "        + geom_line() \\\n",
    "        + facet_wrap('Temp')"
   ]
  },
  {
   "cell_type": "code",
   "execution_count": null,
   "metadata": {
    "collapsed": false
   },
   "outputs": [],
   "source": [
    "from IPython.html.widgets import interact\n",
    "\n",
    "def plot_T(temp):\n",
    "    p = ggplot(df[df['Temp'] == temp], aes(xmin='pos', xmax='pos+1', ymin=0, ymax='Diff')) + geom_rect()\n",
    "    print p\n",
    "    \n",
    "interact(plot_T, temp=(36,47))"
   ]
  },
  {
   "cell_type": "code",
   "execution_count": null,
   "metadata": {
    "collapsed": false
   },
   "outputs": [],
   "source": [
    "trange = range(35,48)\n",
    "df_hHSR = compute_diff_df('data/hHSR', trange)"
   ]
  },
  {
   "cell_type": "code",
   "execution_count": null,
   "metadata": {
    "collapsed": false
   },
   "outputs": [],
   "source": [
    "dfd = trange_df('data/dHSR1', range(25,38))\n",
    "ggplot(dfd, aes(xmin='pos', xmax='pos+1', ymin=0, ymax='Diff')) + geom_rect() + facet_wrap('Temp')"
   ]
  },
  {
   "cell_type": "code",
   "execution_count": null,
   "metadata": {
    "collapsed": false
   },
   "outputs": [],
   "source": [
    "def get_sig_positions(df, trange=range(37,43), num_sigma=6):\n",
    "    '''\n",
    "    Given the dataframe of probability differences for a T range\n",
    "    and the level of significannce in sigmas returns positions in the\n",
    "    dataframe where the probability difference at the highest T\n",
    "    exceeds the sigma threshold.\n",
    "    '''\n",
    "    colnames = ['Diff_%d' % temp for temp in trange[1:]]\n",
    "    diff_cols = [df[colname] for colname in colnames]\n",
    "    all_diff = pd.concat(diff_cols)\n",
    "    mean = all_diff.mean()\n",
    "    sigma = all_diff.std()\n",
    "    threshold = num_sigma * sigma\n",
    "    print 'Mean:\\t%f\\nSigma:\\t%f\\nThreshold:\\t%f\\n' % (mean, sigma, threshold)\n",
    "    return df[abs(df['Diff_%d' % trange[-1]] - mean) > threshold].sort(['Position'])\n",
    "\n",
    "get_sig_positions(df_hHSR, trange=trange, num_sigma=3)"
   ]
  },
  {
   "cell_type": "code",
   "execution_count": null,
   "metadata": {
    "collapsed": false
   },
   "outputs": [],
   "source": [
    "def plot_RMSD(df, trange=range(37,43)):\n",
    "    df_sum = pd.DataFrame()\n",
    "    df_sum['Temp'] = trange[1:]\n",
    "    mean = df['Diff'].mean()\n",
    "    df_sum['RMSD'] = [np.sqrt(((df[df['Temp'] == T]['Diff']-mean)**2).sum()) for T in trange[1:]]\n",
    "    #df_sum['RMSD'] = [df[df['Temp'] == T]['Diff'].sum() for T in trange[1:]]\n",
    "    p = ggplot(df_sum, aes(x='Temp', y='RMSD')) + geom_line()\n",
    "    print p"
   ]
  },
  {
   "cell_type": "code",
   "execution_count": null,
   "metadata": {
    "collapsed": false
   },
   "outputs": [],
   "source": [
    "plot_RMSD(df, trange=range(32,47))"
   ]
  },
  {
   "cell_type": "code",
   "execution_count": null,
   "metadata": {
    "collapsed": false
   },
   "outputs": [],
   "source": [
    "plot_RMSD(df, trange=range(34,42))"
   ]
  },
  {
   "cell_type": "code",
   "execution_count": null,
   "metadata": {
    "collapsed": false
   },
   "outputs": [],
   "source": [
    "trange1 = range(25,38)\n",
    "df_dHSR1 = compute_diff_df('data/dHSR1', trange1)\n",
    "get_sig_positions(df_dHSR1, trange1)"
   ]
  },
  {
   "cell_type": "code",
   "execution_count": null,
   "metadata": {
    "collapsed": false
   },
   "outputs": [],
   "source": [
    "df_dHSR1 = trange_df('data/dHSR1', range(26,37))\n",
    "plot_RMSD(df_dHSR1, trange=range(26,37))"
   ]
  },
  {
   "cell_type": "code",
   "execution_count": null,
   "metadata": {
    "collapsed": false
   },
   "outputs": [],
   "source": [
    "df_435 = compute_diff_df('data/hHSR435', trange)\n",
    "get_sig_positions(df_435, trange=trange)"
   ]
  },
  {
   "cell_type": "code",
   "execution_count": null,
   "metadata": {
    "collapsed": false
   },
   "outputs": [],
   "source": []
  }
 ],
 "metadata": {
  "kernelspec": {
   "display_name": "Python 3",
   "language": "python",
   "name": "python3"
  },
  "language_info": {
   "codemirror_mode": {
    "name": "ipython",
    "version": 3
   },
   "file_extension": ".py",
   "mimetype": "text/x-python",
   "name": "python",
   "nbconvert_exporter": "python",
   "pygments_lexer": "ipython3",
   "version": "3.4.3"
  }
 },
 "nbformat": 4,
 "nbformat_minor": 0
}
